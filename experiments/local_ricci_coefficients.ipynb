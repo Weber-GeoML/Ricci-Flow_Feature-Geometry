{
 "cells": [
  {
   "cell_type": "markdown",
   "id": "69b14f4b",
   "metadata": {},
   "source": [
    "# Local Ricci Evolution Coefficients\n",
    "\n",
    "In this notebook, we compute the local Ricci evolution coefficients for feed-forward neural networks. We test networks of different widths and depths, using both synthetic and real-world datasets. We begin by importing the necessary libraries."
   ]
  },
  {
   "cell_type": "code",
   "execution_count": 1,
   "id": "62601e1d",
   "metadata": {},
   "outputs": [
    {
     "name": "stdout",
     "output_type": "stream",
     "text": [
      "Using mps device\n"
     ]
    }
   ],
   "source": [
    "import matplotlib.pyplot as plt\n",
    "import pandas as pd\n",
    "import numpy as np\n",
    "import torch\n",
    "import torch.nn as nn\n",
    "from tqdm.auto import tqdm\n",
    "import os\n",
    "import sys\n",
    "\n",
    "sys.path.append(os.path.abspath('..'))\n",
    "from ricci_coefficients import Ricci_Coefficients\n",
    "from helpers import train_model\n",
    "from neural_networks import DNN\n",
    "from datasets import DatasetFactory\n",
    "\n",
    "device = torch.accelerator.current_accelerator().type if torch.accelerator.is_available() else \"cpu\"\n",
    "print(f\"Using {device} device\")\n",
    "\n",
    "num_iterations = 3      # Number of iterations used for averaging results"
   ]
  },
  {
   "cell_type": "markdown",
   "id": "4ec7218b",
   "metadata": {},
   "source": [
    "# 1. Real-World Datasets"
   ]
  },
  {
   "cell_type": "markdown",
   "id": "94d47a11",
   "metadata": {},
   "source": [
    "## 1.1 MNIST 1 vs. 7"
   ]
  },
  {
   "cell_type": "code",
   "execution_count": 2,
   "id": "450dde4f",
   "metadata": {},
   "outputs": [
    {
     "data": {
      "application/vnd.jupyter.widget-view+json": {
       "model_id": "21d01706fef548a4955a9c3ccbe64b55",
       "version_major": 2,
       "version_minor": 0
      },
      "text/plain": [
       "Width=15, Depth=7:   0%|          | 0/3 [00:00<?, ?it/s]"
      ]
     },
     "metadata": {},
     "output_type": "display_data"
    },
    {
     "data": {
      "application/vnd.jupyter.widget-view+json": {
       "model_id": "c1ef4e757ee4443191ec1061658444f4",
       "version_major": 2,
       "version_minor": 0
      },
      "text/plain": [
       "Width=15, Depth=10:   0%|          | 0/3 [00:00<?, ?it/s]"
      ]
     },
     "metadata": {},
     "output_type": "display_data"
    },
    {
     "data": {
      "application/vnd.jupyter.widget-view+json": {
       "model_id": "4464520167b94000ab6168746b8d6e79",
       "version_major": 2,
       "version_minor": 0
      },
      "text/plain": [
       "Width=15, Depth=15:   0%|          | 0/3 [00:00<?, ?it/s]"
      ]
     },
     "metadata": {},
     "output_type": "display_data"
    },
    {
     "data": {
      "application/vnd.jupyter.widget-view+json": {
       "model_id": "8b216c7aa4ae49348e77ce6af5846fae",
       "version_major": 2,
       "version_minor": 0
      },
      "text/plain": [
       "Width=25, Depth=7:   0%|          | 0/3 [00:00<?, ?it/s]"
      ]
     },
     "metadata": {},
     "output_type": "display_data"
    },
    {
     "data": {
      "application/vnd.jupyter.widget-view+json": {
       "model_id": "6216a599f0d84bcaa4b3ff0b0e9f3e87",
       "version_major": 2,
       "version_minor": 0
      },
      "text/plain": [
       "Width=25, Depth=10:   0%|          | 0/3 [00:00<?, ?it/s]"
      ]
     },
     "metadata": {},
     "output_type": "display_data"
    },
    {
     "data": {
      "application/vnd.jupyter.widget-view+json": {
       "model_id": "d598c5d5d6e64d02a9fdad6b622f4db7",
       "version_major": 2,
       "version_minor": 0
      },
      "text/plain": [
       "Width=25, Depth=15:   0%|          | 0/3 [00:00<?, ?it/s]"
      ]
     },
     "metadata": {},
     "output_type": "display_data"
    },
    {
     "data": {
      "application/vnd.jupyter.widget-view+json": {
       "model_id": "0894dbf0015f4a05b57d2878adce1a6c",
       "version_major": 2,
       "version_minor": 0
      },
      "text/plain": [
       "Width=50, Depth=7:   0%|          | 0/3 [00:00<?, ?it/s]"
      ]
     },
     "metadata": {},
     "output_type": "display_data"
    },
    {
     "data": {
      "application/vnd.jupyter.widget-view+json": {
       "model_id": "af89ee0a5bcd4758ab12a6826be6e131",
       "version_major": 2,
       "version_minor": 0
      },
      "text/plain": [
       "Width=50, Depth=10:   0%|          | 0/3 [00:00<?, ?it/s]"
      ]
     },
     "metadata": {},
     "output_type": "display_data"
    },
    {
     "data": {
      "application/vnd.jupyter.widget-view+json": {
       "model_id": "b3eeea4c545f42a1b1683ff26c0531b7",
       "version_major": 2,
       "version_minor": 0
      },
      "text/plain": [
       "Width=50, Depth=15:   0%|          | 0/3 [00:00<?, ?it/s]"
      ]
     },
     "metadata": {},
     "output_type": "display_data"
    },
    {
     "data": {
      "text/html": [
       "<div>\n",
       "<style scoped>\n",
       "    .dataframe tbody tr th:only-of-type {\n",
       "        vertical-align: middle;\n",
       "    }\n",
       "\n",
       "    .dataframe tbody tr th {\n",
       "        vertical-align: top;\n",
       "    }\n",
       "\n",
       "    .dataframe thead th {\n",
       "        text-align: right;\n",
       "    }\n",
       "</style>\n",
       "<table border=\"1\" class=\"dataframe\">\n",
       "  <thead>\n",
       "    <tr style=\"text-align: right;\">\n",
       "      <th></th>\n",
       "      <th>Width</th>\n",
       "      <th>Depth</th>\n",
       "      <th>Mean_Ricci</th>\n",
       "      <th>Std_Ricci</th>\n",
       "      <th>Negative_Share</th>\n",
       "    </tr>\n",
       "  </thead>\n",
       "  <tbody>\n",
       "    <tr>\n",
       "      <th>0</th>\n",
       "      <td>15</td>\n",
       "      <td>7</td>\n",
       "      <td>-0.840412</td>\n",
       "      <td>0.011437</td>\n",
       "      <td>0.989667</td>\n",
       "    </tr>\n",
       "    <tr>\n",
       "      <th>1</th>\n",
       "      <td>15</td>\n",
       "      <td>10</td>\n",
       "      <td>-0.728404</td>\n",
       "      <td>0.224981</td>\n",
       "      <td>0.877333</td>\n",
       "    </tr>\n",
       "    <tr>\n",
       "      <th>2</th>\n",
       "      <td>15</td>\n",
       "      <td>15</td>\n",
       "      <td>-0.843499</td>\n",
       "      <td>0.028459</td>\n",
       "      <td>1.000000</td>\n",
       "    </tr>\n",
       "    <tr>\n",
       "      <th>3</th>\n",
       "      <td>25</td>\n",
       "      <td>7</td>\n",
       "      <td>-0.831477</td>\n",
       "      <td>0.010711</td>\n",
       "      <td>0.994667</td>\n",
       "    </tr>\n",
       "    <tr>\n",
       "      <th>4</th>\n",
       "      <td>25</td>\n",
       "      <td>10</td>\n",
       "      <td>-0.825550</td>\n",
       "      <td>0.017649</td>\n",
       "      <td>0.995333</td>\n",
       "    </tr>\n",
       "    <tr>\n",
       "      <th>5</th>\n",
       "      <td>25</td>\n",
       "      <td>15</td>\n",
       "      <td>-0.842603</td>\n",
       "      <td>0.036717</td>\n",
       "      <td>0.999667</td>\n",
       "    </tr>\n",
       "    <tr>\n",
       "      <th>6</th>\n",
       "      <td>50</td>\n",
       "      <td>7</td>\n",
       "      <td>-0.831773</td>\n",
       "      <td>0.014149</td>\n",
       "      <td>0.993667</td>\n",
       "    </tr>\n",
       "    <tr>\n",
       "      <th>7</th>\n",
       "      <td>50</td>\n",
       "      <td>10</td>\n",
       "      <td>-0.852872</td>\n",
       "      <td>0.006314</td>\n",
       "      <td>0.999333</td>\n",
       "    </tr>\n",
       "    <tr>\n",
       "      <th>8</th>\n",
       "      <td>50</td>\n",
       "      <td>15</td>\n",
       "      <td>-0.856460</td>\n",
       "      <td>0.021603</td>\n",
       "      <td>1.000000</td>\n",
       "    </tr>\n",
       "  </tbody>\n",
       "</table>\n",
       "</div>"
      ],
      "text/plain": [
       "   Width  Depth  Mean_Ricci  Std_Ricci  Negative_Share\n",
       "0     15      7   -0.840412   0.011437        0.989667\n",
       "1     15     10   -0.728404   0.224981        0.877333\n",
       "2     15     15   -0.843499   0.028459        1.000000\n",
       "3     25      7   -0.831477   0.010711        0.994667\n",
       "4     25     10   -0.825550   0.017649        0.995333\n",
       "5     25     15   -0.842603   0.036717        0.999667\n",
       "6     50      7   -0.831773   0.014149        0.993667\n",
       "7     50     10   -0.852872   0.006314        0.999333\n",
       "8     50     15   -0.856460   0.021603        1.000000"
      ]
     },
     "execution_count": 2,
     "metadata": {},
     "output_type": "execute_result"
    }
   ],
   "source": [
    "# Load datasets\n",
    "X_train_MNIST_17, y_train_MNIST_17, X_test_MNIST_17, y_test_MNIST_17 = DatasetFactory.load_MNIST(digits=(1,7))\n",
    "\n",
    "# Width and depths of networks\n",
    "widths, depths = [15, 25, 50], [7, 10, 15]\n",
    "\n",
    "# Dataframe for results\n",
    "df_results = pd.DataFrame(columns=[\"Width\", \"Depth\", \"Mean_Ricci\", \"Std_Ricci\", \"Negative_Share\"])\n",
    "\n",
    "for width in widths:\n",
    "    for depth in depths:\n",
    "        local_ricci_coefs_mean = []\n",
    "        share_negative = []\n",
    "\n",
    "        for _ in tqdm(range(num_iterations), desc=f\"Width={width}, Depth={depth}\"):\n",
    "            # Train model\n",
    "            model = DNN(input_dimension=784, hidden_units=width, depth=depth, vision_model=True)\n",
    "            train_model(\n",
    "                threshold_accuracy=99,\n",
    "                model=model,\n",
    "                X_train=X_train_MNIST_17,\n",
    "                y_train=y_train_MNIST_17,\n",
    "                X_test=X_test_MNIST_17,\n",
    "                y_test=y_test_MNIST_17\n",
    "            )\n",
    "\n",
    "            # Compute local Ricci evolution coefficients (using augmented-Forman Ricci curvature; for Ollivier use 'Ollivier-Ricci' and for the approximation of Ollivier use 'Approx-Ollivier-Ricci')\n",
    "            local_ricci = Ricci_Coefficients(\n",
    "                model, X_test_MNIST_17, 50\n",
    "            ).local_ricci_coefficient(curv='Augmented-Forman-Ricci')\n",
    "            local_ricci_coefs_mean.append(np.nanmean(local_ricci))\n",
    "            valid = local_ricci[~np.isnan(local_ricci)]\n",
    "            share_negative.append(np.mean(valid < 0))\n",
    "\n",
    "        # Compute final aggregated stats and add to dataframe\n",
    "        mean_of_means = np.mean(local_ricci_coefs_mean)\n",
    "        std_of_means = np.std(local_ricci_coefs_mean)\n",
    "        mean_of_neg_share = np.mean(share_negative)\n",
    "        df_results.loc[len(df_results)] = [width, depth, mean_of_means, std_of_means, mean_of_neg_share]\n",
    "\n",
    "df_results[\"Width\"] = df_results[\"Width\"].astype(int)\n",
    "df_results[\"Depth\"] = df_results[\"Depth\"].astype(int)\n",
    "df_results.head(9)\n"
   ]
  },
  {
   "cell_type": "markdown",
   "id": "a57400de",
   "metadata": {},
   "source": [
    "## 1.2 MNIST 6 vs. 9"
   ]
  },
  {
   "cell_type": "code",
   "execution_count": 8,
   "id": "55177e95",
   "metadata": {},
   "outputs": [
    {
     "data": {
      "application/vnd.jupyter.widget-view+json": {
       "model_id": "f2d6598034ac4eaba601b70b94900d24",
       "version_major": 2,
       "version_minor": 0
      },
      "text/plain": [
       "Width=15, Depth=7:   0%|          | 0/3 [00:00<?, ?it/s]"
      ]
     },
     "metadata": {},
     "output_type": "display_data"
    },
    {
     "data": {
      "application/vnd.jupyter.widget-view+json": {
       "model_id": "40bad51a557d4e009a190145d73b3047",
       "version_major": 2,
       "version_minor": 0
      },
      "text/plain": [
       "Width=15, Depth=10:   0%|          | 0/3 [00:00<?, ?it/s]"
      ]
     },
     "metadata": {},
     "output_type": "display_data"
    },
    {
     "data": {
      "application/vnd.jupyter.widget-view+json": {
       "model_id": "373f02e6bb1743e2bdd934457fdae879",
       "version_major": 2,
       "version_minor": 0
      },
      "text/plain": [
       "Width=15, Depth=15:   0%|          | 0/3 [00:00<?, ?it/s]"
      ]
     },
     "metadata": {},
     "output_type": "display_data"
    },
    {
     "data": {
      "application/vnd.jupyter.widget-view+json": {
       "model_id": "3c5a1cdf449c426696e8ba696a7f9b47",
       "version_major": 2,
       "version_minor": 0
      },
      "text/plain": [
       "Width=25, Depth=7:   0%|          | 0/3 [00:00<?, ?it/s]"
      ]
     },
     "metadata": {},
     "output_type": "display_data"
    },
    {
     "data": {
      "application/vnd.jupyter.widget-view+json": {
       "model_id": "8882828702e140da9b639152390e00a8",
       "version_major": 2,
       "version_minor": 0
      },
      "text/plain": [
       "Width=25, Depth=10:   0%|          | 0/3 [00:00<?, ?it/s]"
      ]
     },
     "metadata": {},
     "output_type": "display_data"
    },
    {
     "data": {
      "application/vnd.jupyter.widget-view+json": {
       "model_id": "eb3ae866a6cc4bb089a921cd65ab988c",
       "version_major": 2,
       "version_minor": 0
      },
      "text/plain": [
       "Width=25, Depth=15:   0%|          | 0/3 [00:00<?, ?it/s]"
      ]
     },
     "metadata": {},
     "output_type": "display_data"
    },
    {
     "data": {
      "application/vnd.jupyter.widget-view+json": {
       "model_id": "447a4a231b63419f9917e6eba9381a62",
       "version_major": 2,
       "version_minor": 0
      },
      "text/plain": [
       "Width=50, Depth=7:   0%|          | 0/3 [00:00<?, ?it/s]"
      ]
     },
     "metadata": {},
     "output_type": "display_data"
    },
    {
     "data": {
      "application/vnd.jupyter.widget-view+json": {
       "model_id": "83db737b76fe4b439b53599dc5efe6fd",
       "version_major": 2,
       "version_minor": 0
      },
      "text/plain": [
       "Width=50, Depth=10:   0%|          | 0/3 [00:00<?, ?it/s]"
      ]
     },
     "metadata": {},
     "output_type": "display_data"
    },
    {
     "data": {
      "application/vnd.jupyter.widget-view+json": {
       "model_id": "20c9155d4a8e49469e87bafd6e488e90",
       "version_major": 2,
       "version_minor": 0
      },
      "text/plain": [
       "Width=50, Depth=15:   0%|          | 0/3 [00:00<?, ?it/s]"
      ]
     },
     "metadata": {},
     "output_type": "display_data"
    },
    {
     "data": {
      "text/html": [
       "<div>\n",
       "<style scoped>\n",
       "    .dataframe tbody tr th:only-of-type {\n",
       "        vertical-align: middle;\n",
       "    }\n",
       "\n",
       "    .dataframe tbody tr th {\n",
       "        vertical-align: top;\n",
       "    }\n",
       "\n",
       "    .dataframe thead th {\n",
       "        text-align: right;\n",
       "    }\n",
       "</style>\n",
       "<table border=\"1\" class=\"dataframe\">\n",
       "  <thead>\n",
       "    <tr style=\"text-align: right;\">\n",
       "      <th></th>\n",
       "      <th>Width</th>\n",
       "      <th>Depth</th>\n",
       "      <th>Mean_Ricci</th>\n",
       "      <th>Std_Ricci</th>\n",
       "      <th>Negative_Share</th>\n",
       "    </tr>\n",
       "  </thead>\n",
       "  <tbody>\n",
       "    <tr>\n",
       "      <th>0</th>\n",
       "      <td>15</td>\n",
       "      <td>7</td>\n",
       "      <td>-0.661274</td>\n",
       "      <td>0.107360</td>\n",
       "      <td>0.944333</td>\n",
       "    </tr>\n",
       "    <tr>\n",
       "      <th>1</th>\n",
       "      <td>15</td>\n",
       "      <td>10</td>\n",
       "      <td>-0.823126</td>\n",
       "      <td>0.048389</td>\n",
       "      <td>0.991000</td>\n",
       "    </tr>\n",
       "    <tr>\n",
       "      <th>2</th>\n",
       "      <td>15</td>\n",
       "      <td>15</td>\n",
       "      <td>-0.866807</td>\n",
       "      <td>0.013804</td>\n",
       "      <td>0.999667</td>\n",
       "    </tr>\n",
       "    <tr>\n",
       "      <th>3</th>\n",
       "      <td>25</td>\n",
       "      <td>7</td>\n",
       "      <td>-0.808822</td>\n",
       "      <td>0.025502</td>\n",
       "      <td>0.987333</td>\n",
       "    </tr>\n",
       "    <tr>\n",
       "      <th>4</th>\n",
       "      <td>25</td>\n",
       "      <td>10</td>\n",
       "      <td>-0.868956</td>\n",
       "      <td>0.015512</td>\n",
       "      <td>0.999333</td>\n",
       "    </tr>\n",
       "    <tr>\n",
       "      <th>5</th>\n",
       "      <td>25</td>\n",
       "      <td>15</td>\n",
       "      <td>-0.863791</td>\n",
       "      <td>0.030146</td>\n",
       "      <td>0.999667</td>\n",
       "    </tr>\n",
       "    <tr>\n",
       "      <th>6</th>\n",
       "      <td>50</td>\n",
       "      <td>7</td>\n",
       "      <td>-0.338923</td>\n",
       "      <td>0.295444</td>\n",
       "      <td>0.682000</td>\n",
       "    </tr>\n",
       "    <tr>\n",
       "      <th>7</th>\n",
       "      <td>50</td>\n",
       "      <td>10</td>\n",
       "      <td>-0.823590</td>\n",
       "      <td>0.043247</td>\n",
       "      <td>0.996667</td>\n",
       "    </tr>\n",
       "    <tr>\n",
       "      <th>8</th>\n",
       "      <td>50</td>\n",
       "      <td>15</td>\n",
       "      <td>-0.865847</td>\n",
       "      <td>0.010487</td>\n",
       "      <td>1.000000</td>\n",
       "    </tr>\n",
       "  </tbody>\n",
       "</table>\n",
       "</div>"
      ],
      "text/plain": [
       "   Width  Depth  Mean_Ricci  Std_Ricci  Negative_Share\n",
       "0     15      7   -0.661274   0.107360        0.944333\n",
       "1     15     10   -0.823126   0.048389        0.991000\n",
       "2     15     15   -0.866807   0.013804        0.999667\n",
       "3     25      7   -0.808822   0.025502        0.987333\n",
       "4     25     10   -0.868956   0.015512        0.999333\n",
       "5     25     15   -0.863791   0.030146        0.999667\n",
       "6     50      7   -0.338923   0.295444        0.682000\n",
       "7     50     10   -0.823590   0.043247        0.996667\n",
       "8     50     15   -0.865847   0.010487        1.000000"
      ]
     },
     "execution_count": 8,
     "metadata": {},
     "output_type": "execute_result"
    }
   ],
   "source": [
    "# Load datasets\n",
    "X_train_MNIST_69,y_train_MNIST_69, X_test_MNIST_69, y_test_MNIST_69 = DatasetFactory.load_MNIST(digits=(6,9))\n",
    "\n",
    "# Widths and depths of networks\n",
    "widths, depths = [15, 25, 50], [7, 10, 15]\n",
    "\n",
    "# Dataframe for results\n",
    "df_results = pd.DataFrame(columns=[\"Width\", \"Depth\", \"Mean_Ricci\", \"Std_Ricci\", \"Negative_Share\"])\n",
    "\n",
    "for width in widths:\n",
    "    for depth in depths:\n",
    "        local_ricci_coefs_mean = []\n",
    "        share_negative = []\n",
    "        \n",
    "        for _ in tqdm(range(num_iterations), desc=f\"Width={width}, Depth={depth}\"):\n",
    "            # Train model\n",
    "            model = DNN(input_dimension=784, hidden_units=width, depth=depth, vision_model=True)\n",
    "            train_model(\n",
    "                threshold_accuracy=99,\n",
    "                model=model,\n",
    "                X_train=X_train_MNIST_69,\n",
    "                y_train=y_train_MNIST_69,\n",
    "                X_test=X_test_MNIST_69,\n",
    "                y_test=y_test_MNIST_69\n",
    "            )\n",
    "            # Calculate local Ricci evolution coefficients\n",
    "            local_ricci = Ricci_Coefficients(\n",
    "                model, X_test_MNIST_69, 50\n",
    "            ).local_ricci_coefficient(curv='Augmented-Forman-Ricci')\n",
    "\n",
    "            local_ricci_coefs_mean.append(np.nanmean(local_ricci))\n",
    "            valid = local_ricci[~np.isnan(local_ricci)]\n",
    "            share_negative.append(np.mean(valid < 0))\n",
    "\n",
    "        # Compute final aggregated stats and add to dataframe\n",
    "        mean_of_means = np.mean(local_ricci_coefs_mean)\n",
    "        std_of_means = np.std(local_ricci_coefs_mean)\n",
    "        mean_of_neg_share = np.mean(share_negative)\n",
    "        df_results.loc[len(df_results)] = [width, depth, mean_of_means, std_of_means, mean_of_neg_share]\n",
    "\n",
    "df_results[\"Width\"] = df_results[\"Width\"].astype(int)\n",
    "df_results[\"Depth\"] = df_results[\"Depth\"].astype(int)\n",
    "df_results.head(9)"
   ]
  },
  {
   "cell_type": "markdown",
   "id": "5f8c02b9",
   "metadata": {},
   "source": [
    "## 1.3 Fashion-MNIST Shoes"
   ]
  },
  {
   "cell_type": "code",
   "execution_count": 4,
   "id": "cf45a5e3",
   "metadata": {},
   "outputs": [
    {
     "data": {
      "application/vnd.jupyter.widget-view+json": {
       "model_id": "8f3f51c058e14fee9d653b7910b07246",
       "version_major": 2,
       "version_minor": 0
      },
      "text/plain": [
       "Width=15, Depth=7:   0%|          | 0/3 [00:00<?, ?it/s]"
      ]
     },
     "metadata": {},
     "output_type": "display_data"
    },
    {
     "data": {
      "application/vnd.jupyter.widget-view+json": {
       "model_id": "4df80364ff1348179340e1598f700c62",
       "version_major": 2,
       "version_minor": 0
      },
      "text/plain": [
       "Width=15, Depth=10:   0%|          | 0/3 [00:00<?, ?it/s]"
      ]
     },
     "metadata": {},
     "output_type": "display_data"
    },
    {
     "data": {
      "application/vnd.jupyter.widget-view+json": {
       "model_id": "92d4eda02c534ca2ac4751670b38fed8",
       "version_major": 2,
       "version_minor": 0
      },
      "text/plain": [
       "Width=15, Depth=15:   0%|          | 0/3 [00:00<?, ?it/s]"
      ]
     },
     "metadata": {},
     "output_type": "display_data"
    },
    {
     "data": {
      "application/vnd.jupyter.widget-view+json": {
       "model_id": "c9d28a2e99574a20b6ee7df8e3b75f88",
       "version_major": 2,
       "version_minor": 0
      },
      "text/plain": [
       "Width=25, Depth=7:   0%|          | 0/3 [00:00<?, ?it/s]"
      ]
     },
     "metadata": {},
     "output_type": "display_data"
    },
    {
     "data": {
      "application/vnd.jupyter.widget-view+json": {
       "model_id": "6f49856435f2418799d25d7e503388a6",
       "version_major": 2,
       "version_minor": 0
      },
      "text/plain": [
       "Width=25, Depth=10:   0%|          | 0/3 [00:00<?, ?it/s]"
      ]
     },
     "metadata": {},
     "output_type": "display_data"
    },
    {
     "data": {
      "application/vnd.jupyter.widget-view+json": {
       "model_id": "de459473f123423cb2d8607178130979",
       "version_major": 2,
       "version_minor": 0
      },
      "text/plain": [
       "Width=25, Depth=15:   0%|          | 0/3 [00:00<?, ?it/s]"
      ]
     },
     "metadata": {},
     "output_type": "display_data"
    },
    {
     "data": {
      "application/vnd.jupyter.widget-view+json": {
       "model_id": "4a54fc561d3f42d39d8fe058fbb872a8",
       "version_major": 2,
       "version_minor": 0
      },
      "text/plain": [
       "Width=50, Depth=7:   0%|          | 0/3 [00:00<?, ?it/s]"
      ]
     },
     "metadata": {},
     "output_type": "display_data"
    },
    {
     "data": {
      "application/vnd.jupyter.widget-view+json": {
       "model_id": "df7d64e9a3d44b3cbd9c83c1c64ea90f",
       "version_major": 2,
       "version_minor": 0
      },
      "text/plain": [
       "Width=50, Depth=10:   0%|          | 0/3 [00:00<?, ?it/s]"
      ]
     },
     "metadata": {},
     "output_type": "display_data"
    },
    {
     "data": {
      "application/vnd.jupyter.widget-view+json": {
       "model_id": "b1d2ba73061f480c8c233791b46b2ac5",
       "version_major": 2,
       "version_minor": 0
      },
      "text/plain": [
       "Width=50, Depth=15:   0%|          | 0/3 [00:00<?, ?it/s]"
      ]
     },
     "metadata": {},
     "output_type": "display_data"
    },
    {
     "data": {
      "text/html": [
       "<div>\n",
       "<style scoped>\n",
       "    .dataframe tbody tr th:only-of-type {\n",
       "        vertical-align: middle;\n",
       "    }\n",
       "\n",
       "    .dataframe tbody tr th {\n",
       "        vertical-align: top;\n",
       "    }\n",
       "\n",
       "    .dataframe thead th {\n",
       "        text-align: right;\n",
       "    }\n",
       "</style>\n",
       "<table border=\"1\" class=\"dataframe\">\n",
       "  <thead>\n",
       "    <tr style=\"text-align: right;\">\n",
       "      <th></th>\n",
       "      <th>Width</th>\n",
       "      <th>Depth</th>\n",
       "      <th>Mean_Ricci</th>\n",
       "      <th>Std_Ricci</th>\n",
       "      <th>Negative_Share</th>\n",
       "    </tr>\n",
       "  </thead>\n",
       "  <tbody>\n",
       "    <tr>\n",
       "      <th>0</th>\n",
       "      <td>15</td>\n",
       "      <td>7</td>\n",
       "      <td>-0.844779</td>\n",
       "      <td>0.044355</td>\n",
       "      <td>0.999333</td>\n",
       "    </tr>\n",
       "    <tr>\n",
       "      <th>1</th>\n",
       "      <td>15</td>\n",
       "      <td>10</td>\n",
       "      <td>-0.837030</td>\n",
       "      <td>0.060918</td>\n",
       "      <td>0.998667</td>\n",
       "    </tr>\n",
       "    <tr>\n",
       "      <th>2</th>\n",
       "      <td>15</td>\n",
       "      <td>15</td>\n",
       "      <td>-0.864534</td>\n",
       "      <td>0.061894</td>\n",
       "      <td>0.999000</td>\n",
       "    </tr>\n",
       "    <tr>\n",
       "      <th>3</th>\n",
       "      <td>25</td>\n",
       "      <td>7</td>\n",
       "      <td>-0.789115</td>\n",
       "      <td>0.018591</td>\n",
       "      <td>0.994000</td>\n",
       "    </tr>\n",
       "    <tr>\n",
       "      <th>4</th>\n",
       "      <td>25</td>\n",
       "      <td>10</td>\n",
       "      <td>-0.688582</td>\n",
       "      <td>0.056017</td>\n",
       "      <td>0.986000</td>\n",
       "    </tr>\n",
       "    <tr>\n",
       "      <th>5</th>\n",
       "      <td>25</td>\n",
       "      <td>15</td>\n",
       "      <td>-0.875410</td>\n",
       "      <td>0.040434</td>\n",
       "      <td>0.999000</td>\n",
       "    </tr>\n",
       "    <tr>\n",
       "      <th>6</th>\n",
       "      <td>50</td>\n",
       "      <td>7</td>\n",
       "      <td>-0.785634</td>\n",
       "      <td>0.029889</td>\n",
       "      <td>0.993667</td>\n",
       "    </tr>\n",
       "    <tr>\n",
       "      <th>7</th>\n",
       "      <td>50</td>\n",
       "      <td>10</td>\n",
       "      <td>-0.887916</td>\n",
       "      <td>0.004542</td>\n",
       "      <td>1.000000</td>\n",
       "    </tr>\n",
       "    <tr>\n",
       "      <th>8</th>\n",
       "      <td>50</td>\n",
       "      <td>15</td>\n",
       "      <td>-0.890486</td>\n",
       "      <td>0.006285</td>\n",
       "      <td>1.000000</td>\n",
       "    </tr>\n",
       "  </tbody>\n",
       "</table>\n",
       "</div>"
      ],
      "text/plain": [
       "   Width  Depth  Mean_Ricci  Std_Ricci  Negative_Share\n",
       "0     15      7   -0.844779   0.044355        0.999333\n",
       "1     15     10   -0.837030   0.060918        0.998667\n",
       "2     15     15   -0.864534   0.061894        0.999000\n",
       "3     25      7   -0.789115   0.018591        0.994000\n",
       "4     25     10   -0.688582   0.056017        0.986000\n",
       "5     25     15   -0.875410   0.040434        0.999000\n",
       "6     50      7   -0.785634   0.029889        0.993667\n",
       "7     50     10   -0.887916   0.004542        1.000000\n",
       "8     50     15   -0.890486   0.006285        1.000000"
      ]
     },
     "execution_count": 4,
     "metadata": {},
     "output_type": "execute_result"
    }
   ],
   "source": [
    "# Load datasets\n",
    "X_train_fMNIST_shoes, y_train_fMNIST_shoes, X_test_fMNIST_shoes, y_test_fMNIST_shoes = DatasetFactory.load_fMNIST(classes=(5,7), device=device)\n",
    "\n",
    "# Widths and depths of networks\n",
    "widths, depths = [15, 25, 50], [7, 10, 15]\n",
    "\n",
    "# Dataframe for results\n",
    "df_results = pd.DataFrame(columns=[\"Width\", \"Depth\", \"Mean_Ricci\", \"Std_Ricci\", \"Negative_Share\"])\n",
    "\n",
    "for width in widths:\n",
    "    for depth in depths:\n",
    "        local_ricci_coefs_mean = []\n",
    "        share_negative = []\n",
    "\n",
    "        for _ in tqdm(range(num_iterations), desc=f\"Width={width}, Depth={depth}\"):\n",
    "            # Train model\n",
    "            model = DNN(input_dimension=784, hidden_units=width, depth=depth, vision_model=True).to(device=device)\n",
    "            train_model(\n",
    "                threshold_accuracy=99,\n",
    "                model=model,\n",
    "                X_train=X_train_fMNIST_shoes,\n",
    "                y_train=y_train_fMNIST_shoes,\n",
    "                X_test=X_test_fMNIST_shoes,\n",
    "                y_test=y_test_fMNIST_shoes\n",
    "            )\n",
    "            # Calculate local Ricci evolution coefficients\n",
    "            local_ricci = Ricci_Coefficients(\n",
    "                model, X_test_fMNIST_shoes, 50\n",
    "            ).local_ricci_coefficient(curv='Augmented-Forman-Ricci')\n",
    "            local_ricci_coefs_mean.append(np.nanmean(local_ricci))\n",
    "            valid = local_ricci[~np.isnan(local_ricci)]\n",
    "            share_negative.append(np.mean(valid < 0))\n",
    "\n",
    "        # Compute final aggregated stats and add to dataframe\n",
    "        mean_of_means = np.mean(local_ricci_coefs_mean)\n",
    "        std_of_means = np.std(local_ricci_coefs_mean)\n",
    "        mean_of_neg_share = np.mean(share_negative)\n",
    "        df_results.loc[len(df_results)] = [width, depth, mean_of_means, std_of_means, mean_of_neg_share]\n",
    "\n",
    "df_results[\"Width\"] = df_results[\"Width\"].astype(int)\n",
    "df_results[\"Depth\"] = df_results[\"Depth\"].astype(int)\n",
    "df_results.head(9)"
   ]
  },
  {
   "cell_type": "markdown",
   "id": "dfd0c011",
   "metadata": {},
   "source": [
    "## 1.4 Fashion-MNIST Apperal"
   ]
  },
  {
   "cell_type": "code",
   "execution_count": 5,
   "id": "7bd23b4c",
   "metadata": {},
   "outputs": [
    {
     "data": {
      "application/vnd.jupyter.widget-view+json": {
       "model_id": "1c323e58ad9949b2b95812a60063ee62",
       "version_major": 2,
       "version_minor": 0
      },
      "text/plain": [
       "Width=15, Depth=7:   0%|          | 0/3 [00:00<?, ?it/s]"
      ]
     },
     "metadata": {},
     "output_type": "display_data"
    },
    {
     "data": {
      "application/vnd.jupyter.widget-view+json": {
       "model_id": "e4dcbf0ceedd427dab509993e650ee73",
       "version_major": 2,
       "version_minor": 0
      },
      "text/plain": [
       "Width=15, Depth=10:   0%|          | 0/3 [00:00<?, ?it/s]"
      ]
     },
     "metadata": {},
     "output_type": "display_data"
    },
    {
     "data": {
      "application/vnd.jupyter.widget-view+json": {
       "model_id": "c33fc68c9bf1400498ff78a85332b2d6",
       "version_major": 2,
       "version_minor": 0
      },
      "text/plain": [
       "Width=15, Depth=15:   0%|          | 0/3 [00:00<?, ?it/s]"
      ]
     },
     "metadata": {},
     "output_type": "display_data"
    },
    {
     "data": {
      "application/vnd.jupyter.widget-view+json": {
       "model_id": "a814890fcd2e4c06bc15d2d8a6021d99",
       "version_major": 2,
       "version_minor": 0
      },
      "text/plain": [
       "Width=25, Depth=7:   0%|          | 0/3 [00:00<?, ?it/s]"
      ]
     },
     "metadata": {},
     "output_type": "display_data"
    },
    {
     "data": {
      "application/vnd.jupyter.widget-view+json": {
       "model_id": "c59bcaf66ba249f2a43b70ddc9738ba9",
       "version_major": 2,
       "version_minor": 0
      },
      "text/plain": [
       "Width=25, Depth=10:   0%|          | 0/3 [00:00<?, ?it/s]"
      ]
     },
     "metadata": {},
     "output_type": "display_data"
    },
    {
     "data": {
      "application/vnd.jupyter.widget-view+json": {
       "model_id": "d5149516a40e414da82091343ded386f",
       "version_major": 2,
       "version_minor": 0
      },
      "text/plain": [
       "Width=25, Depth=15:   0%|          | 0/3 [00:00<?, ?it/s]"
      ]
     },
     "metadata": {},
     "output_type": "display_data"
    },
    {
     "data": {
      "application/vnd.jupyter.widget-view+json": {
       "model_id": "e749678b85394a358df13af6fed6f067",
       "version_major": 2,
       "version_minor": 0
      },
      "text/plain": [
       "Width=50, Depth=7:   0%|          | 0/3 [00:00<?, ?it/s]"
      ]
     },
     "metadata": {},
     "output_type": "display_data"
    },
    {
     "data": {
      "application/vnd.jupyter.widget-view+json": {
       "model_id": "1303b67ef6594919aef03ec27b2dbaf9",
       "version_major": 2,
       "version_minor": 0
      },
      "text/plain": [
       "Width=50, Depth=10:   0%|          | 0/3 [00:00<?, ?it/s]"
      ]
     },
     "metadata": {},
     "output_type": "display_data"
    },
    {
     "data": {
      "application/vnd.jupyter.widget-view+json": {
       "model_id": "a4c7d3d1a23c4bea816a6e3af1a281d9",
       "version_major": 2,
       "version_minor": 0
      },
      "text/plain": [
       "Width=50, Depth=15:   0%|          | 0/3 [00:00<?, ?it/s]"
      ]
     },
     "metadata": {},
     "output_type": "display_data"
    },
    {
     "data": {
      "text/html": [
       "<div>\n",
       "<style scoped>\n",
       "    .dataframe tbody tr th:only-of-type {\n",
       "        vertical-align: middle;\n",
       "    }\n",
       "\n",
       "    .dataframe tbody tr th {\n",
       "        vertical-align: top;\n",
       "    }\n",
       "\n",
       "    .dataframe thead th {\n",
       "        text-align: right;\n",
       "    }\n",
       "</style>\n",
       "<table border=\"1\" class=\"dataframe\">\n",
       "  <thead>\n",
       "    <tr style=\"text-align: right;\">\n",
       "      <th></th>\n",
       "      <th>Width</th>\n",
       "      <th>Depth</th>\n",
       "      <th>Mean_Ricci</th>\n",
       "      <th>Std_Ricci</th>\n",
       "      <th>Negative_Share</th>\n",
       "    </tr>\n",
       "  </thead>\n",
       "  <tbody>\n",
       "    <tr>\n",
       "      <th>0</th>\n",
       "      <td>15</td>\n",
       "      <td>7</td>\n",
       "      <td>-0.562753</td>\n",
       "      <td>0.135438</td>\n",
       "      <td>0.917333</td>\n",
       "    </tr>\n",
       "    <tr>\n",
       "      <th>1</th>\n",
       "      <td>15</td>\n",
       "      <td>10</td>\n",
       "      <td>-0.614931</td>\n",
       "      <td>0.058605</td>\n",
       "      <td>0.979000</td>\n",
       "    </tr>\n",
       "    <tr>\n",
       "      <th>2</th>\n",
       "      <td>15</td>\n",
       "      <td>15</td>\n",
       "      <td>-0.680994</td>\n",
       "      <td>0.149552</td>\n",
       "      <td>0.981000</td>\n",
       "    </tr>\n",
       "    <tr>\n",
       "      <th>3</th>\n",
       "      <td>25</td>\n",
       "      <td>7</td>\n",
       "      <td>-0.446377</td>\n",
       "      <td>0.074960</td>\n",
       "      <td>0.881333</td>\n",
       "    </tr>\n",
       "    <tr>\n",
       "      <th>4</th>\n",
       "      <td>25</td>\n",
       "      <td>10</td>\n",
       "      <td>-0.621453</td>\n",
       "      <td>0.101108</td>\n",
       "      <td>0.969333</td>\n",
       "    </tr>\n",
       "    <tr>\n",
       "      <th>5</th>\n",
       "      <td>25</td>\n",
       "      <td>15</td>\n",
       "      <td>-0.771804</td>\n",
       "      <td>0.040350</td>\n",
       "      <td>0.993667</td>\n",
       "    </tr>\n",
       "    <tr>\n",
       "      <th>6</th>\n",
       "      <td>50</td>\n",
       "      <td>7</td>\n",
       "      <td>-0.583027</td>\n",
       "      <td>0.155724</td>\n",
       "      <td>0.915000</td>\n",
       "    </tr>\n",
       "    <tr>\n",
       "      <th>7</th>\n",
       "      <td>50</td>\n",
       "      <td>10</td>\n",
       "      <td>-0.829150</td>\n",
       "      <td>0.014759</td>\n",
       "      <td>0.999667</td>\n",
       "    </tr>\n",
       "    <tr>\n",
       "      <th>8</th>\n",
       "      <td>50</td>\n",
       "      <td>15</td>\n",
       "      <td>-0.782214</td>\n",
       "      <td>0.118790</td>\n",
       "      <td>1.000000</td>\n",
       "    </tr>\n",
       "  </tbody>\n",
       "</table>\n",
       "</div>"
      ],
      "text/plain": [
       "   Width  Depth  Mean_Ricci  Std_Ricci  Negative_Share\n",
       "0     15      7   -0.562753   0.135438        0.917333\n",
       "1     15     10   -0.614931   0.058605        0.979000\n",
       "2     15     15   -0.680994   0.149552        0.981000\n",
       "3     25      7   -0.446377   0.074960        0.881333\n",
       "4     25     10   -0.621453   0.101108        0.969333\n",
       "5     25     15   -0.771804   0.040350        0.993667\n",
       "6     50      7   -0.583027   0.155724        0.915000\n",
       "7     50     10   -0.829150   0.014759        0.999667\n",
       "8     50     15   -0.782214   0.118790        1.000000"
      ]
     },
     "execution_count": 5,
     "metadata": {},
     "output_type": "execute_result"
    }
   ],
   "source": [
    "# Load datasets\n",
    "X_train_fMNIST_apperal,y_train_fMNIST_apperal, X_test_fMNIST_apperal, y_test_fMNIST_apperal = DatasetFactory.load_fMNIST(classes=(3,6), device=device)\n",
    "\n",
    "# Widths and depths of networks\n",
    "widths, depths = [15, 25, 50], [7, 10, 15]\n",
    "\n",
    "# Dataframe for results\n",
    "df_results = pd.DataFrame(columns=[\"Width\", \"Depth\", \"Mean_Ricci\", \"Std_Ricci\", \"Negative_Share\"])\n",
    "\n",
    "for width in widths:\n",
    "    for depth in depths:\n",
    "        local_ricci_coefs_mean = []\n",
    "        share_negative = []\n",
    "\n",
    "        for _ in tqdm(range(num_iterations), desc=f\"Width={width}, Depth={depth}\"):\n",
    "            # Train model\n",
    "            model = DNN(input_dimension=784, hidden_units=width, depth=depth, vision_model=True).to(device=device)\n",
    "            train_model(\n",
    "                threshold_accuracy=99,\n",
    "                model=model,\n",
    "                X_train=X_train_fMNIST_apperal,\n",
    "                y_train=y_train_fMNIST_apperal,\n",
    "                X_test=X_test_fMNIST_apperal,\n",
    "                y_test=y_test_fMNIST_apperal\n",
    "            )\n",
    "            # Calculate local Ricci evolution coefficients\n",
    "            local_ricci = Ricci_Coefficients(\n",
    "                model, X_test_fMNIST_apperal, 50\n",
    "            ).local_ricci_coefficient(curv='Augmented-Forman-Ricci')\n",
    "            local_ricci_coefs_mean.append(np.nanmean(local_ricci))\n",
    "            valid = local_ricci[~np.isnan(local_ricci)]\n",
    "            share_negative.append(np.mean(valid < 0))\n",
    "\n",
    "        # Compute final aggregated stats and add to dataframe\n",
    "        mean_of_means = np.mean(local_ricci_coefs_mean)\n",
    "        std_of_means = np.std(local_ricci_coefs_mean)\n",
    "        mean_of_neg_share = np.mean(share_negative)\n",
    "        df_results.loc[len(df_results)] = [width, depth, mean_of_means, std_of_means, mean_of_neg_share]\n",
    "\n",
    "df_results[\"Width\"] = df_results[\"Width\"].astype(int)\n",
    "df_results[\"Depth\"] = df_results[\"Depth\"].astype(int)\n",
    "df_results.head(9)"
   ]
  },
  {
   "cell_type": "markdown",
   "id": "db4152f8",
   "metadata": {},
   "source": [
    "## 1.5 CIFAR Car vs. Plane"
   ]
  },
  {
   "cell_type": "code",
   "execution_count": 9,
   "id": "0b2e81ab",
   "metadata": {},
   "outputs": [
    {
     "data": {
      "application/vnd.jupyter.widget-view+json": {
       "model_id": "a6490939ef11479493f091c248bd0f9a",
       "version_major": 2,
       "version_minor": 0
      },
      "text/plain": [
       "Width=15, Depth=7:   0%|          | 0/3 [00:00<?, ?it/s]"
      ]
     },
     "metadata": {},
     "output_type": "display_data"
    },
    {
     "data": {
      "application/vnd.jupyter.widget-view+json": {
       "model_id": "2e751871144549ad937dcb11b85ad4b0",
       "version_major": 2,
       "version_minor": 0
      },
      "text/plain": [
       "Width=15, Depth=10:   0%|          | 0/3 [00:00<?, ?it/s]"
      ]
     },
     "metadata": {},
     "output_type": "display_data"
    },
    {
     "data": {
      "application/vnd.jupyter.widget-view+json": {
       "model_id": "9d20d004bc034be7899b8539d784b02e",
       "version_major": 2,
       "version_minor": 0
      },
      "text/plain": [
       "Width=15, Depth=15:   0%|          | 0/3 [00:00<?, ?it/s]"
      ]
     },
     "metadata": {},
     "output_type": "display_data"
    },
    {
     "data": {
      "application/vnd.jupyter.widget-view+json": {
       "model_id": "953002f89f6144a696520117685ebfa3",
       "version_major": 2,
       "version_minor": 0
      },
      "text/plain": [
       "Width=25, Depth=7:   0%|          | 0/3 [00:00<?, ?it/s]"
      ]
     },
     "metadata": {},
     "output_type": "display_data"
    },
    {
     "data": {
      "application/vnd.jupyter.widget-view+json": {
       "model_id": "1b3c574af9d84150a0e13ebdfb29fdff",
       "version_major": 2,
       "version_minor": 0
      },
      "text/plain": [
       "Width=25, Depth=10:   0%|          | 0/3 [00:00<?, ?it/s]"
      ]
     },
     "metadata": {},
     "output_type": "display_data"
    },
    {
     "data": {
      "application/vnd.jupyter.widget-view+json": {
       "model_id": "95dc2245d09d42e7b2cf32de1f183f4a",
       "version_major": 2,
       "version_minor": 0
      },
      "text/plain": [
       "Width=25, Depth=15:   0%|          | 0/3 [00:00<?, ?it/s]"
      ]
     },
     "metadata": {},
     "output_type": "display_data"
    },
    {
     "data": {
      "application/vnd.jupyter.widget-view+json": {
       "model_id": "8f175e02281d4acaa7e3319e02f9433d",
       "version_major": 2,
       "version_minor": 0
      },
      "text/plain": [
       "Width=50, Depth=7:   0%|          | 0/3 [00:00<?, ?it/s]"
      ]
     },
     "metadata": {},
     "output_type": "display_data"
    },
    {
     "data": {
      "application/vnd.jupyter.widget-view+json": {
       "model_id": "d4864a5ddfa348f09783ea2cffacadc4",
       "version_major": 2,
       "version_minor": 0
      },
      "text/plain": [
       "Width=50, Depth=10:   0%|          | 0/3 [00:00<?, ?it/s]"
      ]
     },
     "metadata": {},
     "output_type": "display_data"
    },
    {
     "data": {
      "application/vnd.jupyter.widget-view+json": {
       "model_id": "66e4b607eb0445639e880e9e0bef3f17",
       "version_major": 2,
       "version_minor": 0
      },
      "text/plain": [
       "Width=50, Depth=15:   0%|          | 0/3 [00:00<?, ?it/s]"
      ]
     },
     "metadata": {},
     "output_type": "display_data"
    },
    {
     "data": {
      "text/html": [
       "<div>\n",
       "<style scoped>\n",
       "    .dataframe tbody tr th:only-of-type {\n",
       "        vertical-align: middle;\n",
       "    }\n",
       "\n",
       "    .dataframe tbody tr th {\n",
       "        vertical-align: top;\n",
       "    }\n",
       "\n",
       "    .dataframe thead th {\n",
       "        text-align: right;\n",
       "    }\n",
       "</style>\n",
       "<table border=\"1\" class=\"dataframe\">\n",
       "  <thead>\n",
       "    <tr style=\"text-align: right;\">\n",
       "      <th></th>\n",
       "      <th>Width</th>\n",
       "      <th>Depth</th>\n",
       "      <th>Mean_Ricci</th>\n",
       "      <th>Std_Ricci</th>\n",
       "      <th>Negative_Share</th>\n",
       "    </tr>\n",
       "  </thead>\n",
       "  <tbody>\n",
       "    <tr>\n",
       "      <th>0</th>\n",
       "      <td>15</td>\n",
       "      <td>7</td>\n",
       "      <td>-0.791462</td>\n",
       "      <td>0.171092</td>\n",
       "      <td>0.969000</td>\n",
       "    </tr>\n",
       "    <tr>\n",
       "      <th>1</th>\n",
       "      <td>15</td>\n",
       "      <td>10</td>\n",
       "      <td>-0.823036</td>\n",
       "      <td>0.020891</td>\n",
       "      <td>0.991000</td>\n",
       "    </tr>\n",
       "    <tr>\n",
       "      <th>2</th>\n",
       "      <td>15</td>\n",
       "      <td>15</td>\n",
       "      <td>-0.830789</td>\n",
       "      <td>0.033227</td>\n",
       "      <td>0.997000</td>\n",
       "    </tr>\n",
       "    <tr>\n",
       "      <th>3</th>\n",
       "      <td>25</td>\n",
       "      <td>7</td>\n",
       "      <td>-0.663964</td>\n",
       "      <td>0.034236</td>\n",
       "      <td>0.983667</td>\n",
       "    </tr>\n",
       "    <tr>\n",
       "      <th>4</th>\n",
       "      <td>25</td>\n",
       "      <td>10</td>\n",
       "      <td>-0.778582</td>\n",
       "      <td>0.078071</td>\n",
       "      <td>0.999000</td>\n",
       "    </tr>\n",
       "    <tr>\n",
       "      <th>5</th>\n",
       "      <td>25</td>\n",
       "      <td>15</td>\n",
       "      <td>-0.910721</td>\n",
       "      <td>0.010761</td>\n",
       "      <td>1.000000</td>\n",
       "    </tr>\n",
       "    <tr>\n",
       "      <th>6</th>\n",
       "      <td>50</td>\n",
       "      <td>7</td>\n",
       "      <td>-0.782599</td>\n",
       "      <td>0.021881</td>\n",
       "      <td>0.994333</td>\n",
       "    </tr>\n",
       "    <tr>\n",
       "      <th>7</th>\n",
       "      <td>50</td>\n",
       "      <td>10</td>\n",
       "      <td>-0.821430</td>\n",
       "      <td>0.027032</td>\n",
       "      <td>1.000000</td>\n",
       "    </tr>\n",
       "    <tr>\n",
       "      <th>8</th>\n",
       "      <td>50</td>\n",
       "      <td>15</td>\n",
       "      <td>-0.911812</td>\n",
       "      <td>0.013316</td>\n",
       "      <td>0.999667</td>\n",
       "    </tr>\n",
       "  </tbody>\n",
       "</table>\n",
       "</div>"
      ],
      "text/plain": [
       "   Width  Depth  Mean_Ricci  Std_Ricci  Negative_Share\n",
       "0     15      7   -0.791462   0.171092        0.969000\n",
       "1     15     10   -0.823036   0.020891        0.991000\n",
       "2     15     15   -0.830789   0.033227        0.997000\n",
       "3     25      7   -0.663964   0.034236        0.983667\n",
       "4     25     10   -0.778582   0.078071        0.999000\n",
       "5     25     15   -0.910721   0.010761        1.000000\n",
       "6     50      7   -0.782599   0.021881        0.994333\n",
       "7     50     10   -0.821430   0.027032        1.000000\n",
       "8     50     15   -0.911812   0.013316        0.999667"
      ]
     },
     "execution_count": 9,
     "metadata": {},
     "output_type": "execute_result"
    }
   ],
   "source": [
    "# Load datasets\n",
    "X_train_CIFAR, y_train_CIFAR, X_test_CIFAR, y_test_CIFAR = DatasetFactory.load_CIFAR(classes=(0,1), device=device)\n",
    "\n",
    "# Widths and depths of networks\n",
    "widths, depths = [15, 25, 50], [7, 10, 15]\n",
    "\n",
    "# Dataframe for results\n",
    "df_results = pd.DataFrame(columns=[\"Width\", \"Depth\", \"Mean_Ricci\", \"Std_Ricci\", \"Negative_Share\"])\n",
    "\n",
    "for width in widths:\n",
    "    for depth in depths:\n",
    "        local_ricci_coefs_mean = []\n",
    "        share_negative = []\n",
    "\n",
    "        for _ in tqdm(range(num_iterations), desc=f\"Width={width}, Depth={depth}\"):\n",
    "            # Train model\n",
    "            model = DNN(input_dimension=3*32*32, hidden_units=width, depth=depth, vision_model=True).to(device=device)\n",
    "            train_model(\n",
    "                threshold_accuracy=99,\n",
    "                model=model,\n",
    "                X_train=X_train_CIFAR,\n",
    "                y_train=y_train_CIFAR,\n",
    "                X_test=X_test_CIFAR,\n",
    "                y_test=y_test_CIFAR\n",
    "            )\n",
    "            \n",
    "            # Calculate local Ricci evolution coefficients\n",
    "            local_ricci = Ricci_Coefficients(\n",
    "                model, X_test_CIFAR, 50\n",
    "            ).local_ricci_coefficient(curv='Augmented-Forman-Ricci')\n",
    "            local_ricci_coefs_mean.append(np.nanmean(local_ricci))\n",
    "            valid = local_ricci[~np.isnan(local_ricci)]\n",
    "            share_negative.append(np.mean(valid < 0))\n",
    "\n",
    "        # Compute final aggregated stats and add to dataframe\n",
    "        mean_of_means = np.mean(local_ricci_coefs_mean)\n",
    "        std_of_means = np.std(local_ricci_coefs_mean)\n",
    "        mean_of_neg_share = np.mean(share_negative)\n",
    "        df_results.loc[len(df_results)] = [width, depth, mean_of_means, std_of_means, mean_of_neg_share]\n",
    "\n",
    "df_results[\"Width\"] = df_results[\"Width\"].astype(int)\n",
    "df_results[\"Depth\"] = df_results[\"Depth\"].astype(int)\n",
    "df_results.head(9)"
   ]
  },
  {
   "cell_type": "markdown",
   "id": "4da018f6",
   "metadata": {},
   "source": [
    "# 2. Synthetic Datasets"
   ]
  },
  {
   "cell_type": "markdown",
   "id": "b1e0a1cb",
   "metadata": {},
   "source": [
    "## 2.1 Syn-I Dataset"
   ]
  },
  {
   "cell_type": "code",
   "execution_count": 10,
   "id": "b9757bd3",
   "metadata": {},
   "outputs": [
    {
     "data": {
      "application/vnd.jupyter.widget-view+json": {
       "model_id": "e8b13a64f2cc4586aac937e19a7f4807",
       "version_major": 2,
       "version_minor": 0
      },
      "text/plain": [
       "Width=15, Depth=7:   0%|          | 0/3 [00:00<?, ?it/s]"
      ]
     },
     "metadata": {},
     "output_type": "display_data"
    },
    {
     "data": {
      "application/vnd.jupyter.widget-view+json": {
       "model_id": "c98157cd2d6a44d081ea4dabdbc7a993",
       "version_major": 2,
       "version_minor": 0
      },
      "text/plain": [
       "Width=15, Depth=10:   0%|          | 0/3 [00:00<?, ?it/s]"
      ]
     },
     "metadata": {},
     "output_type": "display_data"
    },
    {
     "data": {
      "application/vnd.jupyter.widget-view+json": {
       "model_id": "7bb9107e9fdf4929aba0574fb262ff4a",
       "version_major": 2,
       "version_minor": 0
      },
      "text/plain": [
       "Width=15, Depth=15:   0%|          | 0/3 [00:00<?, ?it/s]"
      ]
     },
     "metadata": {},
     "output_type": "display_data"
    },
    {
     "data": {
      "application/vnd.jupyter.widget-view+json": {
       "model_id": "b5afc0b85a684cbfbd7a2a0f4a19beb5",
       "version_major": 2,
       "version_minor": 0
      },
      "text/plain": [
       "Width=25, Depth=7:   0%|          | 0/3 [00:00<?, ?it/s]"
      ]
     },
     "metadata": {},
     "output_type": "display_data"
    },
    {
     "data": {
      "application/vnd.jupyter.widget-view+json": {
       "model_id": "f1d5811b6e584fa1856bb80d62b7f1d2",
       "version_major": 2,
       "version_minor": 0
      },
      "text/plain": [
       "Width=25, Depth=10:   0%|          | 0/3 [00:00<?, ?it/s]"
      ]
     },
     "metadata": {},
     "output_type": "display_data"
    },
    {
     "data": {
      "application/vnd.jupyter.widget-view+json": {
       "model_id": "5e6bebf2a1a442b4b93bacbaa9769fd9",
       "version_major": 2,
       "version_minor": 0
      },
      "text/plain": [
       "Width=25, Depth=15:   0%|          | 0/3 [00:00<?, ?it/s]"
      ]
     },
     "metadata": {},
     "output_type": "display_data"
    },
    {
     "data": {
      "application/vnd.jupyter.widget-view+json": {
       "model_id": "b62f4c02feab4f4eb390f2a4626c9d2e",
       "version_major": 2,
       "version_minor": 0
      },
      "text/plain": [
       "Width=50, Depth=7:   0%|          | 0/3 [00:00<?, ?it/s]"
      ]
     },
     "metadata": {},
     "output_type": "display_data"
    },
    {
     "data": {
      "application/vnd.jupyter.widget-view+json": {
       "model_id": "50ad847ee968402aac9a7c0bc14c09d2",
       "version_major": 2,
       "version_minor": 0
      },
      "text/plain": [
       "Width=50, Depth=10:   0%|          | 0/3 [00:00<?, ?it/s]"
      ]
     },
     "metadata": {},
     "output_type": "display_data"
    },
    {
     "data": {
      "application/vnd.jupyter.widget-view+json": {
       "model_id": "bb40813cdc8244178fb51df67a469b4f",
       "version_major": 2,
       "version_minor": 0
      },
      "text/plain": [
       "Width=50, Depth=15:   0%|          | 0/3 [00:00<?, ?it/s]"
      ]
     },
     "metadata": {},
     "output_type": "display_data"
    },
    {
     "data": {
      "text/html": [
       "<div>\n",
       "<style scoped>\n",
       "    .dataframe tbody tr th:only-of-type {\n",
       "        vertical-align: middle;\n",
       "    }\n",
       "\n",
       "    .dataframe tbody tr th {\n",
       "        vertical-align: top;\n",
       "    }\n",
       "\n",
       "    .dataframe thead th {\n",
       "        text-align: right;\n",
       "    }\n",
       "</style>\n",
       "<table border=\"1\" class=\"dataframe\">\n",
       "  <thead>\n",
       "    <tr style=\"text-align: right;\">\n",
       "      <th></th>\n",
       "      <th>Width</th>\n",
       "      <th>Depth</th>\n",
       "      <th>Mean_Ricci</th>\n",
       "      <th>Std_Ricci</th>\n",
       "      <th>Negative_Share</th>\n",
       "    </tr>\n",
       "  </thead>\n",
       "  <tbody>\n",
       "    <tr>\n",
       "      <th>0</th>\n",
       "      <td>15</td>\n",
       "      <td>7</td>\n",
       "      <td>-0.391865</td>\n",
       "      <td>0.083885</td>\n",
       "      <td>0.881667</td>\n",
       "    </tr>\n",
       "    <tr>\n",
       "      <th>1</th>\n",
       "      <td>15</td>\n",
       "      <td>10</td>\n",
       "      <td>-0.469759</td>\n",
       "      <td>0.128776</td>\n",
       "      <td>0.872667</td>\n",
       "    </tr>\n",
       "    <tr>\n",
       "      <th>2</th>\n",
       "      <td>15</td>\n",
       "      <td>15</td>\n",
       "      <td>-0.621497</td>\n",
       "      <td>0.021780</td>\n",
       "      <td>0.966622</td>\n",
       "    </tr>\n",
       "    <tr>\n",
       "      <th>3</th>\n",
       "      <td>25</td>\n",
       "      <td>7</td>\n",
       "      <td>-0.412410</td>\n",
       "      <td>0.053412</td>\n",
       "      <td>0.888333</td>\n",
       "    </tr>\n",
       "    <tr>\n",
       "      <th>4</th>\n",
       "      <td>25</td>\n",
       "      <td>10</td>\n",
       "      <td>-0.529302</td>\n",
       "      <td>0.113239</td>\n",
       "      <td>0.923000</td>\n",
       "    </tr>\n",
       "    <tr>\n",
       "      <th>5</th>\n",
       "      <td>25</td>\n",
       "      <td>15</td>\n",
       "      <td>-0.661815</td>\n",
       "      <td>0.019411</td>\n",
       "      <td>0.990000</td>\n",
       "    </tr>\n",
       "    <tr>\n",
       "      <th>6</th>\n",
       "      <td>50</td>\n",
       "      <td>7</td>\n",
       "      <td>-0.369592</td>\n",
       "      <td>0.044523</td>\n",
       "      <td>0.816333</td>\n",
       "    </tr>\n",
       "    <tr>\n",
       "      <th>7</th>\n",
       "      <td>50</td>\n",
       "      <td>10</td>\n",
       "      <td>-0.562578</td>\n",
       "      <td>0.017473</td>\n",
       "      <td>0.960667</td>\n",
       "    </tr>\n",
       "    <tr>\n",
       "      <th>8</th>\n",
       "      <td>50</td>\n",
       "      <td>15</td>\n",
       "      <td>-0.703286</td>\n",
       "      <td>0.013737</td>\n",
       "      <td>0.998667</td>\n",
       "    </tr>\n",
       "  </tbody>\n",
       "</table>\n",
       "</div>"
      ],
      "text/plain": [
       "   Width  Depth  Mean_Ricci  Std_Ricci  Negative_Share\n",
       "0     15      7   -0.391865   0.083885        0.881667\n",
       "1     15     10   -0.469759   0.128776        0.872667\n",
       "2     15     15   -0.621497   0.021780        0.966622\n",
       "3     25      7   -0.412410   0.053412        0.888333\n",
       "4     25     10   -0.529302   0.113239        0.923000\n",
       "5     25     15   -0.661815   0.019411        0.990000\n",
       "6     50      7   -0.369592   0.044523        0.816333\n",
       "7     50     10   -0.562578   0.017473        0.960667\n",
       "8     50     15   -0.703286   0.013737        0.998667"
      ]
     },
     "execution_count": 10,
     "metadata": {},
     "output_type": "execute_result"
    }
   ],
   "source": [
    "# Load datasets\n",
    "X_train_circles, y_train_circles = DatasetFactory.make_circles(noise=0.03)\n",
    "X_test_circles, y_test_circles = DatasetFactory.make_circles(noise=0.03)\n",
    "\n",
    "# Widths and depths of  networks\n",
    "widths, depths = [15, 25, 50], [7, 10, 15]\n",
    "\n",
    "# Dataframe for results\n",
    "df_results = pd.DataFrame(columns=[\"Width\", \"Depth\", \"Mean_Ricci\", \"Std_Ricci\", \"Negative_Share\"])\n",
    "\n",
    "for width in widths:\n",
    "    for depth in depths:\n",
    "        local_ricci_coefs_mean = []\n",
    "        share_negative = []\n",
    "\n",
    "        for _ in tqdm(range(num_iterations), desc=f\"Width={width}, Depth={depth}\"):\n",
    "            # Train model\n",
    "            model = DNN(input_dimension=2, hidden_units=width, depth=depth)\n",
    "            train_model(\n",
    "                threshold_accuracy=99,\n",
    "                model=model,\n",
    "                X_train=X_train_circles,\n",
    "                y_train=y_train_circles,\n",
    "                X_test=X_test_circles,\n",
    "                y_test=y_test_circles\n",
    "            )\n",
    "\n",
    "            # Calculate local Ricci evolution coefficients\n",
    "            local_ricci = Ricci_Coefficients(\n",
    "                model, X_test_circles, 50\n",
    "            ).local_ricci_coefficient(curv='Augmented-Forman-Ricci')\n",
    "            local_ricci_coefs_mean.append(np.nanmean(local_ricci))\n",
    "            valid = local_ricci[~np.isnan(local_ricci)]\n",
    "            share_negative.append(np.mean(valid < 0))\n",
    "\n",
    "        # Compute final aggregated stats and add to dataframe\n",
    "        mean_of_means = np.mean(local_ricci_coefs_mean)\n",
    "        std_of_means = np.std(local_ricci_coefs_mean)\n",
    "        mean_of_neg_share = np.mean(share_negative)\n",
    "        df_results.loc[len(df_results)] = [width, depth, mean_of_means, std_of_means, mean_of_neg_share]\n",
    "\n",
    "df_results[\"Width\"] = df_results[\"Width\"].astype(int)\n",
    "df_results[\"Depth\"] = df_results[\"Depth\"].astype(int)\n",
    "df_results.head(9)"
   ]
  },
  {
   "cell_type": "markdown",
   "id": "98e15dfe",
   "metadata": {},
   "source": [
    "## 2.2 Syn-II Dataset"
   ]
  },
  {
   "cell_type": "code",
   "execution_count": 11,
   "id": "0e6824e5",
   "metadata": {},
   "outputs": [
    {
     "data": {
      "application/vnd.jupyter.widget-view+json": {
       "model_id": "c2738a83ad3d472da30e61855d5b32dd",
       "version_major": 2,
       "version_minor": 0
      },
      "text/plain": [
       "Width=15, Depth=7:   0%|          | 0/3 [00:00<?, ?it/s]"
      ]
     },
     "metadata": {},
     "output_type": "display_data"
    },
    {
     "data": {
      "application/vnd.jupyter.widget-view+json": {
       "model_id": "4ea64f7708734e2bb58dc872b6bc850e",
       "version_major": 2,
       "version_minor": 0
      },
      "text/plain": [
       "Width=15, Depth=10:   0%|          | 0/3 [00:00<?, ?it/s]"
      ]
     },
     "metadata": {},
     "output_type": "display_data"
    },
    {
     "data": {
      "application/vnd.jupyter.widget-view+json": {
       "model_id": "063e3bbcb67c403d8ff4e0238211f249",
       "version_major": 2,
       "version_minor": 0
      },
      "text/plain": [
       "Width=15, Depth=15:   0%|          | 0/3 [00:00<?, ?it/s]"
      ]
     },
     "metadata": {},
     "output_type": "display_data"
    },
    {
     "data": {
      "application/vnd.jupyter.widget-view+json": {
       "model_id": "8f38abcd9d874ea58172113daad385ca",
       "version_major": 2,
       "version_minor": 0
      },
      "text/plain": [
       "Width=25, Depth=7:   0%|          | 0/3 [00:00<?, ?it/s]"
      ]
     },
     "metadata": {},
     "output_type": "display_data"
    },
    {
     "data": {
      "application/vnd.jupyter.widget-view+json": {
       "model_id": "0001d08052644a9cb8dd9dc726980564",
       "version_major": 2,
       "version_minor": 0
      },
      "text/plain": [
       "Width=25, Depth=10:   0%|          | 0/3 [00:00<?, ?it/s]"
      ]
     },
     "metadata": {},
     "output_type": "display_data"
    },
    {
     "data": {
      "application/vnd.jupyter.widget-view+json": {
       "model_id": "04d0ef2418ca42039aeffe1141865e03",
       "version_major": 2,
       "version_minor": 0
      },
      "text/plain": [
       "Width=25, Depth=15:   0%|          | 0/3 [00:00<?, ?it/s]"
      ]
     },
     "metadata": {},
     "output_type": "display_data"
    },
    {
     "data": {
      "application/vnd.jupyter.widget-view+json": {
       "model_id": "ea66c44458c64e029cb074f3f8cb665d",
       "version_major": 2,
       "version_minor": 0
      },
      "text/plain": [
       "Width=50, Depth=7:   0%|          | 0/3 [00:00<?, ?it/s]"
      ]
     },
     "metadata": {},
     "output_type": "display_data"
    },
    {
     "data": {
      "application/vnd.jupyter.widget-view+json": {
       "model_id": "3928b22efdc945b294f76bfed09cf979",
       "version_major": 2,
       "version_minor": 0
      },
      "text/plain": [
       "Width=50, Depth=10:   0%|          | 0/3 [00:00<?, ?it/s]"
      ]
     },
     "metadata": {},
     "output_type": "display_data"
    },
    {
     "data": {
      "application/vnd.jupyter.widget-view+json": {
       "model_id": "19dc0fcb846349caadb1ba81df2f6933",
       "version_major": 2,
       "version_minor": 0
      },
      "text/plain": [
       "Width=50, Depth=15:   0%|          | 0/3 [00:00<?, ?it/s]"
      ]
     },
     "metadata": {},
     "output_type": "display_data"
    },
    {
     "data": {
      "text/html": [
       "<div>\n",
       "<style scoped>\n",
       "    .dataframe tbody tr th:only-of-type {\n",
       "        vertical-align: middle;\n",
       "    }\n",
       "\n",
       "    .dataframe tbody tr th {\n",
       "        vertical-align: top;\n",
       "    }\n",
       "\n",
       "    .dataframe thead th {\n",
       "        text-align: right;\n",
       "    }\n",
       "</style>\n",
       "<table border=\"1\" class=\"dataframe\">\n",
       "  <thead>\n",
       "    <tr style=\"text-align: right;\">\n",
       "      <th></th>\n",
       "      <th>Width</th>\n",
       "      <th>Depth</th>\n",
       "      <th>Mean_Ricci</th>\n",
       "      <th>Std_Ricci</th>\n",
       "      <th>Negative_Share</th>\n",
       "    </tr>\n",
       "  </thead>\n",
       "  <tbody>\n",
       "    <tr>\n",
       "      <th>0</th>\n",
       "      <td>15</td>\n",
       "      <td>7</td>\n",
       "      <td>-0.380493</td>\n",
       "      <td>0.077863</td>\n",
       "      <td>0.847000</td>\n",
       "    </tr>\n",
       "    <tr>\n",
       "      <th>1</th>\n",
       "      <td>15</td>\n",
       "      <td>10</td>\n",
       "      <td>-0.435470</td>\n",
       "      <td>0.049290</td>\n",
       "      <td>0.945948</td>\n",
       "    </tr>\n",
       "    <tr>\n",
       "      <th>2</th>\n",
       "      <td>15</td>\n",
       "      <td>15</td>\n",
       "      <td>-0.486331</td>\n",
       "      <td>0.023237</td>\n",
       "      <td>0.955979</td>\n",
       "    </tr>\n",
       "    <tr>\n",
       "      <th>3</th>\n",
       "      <td>25</td>\n",
       "      <td>7</td>\n",
       "      <td>-0.393478</td>\n",
       "      <td>0.132076</td>\n",
       "      <td>0.854000</td>\n",
       "    </tr>\n",
       "    <tr>\n",
       "      <th>4</th>\n",
       "      <td>25</td>\n",
       "      <td>10</td>\n",
       "      <td>-0.447035</td>\n",
       "      <td>0.014357</td>\n",
       "      <td>0.957000</td>\n",
       "    </tr>\n",
       "    <tr>\n",
       "      <th>5</th>\n",
       "      <td>25</td>\n",
       "      <td>15</td>\n",
       "      <td>-0.476059</td>\n",
       "      <td>0.089453</td>\n",
       "      <td>0.961000</td>\n",
       "    </tr>\n",
       "    <tr>\n",
       "      <th>6</th>\n",
       "      <td>50</td>\n",
       "      <td>7</td>\n",
       "      <td>-0.517199</td>\n",
       "      <td>0.043100</td>\n",
       "      <td>0.942333</td>\n",
       "    </tr>\n",
       "    <tr>\n",
       "      <th>7</th>\n",
       "      <td>50</td>\n",
       "      <td>10</td>\n",
       "      <td>-0.484298</td>\n",
       "      <td>0.075493</td>\n",
       "      <td>0.951000</td>\n",
       "    </tr>\n",
       "    <tr>\n",
       "      <th>8</th>\n",
       "      <td>50</td>\n",
       "      <td>15</td>\n",
       "      <td>-0.489953</td>\n",
       "      <td>0.054878</td>\n",
       "      <td>0.956000</td>\n",
       "    </tr>\n",
       "  </tbody>\n",
       "</table>\n",
       "</div>"
      ],
      "text/plain": [
       "   Width  Depth  Mean_Ricci  Std_Ricci  Negative_Share\n",
       "0     15      7   -0.380493   0.077863        0.847000\n",
       "1     15     10   -0.435470   0.049290        0.945948\n",
       "2     15     15   -0.486331   0.023237        0.955979\n",
       "3     25      7   -0.393478   0.132076        0.854000\n",
       "4     25     10   -0.447035   0.014357        0.957000\n",
       "5     25     15   -0.476059   0.089453        0.961000\n",
       "6     50      7   -0.517199   0.043100        0.942333\n",
       "7     50     10   -0.484298   0.075493        0.951000\n",
       "8     50     15   -0.489953   0.054878        0.956000"
      ]
     },
     "execution_count": 11,
     "metadata": {},
     "output_type": "execute_result"
    }
   ],
   "source": [
    "# Load datasets\n",
    "X_train_4circles, y_train_4circles = DatasetFactory.make_4circles()\n",
    "X_test_4circles, y_test_4circles = DatasetFactory.make_4circles()\n",
    "\n",
    "# Widths and depths of the networks\n",
    "widths, depths = [15, 25, 50], [7, 10, 15]\n",
    "\n",
    "# Dataframe for results\n",
    "df_results = pd.DataFrame(columns=[\"Width\", \"Depth\", \"Mean_Ricci\", \"Std_Ricci\", \"Negative_Share\"])\n",
    "\n",
    "for width in widths:\n",
    "    for depth in depths:\n",
    "        local_ricci_coefs_mean = []\n",
    "        share_negative = []\n",
    "\n",
    "        for _ in tqdm(range(num_iterations), desc=f\"Width={width}, Depth={depth}\"):\n",
    "            # Train model    \n",
    "            model = DNN(input_dimension=2, hidden_units=width, depth=depth)\n",
    "            train_model(\n",
    "                threshold_accuracy=99,\n",
    "                model=model,\n",
    "                X_train=X_train_4circles,\n",
    "                y_train=y_train_4circles,\n",
    "                X_test=X_test_4circles,\n",
    "                y_test=y_test_4circles\n",
    "            )\n",
    "            # Compute local Ricci evolution coefficients \n",
    "            local_ricci = Ricci_Coefficients(\n",
    "                model, X_test_4circles, 50\n",
    "            ).local_ricci_coefficient(curv='Augmented-Forman-Ricci')\n",
    "            local_ricci_coefs_mean.append(np.nanmean(local_ricci))\n",
    "            valid = local_ricci[~np.isnan(local_ricci)]\n",
    "            share_negative.append(np.mean(valid < 0))\n",
    "\n",
    "        # Compute final aggregated stats and add to dataframe\n",
    "        mean_of_means = np.mean(local_ricci_coefs_mean)\n",
    "        std_of_means = np.std(local_ricci_coefs_mean)\n",
    "        mean_of_neg_share = np.mean(share_negative)\n",
    "        df_results.loc[len(df_results)] = [width, depth, mean_of_means, std_of_means, mean_of_neg_share]\n",
    "\n",
    "df_results[\"Width\"] = df_results[\"Width\"].astype(int)\n",
    "df_results[\"Depth\"] = df_results[\"Depth\"].astype(int)\n",
    "df_results.head(9)\n",
    "\n",
    "      "
   ]
  },
  {
   "cell_type": "markdown",
   "id": "0c87033c",
   "metadata": {},
   "source": [
    "## 2.3 Syn-III Dataset"
   ]
  },
  {
   "cell_type": "code",
   "execution_count": 12,
   "id": "f783fbeb",
   "metadata": {},
   "outputs": [
    {
     "data": {
      "application/vnd.jupyter.widget-view+json": {
       "model_id": "1d0cb55fe66044eabdd85d758d26c320",
       "version_major": 2,
       "version_minor": 0
      },
      "text/plain": [
       "Width=15, Depth=7:   0%|          | 0/3 [00:00<?, ?it/s]"
      ]
     },
     "metadata": {},
     "output_type": "display_data"
    },
    {
     "data": {
      "application/vnd.jupyter.widget-view+json": {
       "model_id": "00cc8930c1124f679913f4dd7faf898f",
       "version_major": 2,
       "version_minor": 0
      },
      "text/plain": [
       "Width=15, Depth=10:   0%|          | 0/3 [00:00<?, ?it/s]"
      ]
     },
     "metadata": {},
     "output_type": "display_data"
    },
    {
     "data": {
      "application/vnd.jupyter.widget-view+json": {
       "model_id": "8e677ba4ac4e4a24ba7f4c819abd7f32",
       "version_major": 2,
       "version_minor": 0
      },
      "text/plain": [
       "Width=15, Depth=15:   0%|          | 0/3 [00:00<?, ?it/s]"
      ]
     },
     "metadata": {},
     "output_type": "display_data"
    },
    {
     "data": {
      "application/vnd.jupyter.widget-view+json": {
       "model_id": "a6f79c904707498ca5ff4218ec976ac8",
       "version_major": 2,
       "version_minor": 0
      },
      "text/plain": [
       "Width=25, Depth=7:   0%|          | 0/3 [00:00<?, ?it/s]"
      ]
     },
     "metadata": {},
     "output_type": "display_data"
    },
    {
     "data": {
      "application/vnd.jupyter.widget-view+json": {
       "model_id": "9a82abc8179c41c18cfe46280ea9f821",
       "version_major": 2,
       "version_minor": 0
      },
      "text/plain": [
       "Width=25, Depth=10:   0%|          | 0/3 [00:00<?, ?it/s]"
      ]
     },
     "metadata": {},
     "output_type": "display_data"
    },
    {
     "data": {
      "application/vnd.jupyter.widget-view+json": {
       "model_id": "46aff6760a2a449298f56c4022b0218e",
       "version_major": 2,
       "version_minor": 0
      },
      "text/plain": [
       "Width=25, Depth=15:   0%|          | 0/3 [00:00<?, ?it/s]"
      ]
     },
     "metadata": {},
     "output_type": "display_data"
    },
    {
     "data": {
      "application/vnd.jupyter.widget-view+json": {
       "model_id": "79e5f4a9929743a89478e07feb6c71e8",
       "version_major": 2,
       "version_minor": 0
      },
      "text/plain": [
       "Width=50, Depth=7:   0%|          | 0/3 [00:00<?, ?it/s]"
      ]
     },
     "metadata": {},
     "output_type": "display_data"
    },
    {
     "data": {
      "application/vnd.jupyter.widget-view+json": {
       "model_id": "bed550b095c24e7f8a55a037eb462434",
       "version_major": 2,
       "version_minor": 0
      },
      "text/plain": [
       "Width=50, Depth=10:   0%|          | 0/3 [00:00<?, ?it/s]"
      ]
     },
     "metadata": {},
     "output_type": "display_data"
    },
    {
     "data": {
      "application/vnd.jupyter.widget-view+json": {
       "model_id": "647bebb3ec26427684fae42b50968e93",
       "version_major": 2,
       "version_minor": 0
      },
      "text/plain": [
       "Width=50, Depth=15:   0%|          | 0/3 [00:00<?, ?it/s]"
      ]
     },
     "metadata": {},
     "output_type": "display_data"
    },
    {
     "data": {
      "text/html": [
       "<div>\n",
       "<style scoped>\n",
       "    .dataframe tbody tr th:only-of-type {\n",
       "        vertical-align: middle;\n",
       "    }\n",
       "\n",
       "    .dataframe tbody tr th {\n",
       "        vertical-align: top;\n",
       "    }\n",
       "\n",
       "    .dataframe thead th {\n",
       "        text-align: right;\n",
       "    }\n",
       "</style>\n",
       "<table border=\"1\" class=\"dataframe\">\n",
       "  <thead>\n",
       "    <tr style=\"text-align: right;\">\n",
       "      <th></th>\n",
       "      <th>Width</th>\n",
       "      <th>Depth</th>\n",
       "      <th>Mean_Ricci</th>\n",
       "      <th>Std_Ricci</th>\n",
       "      <th>Negative_Share</th>\n",
       "    </tr>\n",
       "  </thead>\n",
       "  <tbody>\n",
       "    <tr>\n",
       "      <th>0</th>\n",
       "      <td>15</td>\n",
       "      <td>7</td>\n",
       "      <td>-0.596808</td>\n",
       "      <td>0.072071</td>\n",
       "      <td>0.968667</td>\n",
       "    </tr>\n",
       "    <tr>\n",
       "      <th>1</th>\n",
       "      <td>15</td>\n",
       "      <td>10</td>\n",
       "      <td>-0.701079</td>\n",
       "      <td>0.033540</td>\n",
       "      <td>0.996000</td>\n",
       "    </tr>\n",
       "    <tr>\n",
       "      <th>2</th>\n",
       "      <td>15</td>\n",
       "      <td>15</td>\n",
       "      <td>-0.786939</td>\n",
       "      <td>0.032594</td>\n",
       "      <td>0.999333</td>\n",
       "    </tr>\n",
       "    <tr>\n",
       "      <th>3</th>\n",
       "      <td>25</td>\n",
       "      <td>7</td>\n",
       "      <td>-0.651162</td>\n",
       "      <td>0.010114</td>\n",
       "      <td>0.990000</td>\n",
       "    </tr>\n",
       "    <tr>\n",
       "      <th>4</th>\n",
       "      <td>25</td>\n",
       "      <td>10</td>\n",
       "      <td>-0.772412</td>\n",
       "      <td>0.019535</td>\n",
       "      <td>0.999000</td>\n",
       "    </tr>\n",
       "    <tr>\n",
       "      <th>5</th>\n",
       "      <td>25</td>\n",
       "      <td>15</td>\n",
       "      <td>-0.693526</td>\n",
       "      <td>0.077769</td>\n",
       "      <td>0.991000</td>\n",
       "    </tr>\n",
       "    <tr>\n",
       "      <th>6</th>\n",
       "      <td>50</td>\n",
       "      <td>7</td>\n",
       "      <td>-0.636288</td>\n",
       "      <td>0.040630</td>\n",
       "      <td>0.983667</td>\n",
       "    </tr>\n",
       "    <tr>\n",
       "      <th>7</th>\n",
       "      <td>50</td>\n",
       "      <td>10</td>\n",
       "      <td>-0.756721</td>\n",
       "      <td>0.016107</td>\n",
       "      <td>0.997667</td>\n",
       "    </tr>\n",
       "    <tr>\n",
       "      <th>8</th>\n",
       "      <td>50</td>\n",
       "      <td>15</td>\n",
       "      <td>-0.792472</td>\n",
       "      <td>0.029205</td>\n",
       "      <td>0.999667</td>\n",
       "    </tr>\n",
       "  </tbody>\n",
       "</table>\n",
       "</div>"
      ],
      "text/plain": [
       "   Width  Depth  Mean_Ricci  Std_Ricci  Negative_Share\n",
       "0     15      7   -0.596808   0.072071        0.968667\n",
       "1     15     10   -0.701079   0.033540        0.996000\n",
       "2     15     15   -0.786939   0.032594        0.999333\n",
       "3     25      7   -0.651162   0.010114        0.990000\n",
       "4     25     10   -0.772412   0.019535        0.999000\n",
       "5     25     15   -0.693526   0.077769        0.991000\n",
       "6     50      7   -0.636288   0.040630        0.983667\n",
       "7     50     10   -0.756721   0.016107        0.997667\n",
       "8     50     15   -0.792472   0.029205        0.999667"
      ]
     },
     "execution_count": 12,
     "metadata": {},
     "output_type": "execute_result"
    }
   ],
   "source": [
    "# Load Datasets\n",
    "X_train_cylinder,y_train_cylinder = DatasetFactory.make_cylinders()\n",
    "X_test_cylinder,y_test_cylinder = DatasetFactory.make_cylinders()\n",
    "\n",
    "# Widths and depths of networks\n",
    "widths, depths = [15, 25, 50], [7, 10, 15]\n",
    "\n",
    "# Dataframe for results\n",
    "df_results = pd.DataFrame(columns=[\"Width\", \"Depth\", \"Mean_Ricci\", \"Std_Ricci\", \"Negative_Share\"])\n",
    "\n",
    "for width in widths:\n",
    "    for depth in depths:\n",
    "        local_ricci_coefs_mean = []\n",
    "        share_negative = []\n",
    "\n",
    "        for _ in tqdm(range(num_iterations), desc=f\"Width={width}, Depth={depth}\"):\n",
    "            # Train models\n",
    "            model = DNN(input_dimension=3, hidden_units=width, depth=depth)\n",
    "            train_model(\n",
    "                threshold_accuracy=99,\n",
    "                model=model,\n",
    "                X_train=X_train_cylinder,\n",
    "                y_train=y_train_cylinder,\n",
    "                X_test=X_test_cylinder,\n",
    "                y_test=y_test_cylinder\n",
    "            )\n",
    "            # Calculate local Ricci evolution coefficients\n",
    "            local_ricci = Ricci_Coefficients(\n",
    "                model, X_test_cylinder, 50\n",
    "            ).local_ricci_coefficient(curv='Augmented-Forman-Ricci')\n",
    "            local_ricci_coefs_mean.append(np.nanmean(local_ricci))\n",
    "            valid = local_ricci[~np.isnan(local_ricci)]\n",
    "            share_negative.append(np.mean(valid < 0))\n",
    "\n",
    "        # Compute final aggregated stats and add to dataframe\n",
    "        mean_of_means = np.mean(local_ricci_coefs_mean)\n",
    "        std_of_means = np.std(local_ricci_coefs_mean)\n",
    "        mean_of_neg_share = np.mean(share_negative)\n",
    "        df_results.loc[len(df_results)] = [width, depth, mean_of_means, std_of_means, mean_of_neg_share]\n",
    "\n",
    "df_results[\"Width\"] = df_results[\"Width\"].astype(int)\n",
    "df_results[\"Depth\"] = df_results[\"Depth\"].astype(int)\n",
    "df_results.head(9)"
   ]
  },
  {
   "cell_type": "markdown",
   "id": "56ea9578",
   "metadata": {},
   "source": [
    "## 2.4 Syn-IV Dataset "
   ]
  },
  {
   "cell_type": "code",
   "execution_count": 13,
   "id": "11a917f5",
   "metadata": {},
   "outputs": [
    {
     "data": {
      "application/vnd.jupyter.widget-view+json": {
       "model_id": "6f242138bc894bc1bec05924bc041a83",
       "version_major": 2,
       "version_minor": 0
      },
      "text/plain": [
       "Width=15, Depth=7:   0%|          | 0/3 [00:00<?, ?it/s]"
      ]
     },
     "metadata": {},
     "output_type": "display_data"
    },
    {
     "data": {
      "application/vnd.jupyter.widget-view+json": {
       "model_id": "7a884823d774434f85f4d05141cd3072",
       "version_major": 2,
       "version_minor": 0
      },
      "text/plain": [
       "Width=15, Depth=10:   0%|          | 0/3 [00:00<?, ?it/s]"
      ]
     },
     "metadata": {},
     "output_type": "display_data"
    },
    {
     "data": {
      "application/vnd.jupyter.widget-view+json": {
       "model_id": "3d0128ea967d447fbca095c6989d6e75",
       "version_major": 2,
       "version_minor": 0
      },
      "text/plain": [
       "Width=15, Depth=15:   0%|          | 0/3 [00:00<?, ?it/s]"
      ]
     },
     "metadata": {},
     "output_type": "display_data"
    },
    {
     "data": {
      "application/vnd.jupyter.widget-view+json": {
       "model_id": "9c4570be923f40d399f185408edd4e6c",
       "version_major": 2,
       "version_minor": 0
      },
      "text/plain": [
       "Width=25, Depth=7:   0%|          | 0/3 [00:00<?, ?it/s]"
      ]
     },
     "metadata": {},
     "output_type": "display_data"
    },
    {
     "data": {
      "application/vnd.jupyter.widget-view+json": {
       "model_id": "b3df01de8d6c4f21b58949bc24d7ff30",
       "version_major": 2,
       "version_minor": 0
      },
      "text/plain": [
       "Width=25, Depth=10:   0%|          | 0/3 [00:00<?, ?it/s]"
      ]
     },
     "metadata": {},
     "output_type": "display_data"
    },
    {
     "data": {
      "application/vnd.jupyter.widget-view+json": {
       "model_id": "acf9d154f2bc4c0a8634e04149f4c991",
       "version_major": 2,
       "version_minor": 0
      },
      "text/plain": [
       "Width=25, Depth=15:   0%|          | 0/3 [00:00<?, ?it/s]"
      ]
     },
     "metadata": {},
     "output_type": "display_data"
    },
    {
     "data": {
      "application/vnd.jupyter.widget-view+json": {
       "model_id": "a682d112f4324d24a029b26a9c670787",
       "version_major": 2,
       "version_minor": 0
      },
      "text/plain": [
       "Width=50, Depth=7:   0%|          | 0/3 [00:00<?, ?it/s]"
      ]
     },
     "metadata": {},
     "output_type": "display_data"
    },
    {
     "data": {
      "application/vnd.jupyter.widget-view+json": {
       "model_id": "73b76785192d49798285e9d560205225",
       "version_major": 2,
       "version_minor": 0
      },
      "text/plain": [
       "Width=50, Depth=10:   0%|          | 0/3 [00:00<?, ?it/s]"
      ]
     },
     "metadata": {},
     "output_type": "display_data"
    },
    {
     "data": {
      "application/vnd.jupyter.widget-view+json": {
       "model_id": "222378e28f564787b27797754a7e47d8",
       "version_major": 2,
       "version_minor": 0
      },
      "text/plain": [
       "Width=50, Depth=15:   0%|          | 0/3 [00:00<?, ?it/s]"
      ]
     },
     "metadata": {},
     "output_type": "display_data"
    },
    {
     "data": {
      "text/html": [
       "<div>\n",
       "<style scoped>\n",
       "    .dataframe tbody tr th:only-of-type {\n",
       "        vertical-align: middle;\n",
       "    }\n",
       "\n",
       "    .dataframe tbody tr th {\n",
       "        vertical-align: top;\n",
       "    }\n",
       "\n",
       "    .dataframe thead th {\n",
       "        text-align: right;\n",
       "    }\n",
       "</style>\n",
       "<table border=\"1\" class=\"dataframe\">\n",
       "  <thead>\n",
       "    <tr style=\"text-align: right;\">\n",
       "      <th></th>\n",
       "      <th>Width</th>\n",
       "      <th>Depth</th>\n",
       "      <th>Mean_Ricci</th>\n",
       "      <th>Std_Ricci</th>\n",
       "      <th>Negative_Share</th>\n",
       "    </tr>\n",
       "  </thead>\n",
       "  <tbody>\n",
       "    <tr>\n",
       "      <th>0</th>\n",
       "      <td>15</td>\n",
       "      <td>7</td>\n",
       "      <td>-0.438060</td>\n",
       "      <td>0.083105</td>\n",
       "      <td>0.872000</td>\n",
       "    </tr>\n",
       "    <tr>\n",
       "      <th>1</th>\n",
       "      <td>15</td>\n",
       "      <td>10</td>\n",
       "      <td>-0.335115</td>\n",
       "      <td>0.131890</td>\n",
       "      <td>0.814333</td>\n",
       "    </tr>\n",
       "    <tr>\n",
       "      <th>2</th>\n",
       "      <td>15</td>\n",
       "      <td>15</td>\n",
       "      <td>-0.656805</td>\n",
       "      <td>0.026930</td>\n",
       "      <td>0.969403</td>\n",
       "    </tr>\n",
       "    <tr>\n",
       "      <th>3</th>\n",
       "      <td>25</td>\n",
       "      <td>7</td>\n",
       "      <td>-0.338964</td>\n",
       "      <td>0.043296</td>\n",
       "      <td>0.790667</td>\n",
       "    </tr>\n",
       "    <tr>\n",
       "      <th>4</th>\n",
       "      <td>25</td>\n",
       "      <td>10</td>\n",
       "      <td>-0.407890</td>\n",
       "      <td>0.107231</td>\n",
       "      <td>0.862667</td>\n",
       "    </tr>\n",
       "    <tr>\n",
       "      <th>5</th>\n",
       "      <td>25</td>\n",
       "      <td>15</td>\n",
       "      <td>-0.599177</td>\n",
       "      <td>0.065129</td>\n",
       "      <td>0.962333</td>\n",
       "    </tr>\n",
       "    <tr>\n",
       "      <th>6</th>\n",
       "      <td>50</td>\n",
       "      <td>7</td>\n",
       "      <td>-0.231093</td>\n",
       "      <td>0.066751</td>\n",
       "      <td>0.690667</td>\n",
       "    </tr>\n",
       "    <tr>\n",
       "      <th>7</th>\n",
       "      <td>50</td>\n",
       "      <td>10</td>\n",
       "      <td>-0.364553</td>\n",
       "      <td>0.039528</td>\n",
       "      <td>0.812619</td>\n",
       "    </tr>\n",
       "    <tr>\n",
       "      <th>8</th>\n",
       "      <td>50</td>\n",
       "      <td>15</td>\n",
       "      <td>-0.669284</td>\n",
       "      <td>0.017191</td>\n",
       "      <td>0.994333</td>\n",
       "    </tr>\n",
       "  </tbody>\n",
       "</table>\n",
       "</div>"
      ],
      "text/plain": [
       "   Width  Depth  Mean_Ricci  Std_Ricci  Negative_Share\n",
       "0     15      7   -0.438060   0.083105        0.872000\n",
       "1     15     10   -0.335115   0.131890        0.814333\n",
       "2     15     15   -0.656805   0.026930        0.969403\n",
       "3     25      7   -0.338964   0.043296        0.790667\n",
       "4     25     10   -0.407890   0.107231        0.862667\n",
       "5     25     15   -0.599177   0.065129        0.962333\n",
       "6     50      7   -0.231093   0.066751        0.690667\n",
       "7     50     10   -0.364553   0.039528        0.812619\n",
       "8     50     15   -0.669284   0.017191        0.994333"
      ]
     },
     "execution_count": 13,
     "metadata": {},
     "output_type": "execute_result"
    }
   ],
   "source": [
    "# Load datasets\n",
    "X_train_tori, y_train_tori = DatasetFactory.make_tori()\n",
    "X_test_tori, y_test_tori = DatasetFactory.make_tori()\n",
    "\n",
    "# Widths and depths of networks\n",
    "widths, depths = [15, 25, 50], [7, 10, 15]\n",
    "\n",
    "# Dataframe for results\n",
    "df_results = pd.DataFrame(columns=[\"Width\", \"Depth\", \"Mean_Ricci\", \"Std_Ricci\", \"Negative_Share\"])\n",
    "\n",
    "for width in widths:\n",
    "    for depth in depths:\n",
    "        local_ricci_coefs_mean = []\n",
    "        share_negative = []\n",
    "\n",
    "        for _ in tqdm(range(num_iterations), desc=f\"Width={width}, Depth={depth}\"):     \n",
    "            # Train model   \n",
    "            model = DNN(input_dimension=3, hidden_units=width, depth=depth)\n",
    "            train_model(\n",
    "                threshold_accuracy=99,\n",
    "                model=model,\n",
    "                X_train=X_train_tori,\n",
    "                y_train=y_train_tori,\n",
    "                X_test=X_test_tori,\n",
    "                y_test=y_test_tori\n",
    "            )\n",
    "            # Calculate local Ricci evolution coefficients\n",
    "            local_ricci = Ricci_Coefficients(\n",
    "                model, X_test_tori, 50\n",
    "            ).local_ricci_coefficient(curv='Augmented-Forman-Ricci')\n",
    "            local_ricci_coefs_mean.append(np.nanmean(local_ricci))\n",
    "            valid = local_ricci[~np.isnan(local_ricci)]\n",
    "            share_negative.append(np.mean(valid < 0))\n",
    "\n",
    "        # Compute final aggregated stats and add to dataframe\n",
    "        mean_of_means = np.mean(local_ricci_coefs_mean)\n",
    "        std_of_means = np.std(local_ricci_coefs_mean)\n",
    "        mean_of_neg_share = np.mean(share_negative)\n",
    "        df_results.loc[len(df_results)] = [width, depth, mean_of_means, std_of_means, mean_of_neg_share]\n",
    "\n",
    "df_results[\"Width\"] = df_results[\"Width\"].astype(int)\n",
    "df_results[\"Depth\"] = df_results[\"Depth\"].astype(int)\n",
    "df_results.head(9)"
   ]
  },
  {
   "cell_type": "markdown",
   "id": "7ae90176",
   "metadata": {},
   "source": [
    "# 3. Local Ricci Coefficients Distribution\n",
    "\n",
    "In this section we plot the entire distribution of local Ricci evolution coefficients on the real-world datasets."
   ]
  },
  {
   "cell_type": "markdown",
   "id": "753b053a",
   "metadata": {},
   "source": [
    "## 3.1 Ollivier-Ricci curvature"
   ]
  },
  {
   "cell_type": "markdown",
   "id": "93b63e3c",
   "metadata": {},
   "source": [
    "### 3.1.1 MNIST 1 vs. 7"
   ]
  },
  {
   "cell_type": "code",
   "execution_count": 14,
   "id": "d693509b",
   "metadata": {},
   "outputs": [
    {
     "data": {
      "image/png": "[encoded data removed]",
      "text/plain": [
       "<Figure size 640x480 with 1 Axes>"
      ]
     },
     "metadata": {},
     "output_type": "display_data"
    }
   ],
   "source": [
    "# Load dataset\n",
    "X_train_MNIST_17,y_train_MNIST_17, X_test_MNIST_17, y_test_MNIST_17 = DatasetFactory.load_MNIST(digits=(1,7), device=device)\n",
    "\n",
    "# Train model\n",
    "model = DNN(input_dimension=784, hidden_units=50, depth=15, vision_model=True).to(device=device)\n",
    "train_model(\n",
    "    threshold_accuracy=99,\n",
    "    model=model,\n",
    "    X_train=X_train_MNIST_17,\n",
    "    y_train=y_train_MNIST_17,\n",
    "    X_test=X_test_MNIST_17,\n",
    "    y_test=y_test_MNIST_17\n",
    ")\n",
    "\n",
    "# Calculate local Ricci evolution coefficients\n",
    "local_ricci = Ricci_Coefficients(\n",
    "    model, X_test_MNIST_17, 50\n",
    ").local_ricci_coefficient(curv='Ollivier-Ricci')\n",
    "\n",
    "# Plot histogram\n",
    "_ , _ , _ = plt.hist(local_ricci,bins=20)\n",
    "plt.ylabel(\"Frequency\", fontsize=16)\n",
    "plt.xlabel(\"Local Ricci evolution coefficient\", fontsize=16)\n",
    "plt.show()"
   ]
  },
  {
   "cell_type": "markdown",
   "id": "4db83561",
   "metadata": {},
   "source": [
    "### 3.1.2 MNIST 6 vs. 9"
   ]
  },
  {
   "cell_type": "code",
   "execution_count": 16,
   "id": "403f5f6d",
   "metadata": {},
   "outputs": [
    {
     "data": {
      "image/png": "[encoded data removed]",
      "text/plain": [
       "<Figure size 640x480 with 1 Axes>"
      ]
     },
     "metadata": {},
     "output_type": "display_data"
    }
   ],
   "source": [
    "# Load dataset\n",
    "X_train_MNIST_69,y_train_MNIST_69, X_test_MNIST_69, y_test_MNIST_69 = DatasetFactory.load_MNIST(digits=(6,9), device=device)\n",
    "\n",
    "# Train model\n",
    "model = DNN(input_dimension=784, hidden_units=50, depth=15, vision_model=True).to(device=device)\n",
    "train_model(\n",
    "    threshold_accuracy=99,\n",
    "    model=model,\n",
    "    X_train=X_train_MNIST_69,\n",
    "    y_train=y_train_MNIST_69,\n",
    "    X_test=X_test_MNIST_69,\n",
    "    y_test=y_test_MNIST_69\n",
    ")\n",
    "\n",
    "# Compute local Ricci evolution coefficients\n",
    "local_ricci = Ricci_Coefficients(\n",
    "    model, X_test_MNIST_69, 50\n",
    ").local_ricci_coefficient(curv='Ollivier-Ricci')\n",
    "\n",
    "# Plot histogram\n",
    "_ , _ , _ = plt.hist(local_ricci,bins=20)\n",
    "plt.ylabel(\"Frequency\", fontsize=16)\n",
    "plt.xlabel(\"Local Ricci evolution coefficient\", fontsize=16)\n",
    "plt.show()"
   ]
  },
  {
   "cell_type": "markdown",
   "id": "80632fdc",
   "metadata": {},
   "source": [
    "### 3.1.3 Fashion-MNIST Shoes"
   ]
  },
  {
   "cell_type": "code",
   "execution_count": null,
   "id": "a152ee8f",
   "metadata": {},
   "outputs": [
    {
     "name": "stdout",
     "output_type": "stream",
     "text": [
      "Curvature of layer 15 calculated\r"
     ]
    },
    {
     "data": {
      "image/png": "[encoded data removed]",
      "text/plain": [
       "<Figure size 640x480 with 1 Axes>"
      ]
     },
     "metadata": {},
     "output_type": "display_data"
    }
   ],
   "source": [
    "# Load dataset\n",
    "X_train_fMNIST_shoes,y_train_fMNIST_shoes, X_test_fMNIST_shoes, y_test_fMNIST_shoes = DatasetFactory.load_fMNIST(classes=(5,7), device=device)\n",
    "\n",
    "# Train model\n",
    "model = DNN(input_dimension=784, hidden_units=50, depth=15, vision_model=True).to(device=device)\n",
    "train_model(\n",
    "    threshold_accuracy=99,\n",
    "    model=model,\n",
    "    X_train=X_train_fMNIST_shoes,\n",
    "    y_train=y_train_fMNIST_shoes,\n",
    "    X_test=X_test_fMNIST_shoes,\n",
    "    y_test=y_test_fMNIST_shoes\n",
    ")\n",
    "\n",
    "# Calculate local Ricci evolution coefficients\n",
    "local_ricci = Ricci_Coefficients(\n",
    "    model, X_test_fMNIST_shoes, 50\n",
    ").local_ricci_coefficient(curv='Ollivier-Ricci')\n",
    "\n",
    "# Plot histogram\n",
    "_ , _ , _ = plt.hist(local_ricci,bins=20)\n",
    "plt.ylabel(\"Frequency\", fontsize=16)\n",
    "plt.xlabel(\"Local Ricci evolution coefficient\", fontsize=16)\n",
    "plt.show()"
   ]
  },
  {
   "cell_type": "markdown",
   "id": "a8372f16",
   "metadata": {},
   "source": [
    "### 3.1.4 Fashion-MNIST Apperal"
   ]
  },
  {
   "cell_type": "code",
   "execution_count": 47,
   "id": "ea6534d7",
   "metadata": {},
   "outputs": [
    {
     "name": "stdout",
     "output_type": "stream",
     "text": [
      "Curvature of layer 15 calculated\r"
     ]
    },
    {
     "data": {
      "image/png": "[encoded data removed]",
      "text/plain": [
       "<Figure size 640x480 with 1 Axes>"
      ]
     },
     "metadata": {},
     "output_type": "display_data"
    }
   ],
   "source": [
    "# Load dataset\n",
    "X_train_fMNIST_apperal,y_train_fMNIST_apperal, X_test_fMNIST_apperal, y_test_fMNIST_apperal = DatasetFactory.load_fMNIST((3,6), device=device)\n",
    "\n",
    "# Train model\n",
    "model = DNN(input_dimension=784, hidden_units=50, depth=15, vision_model=True).to(device=device)\n",
    "train_model(\n",
    "    threshold_accuracy=99,\n",
    "    model=model,\n",
    "    X_train=X_train_fMNIST_apperal,\n",
    "    y_train=y_train_fMNIST_apperal,\n",
    "    X_test=X_test_fMNIST_apperal,\n",
    "    y_test=y_test_fMNIST_apperal\n",
    ")\n",
    "\n",
    "# Calculate local Ricci evolution coefficients\n",
    "local_ricci = Ricci_Coefficients(\n",
    "    model, X_test_fMNIST_apperal, 50\n",
    ").local_ricci_coefficient(curv='Ollivier-Ricci')\n",
    "\n",
    "# Plot histogram\n",
    "_ , _ , _ = plt.hist(local_ricci,bins=20)\n",
    "plt.ylabel(\"Frequency\", fontsize=16)\n",
    "plt.xlabel(\"Local Ricci evolution coefficient\", fontsize=16)\n",
    "plt.show()"
   ]
  },
  {
   "cell_type": "markdown",
   "id": "eeb6b2a6",
   "metadata": {},
   "source": [
    "### 3.1.5 CIFAR Car vs. Plane"
   ]
  },
  {
   "cell_type": "code",
   "execution_count": 4,
   "id": "32f36740",
   "metadata": {},
   "outputs": [
    {
     "name": "stdout",
     "output_type": "stream",
     "text": [
      "Curvature of layer 15 calculated\r"
     ]
    },
    {
     "data": {
      "image/png": "[encoded data removed]",
      "text/plain": [
       "<Figure size 640x480 with 1 Axes>"
      ]
     },
     "metadata": {},
     "output_type": "display_data"
    }
   ],
   "source": [
    "# Load dataset\n",
    "X_train_CIFAR, y_train_CIFAR, X_test_CIFAR, y_test_CIFAR = DatasetFactory.load_CIFAR((0,1), device=device)\n",
    "\n",
    "# Train model\n",
    "model = DNN(input_dimension=3*32*32, hidden_units=50, depth=15, vision_model=True).to(device=device)\n",
    "train_model(\n",
    "    threshold_accuracy=99,\n",
    "    model=model,\n",
    "    X_train=X_train_CIFAR,\n",
    "    y_train=y_train_CIFAR,\n",
    "    X_test=X_test_CIFAR,\n",
    "    y_test=y_test_CIFAR\n",
    ")\n",
    "\n",
    "# Calculate local Ricci evolution coefficients\n",
    "local_ricci = Ricci_Coefficients(\n",
    "    model, X_test_CIFAR, 50\n",
    ").local_ricci_coefficient(curv='Ollivier-Ricci')\n",
    "\n",
    "# Plot histogram\n",
    "_ , _ , _ = plt.hist(local_ricci,bins=20)\n",
    "plt.ylabel(\"Frequency\", fontsize=16)\n",
    "plt.xlabel(\"Local Ricci evolution coefficient\", fontsize=16)\n",
    "plt.show()"
   ]
  },
  {
   "cell_type": "markdown",
   "id": "edf41d77",
   "metadata": {},
   "source": [
    "## 3.2 Forman-Ricci curvature"
   ]
  },
  {
   "cell_type": "markdown",
   "id": "f1434072",
   "metadata": {},
   "source": [
    "### 3.2.1 MNIST 1 vs. 7"
   ]
  },
  {
   "cell_type": "code",
   "execution_count": 38,
   "id": "dd26f5e0",
   "metadata": {},
   "outputs": [
    {
     "data": {
      "image/png": "[encoded data removed]",
      "text/plain": [
       "<Figure size 640x480 with 1 Axes>"
      ]
     },
     "metadata": {},
     "output_type": "display_data"
    }
   ],
   "source": [
    "# Load dataset\n",
    "X_train_MNIST_17,y_train_MNIST_17, X_test_MNIST_17, y_test_MNIST_17 = DatasetFactory.load_MNIST(digits=(1,7), device=device)\n",
    "\n",
    "# Train model\n",
    "model = DNN(input_dimension=784, hidden_units=50, depth=15, vision_model=True).to(device=device)\n",
    "train_model(\n",
    "    threshold_accuracy=99,\n",
    "    model=model,\n",
    "    X_train=X_train_MNIST_17,\n",
    "    y_train=y_train_MNIST_17,\n",
    "    X_test=X_test_MNIST_17,\n",
    "    y_test=y_test_MNIST_17\n",
    ")\n",
    "\n",
    "# Calculate local Ricci evolution coefficients\n",
    "local_ricci = Ricci_Coefficients(\n",
    "    model, X_test_MNIST_17, 50\n",
    ").local_ricci_coefficient(curv='Augmented-Forman-Ricci')\n",
    "\n",
    "# Plot histogram\n",
    "_ , _ , _ = plt.hist(local_ricci,bins=20)\n",
    "plt.ylabel(\"Frequency\", fontsize=16)\n",
    "plt.xlabel(\"Local Ricci evolution coefficient\", fontsize=16)\n",
    "plt.show()"
   ]
  },
  {
   "cell_type": "markdown",
   "id": "97b8f81a",
   "metadata": {},
   "source": [
    "### 3.2.2 MNIST 6 vs. 9"
   ]
  },
  {
   "cell_type": "code",
   "execution_count": 39,
   "id": "e1cf5b48",
   "metadata": {},
   "outputs": [
    {
     "data": {
      "image/png": "[encoded data removed]",
      "text/plain": [
       "<Figure size 640x480 with 1 Axes>"
      ]
     },
     "metadata": {},
     "output_type": "display_data"
    }
   ],
   "source": [
    "# Load dataset\n",
    "X_train_MNIST_69,y_train_MNIST_69, X_test_MNIST_69, y_test_MNIST_69 = DatasetFactory.load_MNIST(digits=(6,9), device=device)\n",
    "\n",
    "# Train model\n",
    "model = DNN(input_dimension=784, hidden_units=50, depth=15, vision_model=True).to(device=device)\n",
    "train_model(\n",
    "    threshold_accuracy=99,\n",
    "    model=model,\n",
    "    X_train=X_train_MNIST_69,\n",
    "    y_train=y_train_MNIST_69,\n",
    "    X_test=X_test_MNIST_69,\n",
    "    y_test=y_test_MNIST_69\n",
    ")\n",
    "\n",
    "# Compute local Ricci evolution coefficients\n",
    "local_ricci = Ricci_Coefficients(\n",
    "    model, X_test_MNIST_69, 50\n",
    ").local_ricci_coefficient(curv='Augmented-Forman-Ricci')\n",
    "\n",
    "# Plot histogram\n",
    "_ , _ , _ = plt.hist(local_ricci,bins=20)\n",
    "plt.ylabel(\"Frequency\", fontsize=16)\n",
    "plt.xlabel(\"Local Ricci evolution coefficient\", fontsize=16)\n",
    "plt.show()"
   ]
  },
  {
   "cell_type": "markdown",
   "id": "f2336a04",
   "metadata": {},
   "source": [
    "### 3.2.3 Fashion-MNIST Shoes"
   ]
  },
  {
   "cell_type": "code",
   "execution_count": 40,
   "id": "8811ae50",
   "metadata": {},
   "outputs": [
    {
     "data": {
      "image/png": "[encoded data removed]",
      "text/plain": [
       "<Figure size 640x480 with 1 Axes>"
      ]
     },
     "metadata": {},
     "output_type": "display_data"
    }
   ],
   "source": [
    "# Load dataset\n",
    "X_train_fMNIST_shoes,y_train_fMNIST_shoes, X_test_fMNIST_shoes, y_test_fMNIST_shoes = DatasetFactory.load_fMNIST((5,7), device=device)\n",
    "\n",
    "# Train model\n",
    "model = DNN(input_dimension=784, hidden_units=50, depth=15, vision_model=True).to(device=device)\n",
    "train_model(\n",
    "    threshold_accuracy=99,\n",
    "    model=model,\n",
    "    X_train=X_train_fMNIST_shoes,\n",
    "    y_train=y_train_fMNIST_shoes,\n",
    "    X_test=X_test_fMNIST_shoes,\n",
    "    y_test=y_test_fMNIST_shoes\n",
    ")\n",
    "\n",
    "# Calculate local Ricci evolution coefficients\n",
    "local_ricci = Ricci_Coefficients(\n",
    "    model, X_test_fMNIST_shoes, 50\n",
    ").local_ricci_coefficient(curv='Augmented-Forman-Ricci')\n",
    "\n",
    "# Plot histogram\n",
    "_ , _ , _ = plt.hist(local_ricci,bins=20)\n",
    "plt.ylabel(\"Frequency\", fontsize=16)\n",
    "plt.xlabel(\"Local Ricci evolution coefficient\", fontsize=16)\n",
    "plt.show()"
   ]
  },
  {
   "cell_type": "markdown",
   "id": "da543603",
   "metadata": {},
   "source": [
    "### 3.2.4 Fashion-MNIST Apperal"
   ]
  },
  {
   "cell_type": "code",
   "execution_count": 42,
   "id": "48e430b8",
   "metadata": {},
   "outputs": [
    {
     "data": {
      "image/png": "[encoded data removed]",
      "text/plain": [
       "<Figure size 640x480 with 1 Axes>"
      ]
     },
     "metadata": {},
     "output_type": "display_data"
    }
   ],
   "source": [
    "# Load dataset\n",
    "X_train_fMNIST_apperal,y_train_fMNIST_apperal, X_test_fMNIST_apperal, y_test_fMNIST_apperal = DatasetFactory.load_fMNIST((3,6), device=device)\n",
    "\n",
    "# Train model\n",
    "model = DNN(input_dimension=784, hidden_units=50, depth=15, vision_model=True).to(device=device)\n",
    "train_model(\n",
    "    threshold_accuracy=99,\n",
    "    model=model,\n",
    "    X_train=X_train_fMNIST_apperal,\n",
    "    y_train=y_train_fMNIST_apperal,\n",
    "    X_test=X_test_fMNIST_apperal,\n",
    "    y_test=y_test_fMNIST_apperal\n",
    ")\n",
    "\n",
    "# Calculate local Ricci evolution coefficients\n",
    "local_ricci = Ricci_Coefficients(\n",
    "    model, X_test_fMNIST_apperal, 50\n",
    ").local_ricci_coefficient(curv='Augmented-Forman-Ricci')\n",
    "\n",
    "# Plot histogram\n",
    "_ , _ , _ = plt.hist(local_ricci,bins=20)\n",
    "plt.ylabel(\"Frequency\", fontsize=16)\n",
    "plt.xlabel(\"Local Ricci evolution coefficient\", fontsize=16)\n",
    "plt.show()"
   ]
  },
  {
   "cell_type": "markdown",
   "id": "c08d5247",
   "metadata": {},
   "source": [
    "### 3.2.5 CIFAR Car vs. Plane"
   ]
  },
  {
   "cell_type": "code",
   "execution_count": 5,
   "id": "a77d25e2",
   "metadata": {},
   "outputs": [
    {
     "data": {
      "image/png": "[encoded data removed]",
      "text/plain": [
       "<Figure size 640x480 with 1 Axes>"
      ]
     },
     "metadata": {},
     "output_type": "display_data"
    }
   ],
   "source": [
    "# Load dataset\n",
    "X_train_CIFAR, y_train_CIFAR, X_test_CIFAR, y_test_CIFAR = DatasetFactory.load_CIFAR((0,1), device=device)\n",
    "\n",
    "# Train model\n",
    "model = DNN(input_dimension=3*32*32, hidden_units=50, depth=15, vision_model=True).to(device=device)\n",
    "train_model(\n",
    "    threshold_accuracy=99,\n",
    "    model=model,\n",
    "    X_train=X_train_CIFAR,\n",
    "    y_train=y_train_CIFAR,\n",
    "    X_test=X_test_CIFAR,\n",
    "    y_test=y_test_CIFAR\n",
    ")\n",
    "\n",
    "# Calculate local Ricci evolution coefficients\n",
    "local_ricci = Ricci_Coefficients(\n",
    "    model, X_test_CIFAR, 50\n",
    ").local_ricci_coefficient(curv='Augmented-Forman-Ricci')\n",
    "\n",
    "# Plot histogram\n",
    "_ , _ , _ = plt.hist(local_ricci,bins=20)\n",
    "plt.ylabel(\"Frequency\", fontsize=16)\n",
    "plt.xlabel(\"Local Ricci evolution coefficient\", fontsize=16)\n",
    "plt.show()"
   ]
  }
 ],
 "metadata": {
  "kernelspec": {
   "display_name": ".venv",
   "language": "python",
   "name": "python3"
  },
  "language_info": {
   "codemirror_mode": {
    "name": "ipython",
    "version": 3
   },
   "file_extension": ".py",
   "mimetype": "text/x-python",
   "name": "python",
   "nbconvert_exporter": "python",
   "pygments_lexer": "ipython3",
   "version": "3.11.0"
  }
 },
 "nbformat": 4,
 "nbformat_minor": 5
}
