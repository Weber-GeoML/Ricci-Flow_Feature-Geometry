{
 "cells": [
  {
   "cell_type": "markdown",
   "id": "69b14f4b",
   "metadata": {},
   "source": [
    "# Local Ricci Evolution Coefficients\n",
    "\n",
    "In this notebook, we compute the local Ricci evolution coefficients for feed-forward neural networks. We test networks of different widths and depths, using both synthetic and real-world datasets. We begin by importing the necessary libraries."
   ]
  },
  {
   "cell_type": "code",
   "execution_count": 6,
   "id": "62601e1d",
   "metadata": {},
   "outputs": [
    {
     "name": "stdout",
     "output_type": "stream",
     "text": [
      "Using mps device\n"
     ]
    }
   ],
   "source": [
    "import matplotlib.pyplot as plt\n",
    "import pandas as pd\n",
    "import numpy as np\n",
    "import torch\n",
    "import torch.nn as nn\n",
    "from tqdm.auto import tqdm\n",
    "import os\n",
    "import sys\n",
    "\n",
    "sys.path.append(os.path.abspath('..'))\n",
    "from ricci_coefficients import Ricci_Coefficients\n",
    "from helpers import train_model\n",
    "from neural_networks import DNN\n",
    "from datasets import DatasetFactory\n",
    "\n",
    "device = torch.accelerator.current_accelerator().type if torch.accelerator.is_available() else \"cpu\"\n",
    "print(f\"Using {device} device\")\n",
    "\n",
    "num_iterations = 3      # Number of iterations used for averaging results"
   ]
  },
  {
   "cell_type": "markdown",
   "id": "4ec7218b",
   "metadata": {},
   "source": [
    "# 1. Real-World Datasets"
   ]
  },
  {
   "cell_type": "markdown",
   "id": "94d47a11",
   "metadata": {},
   "source": [
    "## 1.1 MNIST 1 vs. 7"
   ]
  },
  {
   "cell_type": "code",
   "execution_count": 2,
   "id": "450dde4f",
   "metadata": {},
   "outputs": [
    {
     "data": {
      "application/vnd.jupyter.widget-view+json": {
       "model_id": "4de74ba705ca42a882a001109dc15824",
       "version_major": 2,
       "version_minor": 0
      },
      "text/plain": [
       "Width=15, Depth=7:   0%|          | 0/3 [00:00<?, ?it/s]"
      ]
     },
     "metadata": {},
     "output_type": "display_data"
    },
    {
     "data": {
      "application/vnd.jupyter.widget-view+json": {
       "model_id": "ce0fd470a65c46f6ad46a1d7085ecad1",
       "version_major": 2,
       "version_minor": 0
      },
      "text/plain": [
       "Width=15, Depth=10:   0%|          | 0/3 [00:00<?, ?it/s]"
      ]
     },
     "metadata": {},
     "output_type": "display_data"
    },
    {
     "data": {
      "application/vnd.jupyter.widget-view+json": {
       "model_id": "1e8f3da76a4541cc8ee359d73fdd4cc2",
       "version_major": 2,
       "version_minor": 0
      },
      "text/plain": [
       "Width=15, Depth=15:   0%|          | 0/3 [00:00<?, ?it/s]"
      ]
     },
     "metadata": {},
     "output_type": "display_data"
    },
    {
     "data": {
      "application/vnd.jupyter.widget-view+json": {
       "model_id": "455e550de54d4d12b14031324ac9b03a",
       "version_major": 2,
       "version_minor": 0
      },
      "text/plain": [
       "Width=25, Depth=7:   0%|          | 0/3 [00:00<?, ?it/s]"
      ]
     },
     "metadata": {},
     "output_type": "display_data"
    },
    {
     "data": {
      "application/vnd.jupyter.widget-view+json": {
       "model_id": "66220c9f347f42b990204e3ca6d294cb",
       "version_major": 2,
       "version_minor": 0
      },
      "text/plain": [
       "Width=25, Depth=10:   0%|          | 0/3 [00:00<?, ?it/s]"
      ]
     },
     "metadata": {},
     "output_type": "display_data"
    },
    {
     "data": {
      "application/vnd.jupyter.widget-view+json": {
       "model_id": "46d7afb93dc2471f99d2d9962d0879a4",
       "version_major": 2,
       "version_minor": 0
      },
      "text/plain": [
       "Width=25, Depth=15:   0%|          | 0/3 [00:00<?, ?it/s]"
      ]
     },
     "metadata": {},
     "output_type": "display_data"
    },
    {
     "data": {
      "application/vnd.jupyter.widget-view+json": {
       "model_id": "05a3b1bca4074a0f88a164daa40fa808",
       "version_major": 2,
       "version_minor": 0
      },
      "text/plain": [
       "Width=50, Depth=7:   0%|          | 0/3 [00:00<?, ?it/s]"
      ]
     },
     "metadata": {},
     "output_type": "display_data"
    },
    {
     "data": {
      "application/vnd.jupyter.widget-view+json": {
       "model_id": "d3a8513cbcd04deeb339d03776c54277",
       "version_major": 2,
       "version_minor": 0
      },
      "text/plain": [
       "Width=50, Depth=10:   0%|          | 0/3 [00:00<?, ?it/s]"
      ]
     },
     "metadata": {},
     "output_type": "display_data"
    },
    {
     "data": {
      "application/vnd.jupyter.widget-view+json": {
       "model_id": "e07534f976d6427fae1be58893579001",
       "version_major": 2,
       "version_minor": 0
      },
      "text/plain": [
       "Width=50, Depth=15:   0%|          | 0/3 [00:00<?, ?it/s]"
      ]
     },
     "metadata": {},
     "output_type": "display_data"
    },
    {
     "data": {
      "text/html": [
       "<div>\n",
       "<style scoped>\n",
       "    .dataframe tbody tr th:only-of-type {\n",
       "        vertical-align: middle;\n",
       "    }\n",
       "\n",
       "    .dataframe tbody tr th {\n",
       "        vertical-align: top;\n",
       "    }\n",
       "\n",
       "    .dataframe thead th {\n",
       "        text-align: right;\n",
       "    }\n",
       "</style>\n",
       "<table border=\"1\" class=\"dataframe\">\n",
       "  <thead>\n",
       "    <tr style=\"text-align: right;\">\n",
       "      <th></th>\n",
       "      <th>Width</th>\n",
       "      <th>Depth</th>\n",
       "      <th>Mean_Ricci</th>\n",
       "      <th>Std_Ricci</th>\n",
       "      <th>Negative_Share</th>\n",
       "    </tr>\n",
       "  </thead>\n",
       "  <tbody>\n",
       "    <tr>\n",
       "      <th>0</th>\n",
       "      <td>15</td>\n",
       "      <td>7</td>\n",
       "      <td>-0.740203</td>\n",
       "      <td>0.078834</td>\n",
       "      <td>0.968333</td>\n",
       "    </tr>\n",
       "    <tr>\n",
       "      <th>1</th>\n",
       "      <td>15</td>\n",
       "      <td>10</td>\n",
       "      <td>-0.823675</td>\n",
       "      <td>0.013331</td>\n",
       "      <td>0.996000</td>\n",
       "    </tr>\n",
       "    <tr>\n",
       "      <th>2</th>\n",
       "      <td>15</td>\n",
       "      <td>15</td>\n",
       "      <td>-0.831862</td>\n",
       "      <td>0.034257</td>\n",
       "      <td>0.990667</td>\n",
       "    </tr>\n",
       "    <tr>\n",
       "      <th>3</th>\n",
       "      <td>25</td>\n",
       "      <td>7</td>\n",
       "      <td>-0.794707</td>\n",
       "      <td>0.010528</td>\n",
       "      <td>0.983333</td>\n",
       "    </tr>\n",
       "    <tr>\n",
       "      <th>4</th>\n",
       "      <td>25</td>\n",
       "      <td>10</td>\n",
       "      <td>-0.868621</td>\n",
       "      <td>0.032268</td>\n",
       "      <td>0.999333</td>\n",
       "    </tr>\n",
       "    <tr>\n",
       "      <th>5</th>\n",
       "      <td>25</td>\n",
       "      <td>15</td>\n",
       "      <td>-0.823450</td>\n",
       "      <td>0.011936</td>\n",
       "      <td>0.999000</td>\n",
       "    </tr>\n",
       "    <tr>\n",
       "      <th>6</th>\n",
       "      <td>50</td>\n",
       "      <td>7</td>\n",
       "      <td>-0.823640</td>\n",
       "      <td>0.028542</td>\n",
       "      <td>0.990000</td>\n",
       "    </tr>\n",
       "    <tr>\n",
       "      <th>7</th>\n",
       "      <td>50</td>\n",
       "      <td>10</td>\n",
       "      <td>-0.852350</td>\n",
       "      <td>0.041202</td>\n",
       "      <td>0.996333</td>\n",
       "    </tr>\n",
       "    <tr>\n",
       "      <th>8</th>\n",
       "      <td>50</td>\n",
       "      <td>15</td>\n",
       "      <td>-0.855658</td>\n",
       "      <td>0.005952</td>\n",
       "      <td>1.000000</td>\n",
       "    </tr>\n",
       "  </tbody>\n",
       "</table>\n",
       "</div>"
      ],
      "text/plain": [
       "   Width  Depth  Mean_Ricci  Std_Ricci  Negative_Share\n",
       "0     15      7   -0.740203   0.078834        0.968333\n",
       "1     15     10   -0.823675   0.013331        0.996000\n",
       "2     15     15   -0.831862   0.034257        0.990667\n",
       "3     25      7   -0.794707   0.010528        0.983333\n",
       "4     25     10   -0.868621   0.032268        0.999333\n",
       "5     25     15   -0.823450   0.011936        0.999000\n",
       "6     50      7   -0.823640   0.028542        0.990000\n",
       "7     50     10   -0.852350   0.041202        0.996333\n",
       "8     50     15   -0.855658   0.005952        1.000000"
      ]
     },
     "execution_count": 2,
     "metadata": {},
     "output_type": "execute_result"
    }
   ],
   "source": [
    "# Load datasets\n",
    "X_train_MNIST_17, y_train_MNIST_17, X_test_MNIST_17, y_test_MNIST_17 = DatasetFactory.load_MNIST(digits=(1,7))\n",
    "\n",
    "# Width and depths of networks\n",
    "widths, depths = [15, 25, 50], [7, 10, 15]\n",
    "\n",
    "# Dataframe for results\n",
    "df_results = pd.DataFrame(columns=[\"Width\", \"Depth\", \"Mean_Ricci\", \"Std_Ricci\", \"Negative_Share\"])\n",
    "\n",
    "for width in widths:\n",
    "    for depth in depths:\n",
    "        local_ricci_coefs_mean = []\n",
    "        share_negative = []\n",
    "\n",
    "        for _ in tqdm(range(num_iterations), desc=f\"Width={width}, Depth={depth}\"):\n",
    "            # Train model\n",
    "            model = DNN(input_dimension=784, hidden_units=width, depth=depth, vision_model=True)\n",
    "            train_model(\n",
    "                threshold_accuracy=99,\n",
    "                model=model,\n",
    "                X_train=X_train_MNIST_17,\n",
    "                y_train=y_train_MNIST_17,\n",
    "                X_test=X_test_MNIST_17,\n",
    "                y_test=y_test_MNIST_17\n",
    "            )\n",
    "\n",
    "            # Compute local Ricci evolution coefficients (using augmented-Forman Ricci curvature; for Ollivier use 'Ollivier-Ricci' and for the approximation of Ollivier use 'Approx-Ollivier-Ricci')\n",
    "            local_ricci = Ricci_Coefficients(\n",
    "                model, X_test_MNIST_17, 50\n",
    "            ).local_ricci_coefficient(curv='Augmented-Forman-Ricci')\n",
    "            local_ricci_coefs_mean.append(np.nanmean(local_ricci))\n",
    "            valid = local_ricci[~np.isnan(local_ricci)]\n",
    "            share_negative.append(np.mean(valid < 0))\n",
    "\n",
    "        # Compute final aggregated stats and add to dataframe\n",
    "        mean_of_means = np.mean(local_ricci_coefs_mean)\n",
    "        std_of_means = np.std(local_ricci_coefs_mean)\n",
    "        mean_of_neg_share = np.mean(share_negative)\n",
    "        df_results.loc[len(df_results)] = [width, depth, mean_of_means, std_of_means, mean_of_neg_share]\n",
    "\n",
    "df_results[\"Width\"] = df_results[\"Width\"].astype(int)\n",
    "df_results[\"Depth\"] = df_results[\"Depth\"].astype(int)\n",
    "df_results.head(9)\n"
   ]
  },
  {
   "cell_type": "markdown",
   "id": "a57400de",
   "metadata": {},
   "source": [
    "## 1.2 MNIST 6 vs. 9"
   ]
  },
  {
   "cell_type": "code",
   "execution_count": null,
   "id": "55177e95",
   "metadata": {},
   "outputs": [
    {
     "data": {
      "application/vnd.jupyter.widget-view+json": {
       "model_id": "8102eceef5b4496083c9cfe2df068f1a",
       "version_major": 2,
       "version_minor": 0
      },
      "text/plain": [
       "Width=15, Depth=7:   0%|          | 0/3 [00:00<?, ?it/s]"
      ]
     },
     "metadata": {},
     "output_type": "display_data"
    },
    {
     "data": {
      "application/vnd.jupyter.widget-view+json": {
       "model_id": "5e7cbc7259fa45419aaa706898655171",
       "version_major": 2,
       "version_minor": 0
      },
      "text/plain": [
       "Width=15, Depth=10:   0%|          | 0/3 [00:00<?, ?it/s]"
      ]
     },
     "metadata": {},
     "output_type": "display_data"
    },
    {
     "data": {
      "application/vnd.jupyter.widget-view+json": {
       "model_id": "dc96209993c749f89ea1d5af3a0775e3",
       "version_major": 2,
       "version_minor": 0
      },
      "text/plain": [
       "Width=15, Depth=15:   0%|          | 0/3 [00:00<?, ?it/s]"
      ]
     },
     "metadata": {},
     "output_type": "display_data"
    },
    {
     "data": {
      "application/vnd.jupyter.widget-view+json": {
       "model_id": "56b9891803c448aca80da141bac2ee17",
       "version_major": 2,
       "version_minor": 0
      },
      "text/plain": [
       "Width=25, Depth=7:   0%|          | 0/3 [00:00<?, ?it/s]"
      ]
     },
     "metadata": {},
     "output_type": "display_data"
    },
    {
     "data": {
      "application/vnd.jupyter.widget-view+json": {
       "model_id": "25d0ed3a6155434bb4ee781286dc26e1",
       "version_major": 2,
       "version_minor": 0
      },
      "text/plain": [
       "Width=25, Depth=10:   0%|          | 0/3 [00:00<?, ?it/s]"
      ]
     },
     "metadata": {},
     "output_type": "display_data"
    },
    {
     "data": {
      "application/vnd.jupyter.widget-view+json": {
       "model_id": "fcee245c7d2c499eb328bd5b9c0760f6",
       "version_major": 2,
       "version_minor": 0
      },
      "text/plain": [
       "Width=25, Depth=15:   0%|          | 0/3 [00:00<?, ?it/s]"
      ]
     },
     "metadata": {},
     "output_type": "display_data"
    },
    {
     "data": {
      "application/vnd.jupyter.widget-view+json": {
       "model_id": "0ddb1d2c5caa4f76a86c3b5f87db4e44",
       "version_major": 2,
       "version_minor": 0
      },
      "text/plain": [
       "Width=50, Depth=7:   0%|          | 0/3 [00:00<?, ?it/s]"
      ]
     },
     "metadata": {},
     "output_type": "display_data"
    },
    {
     "data": {
      "application/vnd.jupyter.widget-view+json": {
       "model_id": "a55bf0e027224daa81a11e17d2602381",
       "version_major": 2,
       "version_minor": 0
      },
      "text/plain": [
       "Width=50, Depth=10:   0%|          | 0/3 [00:00<?, ?it/s]"
      ]
     },
     "metadata": {},
     "output_type": "display_data"
    },
    {
     "data": {
      "application/vnd.jupyter.widget-view+json": {
       "model_id": "0f76b351cb5b4d25af7f9404c22c2d80",
       "version_major": 2,
       "version_minor": 0
      },
      "text/plain": [
       "Width=50, Depth=15:   0%|          | 0/3 [00:00<?, ?it/s]"
      ]
     },
     "metadata": {},
     "output_type": "display_data"
    },
    {
     "data": {
      "text/html": [
       "<div>\n",
       "<style scoped>\n",
       "    .dataframe tbody tr th:only-of-type {\n",
       "        vertical-align: middle;\n",
       "    }\n",
       "\n",
       "    .dataframe tbody tr th {\n",
       "        vertical-align: top;\n",
       "    }\n",
       "\n",
       "    .dataframe thead th {\n",
       "        text-align: right;\n",
       "    }\n",
       "</style>\n",
       "<table border=\"1\" class=\"dataframe\">\n",
       "  <thead>\n",
       "    <tr style=\"text-align: right;\">\n",
       "      <th></th>\n",
       "      <th>Width</th>\n",
       "      <th>Depth</th>\n",
       "      <th>Mean_Ricci</th>\n",
       "      <th>Std_Ricci</th>\n",
       "      <th>Negative_Share</th>\n",
       "    </tr>\n",
       "  </thead>\n",
       "  <tbody>\n",
       "    <tr>\n",
       "      <th>0</th>\n",
       "      <td>15</td>\n",
       "      <td>7</td>\n",
       "      <td>-0.815209</td>\n",
       "      <td>0.011399</td>\n",
       "      <td>0.992000</td>\n",
       "    </tr>\n",
       "    <tr>\n",
       "      <th>1</th>\n",
       "      <td>15</td>\n",
       "      <td>10</td>\n",
       "      <td>-0.834544</td>\n",
       "      <td>0.063946</td>\n",
       "      <td>0.994667</td>\n",
       "    </tr>\n",
       "    <tr>\n",
       "      <th>2</th>\n",
       "      <td>15</td>\n",
       "      <td>15</td>\n",
       "      <td>-0.879101</td>\n",
       "      <td>0.015970</td>\n",
       "      <td>1.000000</td>\n",
       "    </tr>\n",
       "    <tr>\n",
       "      <th>3</th>\n",
       "      <td>25</td>\n",
       "      <td>7</td>\n",
       "      <td>-0.746385</td>\n",
       "      <td>0.153198</td>\n",
       "      <td>0.960333</td>\n",
       "    </tr>\n",
       "    <tr>\n",
       "      <th>4</th>\n",
       "      <td>25</td>\n",
       "      <td>10</td>\n",
       "      <td>-0.820142</td>\n",
       "      <td>0.035307</td>\n",
       "      <td>0.993667</td>\n",
       "    </tr>\n",
       "    <tr>\n",
       "      <th>5</th>\n",
       "      <td>25</td>\n",
       "      <td>15</td>\n",
       "      <td>-0.869572</td>\n",
       "      <td>0.019118</td>\n",
       "      <td>1.000000</td>\n",
       "    </tr>\n",
       "    <tr>\n",
       "      <th>6</th>\n",
       "      <td>50</td>\n",
       "      <td>7</td>\n",
       "      <td>-0.565781</td>\n",
       "      <td>0.168205</td>\n",
       "      <td>0.877667</td>\n",
       "    </tr>\n",
       "    <tr>\n",
       "      <th>7</th>\n",
       "      <td>50</td>\n",
       "      <td>10</td>\n",
       "      <td>-0.842635</td>\n",
       "      <td>0.003772</td>\n",
       "      <td>0.999333</td>\n",
       "    </tr>\n",
       "    <tr>\n",
       "      <th>8</th>\n",
       "      <td>50</td>\n",
       "      <td>15</td>\n",
       "      <td>-0.808460</td>\n",
       "      <td>0.034212</td>\n",
       "      <td>0.995755</td>\n",
       "    </tr>\n",
       "  </tbody>\n",
       "</table>\n",
       "</div>"
      ],
      "text/plain": [
       "   Width  Depth  Mean_Ricci  Std_Ricci  Negative_Share\n",
       "0     15      7   -0.815209   0.011399        0.992000\n",
       "1     15     10   -0.834544   0.063946        0.994667\n",
       "2     15     15   -0.879101   0.015970        1.000000\n",
       "3     25      7   -0.746385   0.153198        0.960333\n",
       "4     25     10   -0.820142   0.035307        0.993667\n",
       "5     25     15   -0.869572   0.019118        1.000000\n",
       "6     50      7   -0.565781   0.168205        0.877667\n",
       "7     50     10   -0.842635   0.003772        0.999333\n",
       "8     50     15   -0.808460   0.034212        0.995755"
      ]
     },
     "execution_count": 17,
     "metadata": {},
     "output_type": "execute_result"
    }
   ],
   "source": [
    "# Load datasets\n",
    "X_train_MNIST_69,y_train_MNIST_69, X_test_MNIST_69, y_test_MNIST_69 = DatasetFactory.load_MNIST(digits=(6,9))\n",
    "\n",
    "# Widths and depths of networks\n",
    "widths, depths = [15, 25, 50], [7, 10, 15]\n",
    "\n",
    "# Dataframe for results\n",
    "df_results = pd.DataFrame(columns=[\"Width\", \"Depth\", \"Mean_Ricci\", \"Std_Ricci\", \"Negative_Share\"])\n",
    "\n",
    "for width in widths:\n",
    "    for depth in depths:\n",
    "        local_ricci_coefs_mean = []\n",
    "        share_negative = []\n",
    "        \n",
    "        for _ in tqdm(range(num_iterations), desc=f\"Width={width}, Depth={depth}\"):\n",
    "            # Train model\n",
    "            model = DNN(input_dimension=784, hidden_units=width, depth=depth, vision_model=True)\n",
    "            train_model(\n",
    "                threshold_accuracy=99,\n",
    "                model=model,\n",
    "                X_train=X_train_MNIST_69,\n",
    "                y_train=y_train_MNIST_69,\n",
    "                X_test=X_test_MNIST_69,\n",
    "                y_test=y_test_MNIST_69\n",
    "            )\n",
    "            # Calculate local Ricci evolution coefficients\n",
    "            local_ricci = Ricci_Coefficients(\n",
    "                model, X_test_MNIST_69, 50\n",
    "            ).local_ricci_coefficient(curv='Augmented-Forman-Ricci')\n",
    "\n",
    "            local_ricci_coefs_mean.append(np.nanmean(local_ricci))\n",
    "            valid = local_ricci[~np.isnan(local_ricci)]\n",
    "            share_negative.append(np.mean(valid < 0))\n",
    "\n",
    "        # Compute final aggregated stats and add to dataframe\n",
    "        mean_of_means = np.mean(local_ricci_coefs_mean)\n",
    "        std_of_means = np.std(local_ricci_coefs_mean)\n",
    "        mean_of_neg_share = np.mean(share_negative)\n",
    "        df_results.loc[len(df_results)] = [width, depth, mean_of_means, std_of_means, mean_of_neg_share]\n",
    "\n",
    "df_results[\"Width\"] = df_results[\"Width\"].astype(int)\n",
    "df_results[\"Depth\"] = df_results[\"Depth\"].astype(int)\n",
    "df_results.head(9)"
   ]
  },
  {
   "cell_type": "markdown",
   "id": "5f8c02b9",
   "metadata": {},
   "source": [
    "## 1.3 Fashion-MNIST Shoes"
   ]
  },
  {
   "cell_type": "code",
   "execution_count": null,
   "id": "cf45a5e3",
   "metadata": {},
   "outputs": [
    {
     "data": {
      "application/vnd.jupyter.widget-view+json": {
       "model_id": "ccb2a18f7549402698b2589915342b6f",
       "version_major": 2,
       "version_minor": 0
      },
      "text/plain": [
       "Width=15, Depth=7:   0%|          | 0/3 [00:00<?, ?it/s]"
      ]
     },
     "metadata": {},
     "output_type": "display_data"
    },
    {
     "data": {
      "application/vnd.jupyter.widget-view+json": {
       "model_id": "e28d4585f9fe4a90bdff9d987e588f16",
       "version_major": 2,
       "version_minor": 0
      },
      "text/plain": [
       "Width=15, Depth=10:   0%|          | 0/3 [00:00<?, ?it/s]"
      ]
     },
     "metadata": {},
     "output_type": "display_data"
    },
    {
     "data": {
      "application/vnd.jupyter.widget-view+json": {
       "model_id": "35177202580d49c89273741f0d8ac342",
       "version_major": 2,
       "version_minor": 0
      },
      "text/plain": [
       "Width=15, Depth=15:   0%|          | 0/3 [00:00<?, ?it/s]"
      ]
     },
     "metadata": {},
     "output_type": "display_data"
    },
    {
     "data": {
      "application/vnd.jupyter.widget-view+json": {
       "model_id": "dc372ff60f9143ceaf7588e48ebaea90",
       "version_major": 2,
       "version_minor": 0
      },
      "text/plain": [
       "Width=25, Depth=7:   0%|          | 0/3 [00:00<?, ?it/s]"
      ]
     },
     "metadata": {},
     "output_type": "display_data"
    },
    {
     "data": {
      "application/vnd.jupyter.widget-view+json": {
       "model_id": "c1381b11a2f04741bf404f29372b7612",
       "version_major": 2,
       "version_minor": 0
      },
      "text/plain": [
       "Width=25, Depth=10:   0%|          | 0/3 [00:00<?, ?it/s]"
      ]
     },
     "metadata": {},
     "output_type": "display_data"
    },
    {
     "data": {
      "application/vnd.jupyter.widget-view+json": {
       "model_id": "29d1d217cf914cecae53efcc929dc328",
       "version_major": 2,
       "version_minor": 0
      },
      "text/plain": [
       "Width=25, Depth=15:   0%|          | 0/3 [00:00<?, ?it/s]"
      ]
     },
     "metadata": {},
     "output_type": "display_data"
    },
    {
     "data": {
      "application/vnd.jupyter.widget-view+json": {
       "model_id": "e7848c4d450841bebe04d3433be0a689",
       "version_major": 2,
       "version_minor": 0
      },
      "text/plain": [
       "Width=50, Depth=7:   0%|          | 0/3 [00:00<?, ?it/s]"
      ]
     },
     "metadata": {},
     "output_type": "display_data"
    },
    {
     "data": {
      "application/vnd.jupyter.widget-view+json": {
       "model_id": "03a944a144e246e4b208a1a6e6e37c58",
       "version_major": 2,
       "version_minor": 0
      },
      "text/plain": [
       "Width=50, Depth=10:   0%|          | 0/3 [00:00<?, ?it/s]"
      ]
     },
     "metadata": {},
     "output_type": "display_data"
    },
    {
     "data": {
      "application/vnd.jupyter.widget-view+json": {
       "model_id": "20f37207b26042f4a40cc9640cb0612b",
       "version_major": 2,
       "version_minor": 0
      },
      "text/plain": [
       "Width=50, Depth=15:   0%|          | 0/3 [00:00<?, ?it/s]"
      ]
     },
     "metadata": {},
     "output_type": "display_data"
    },
    {
     "data": {
      "text/html": [
       "<div>\n",
       "<style scoped>\n",
       "    .dataframe tbody tr th:only-of-type {\n",
       "        vertical-align: middle;\n",
       "    }\n",
       "\n",
       "    .dataframe tbody tr th {\n",
       "        vertical-align: top;\n",
       "    }\n",
       "\n",
       "    .dataframe thead th {\n",
       "        text-align: right;\n",
       "    }\n",
       "</style>\n",
       "<table border=\"1\" class=\"dataframe\">\n",
       "  <thead>\n",
       "    <tr style=\"text-align: right;\">\n",
       "      <th></th>\n",
       "      <th>Width</th>\n",
       "      <th>Depth</th>\n",
       "      <th>Mean_Ricci</th>\n",
       "      <th>Std_Ricci</th>\n",
       "      <th>Negative_Share</th>\n",
       "    </tr>\n",
       "  </thead>\n",
       "  <tbody>\n",
       "    <tr>\n",
       "      <th>0</th>\n",
       "      <td>15</td>\n",
       "      <td>7</td>\n",
       "      <td>-0.773814</td>\n",
       "      <td>0.075109</td>\n",
       "      <td>0.993667</td>\n",
       "    </tr>\n",
       "    <tr>\n",
       "      <th>1</th>\n",
       "      <td>15</td>\n",
       "      <td>10</td>\n",
       "      <td>-0.858128</td>\n",
       "      <td>0.038418</td>\n",
       "      <td>1.000000</td>\n",
       "    </tr>\n",
       "    <tr>\n",
       "      <th>2</th>\n",
       "      <td>15</td>\n",
       "      <td>15</td>\n",
       "      <td>-0.888107</td>\n",
       "      <td>0.033801</td>\n",
       "      <td>0.999667</td>\n",
       "    </tr>\n",
       "    <tr>\n",
       "      <th>3</th>\n",
       "      <td>25</td>\n",
       "      <td>7</td>\n",
       "      <td>-0.804871</td>\n",
       "      <td>0.033003</td>\n",
       "      <td>0.993667</td>\n",
       "    </tr>\n",
       "    <tr>\n",
       "      <th>4</th>\n",
       "      <td>25</td>\n",
       "      <td>10</td>\n",
       "      <td>-0.745546</td>\n",
       "      <td>0.056421</td>\n",
       "      <td>0.991000</td>\n",
       "    </tr>\n",
       "    <tr>\n",
       "      <th>5</th>\n",
       "      <td>25</td>\n",
       "      <td>15</td>\n",
       "      <td>-0.817805</td>\n",
       "      <td>0.024168</td>\n",
       "      <td>1.000000</td>\n",
       "    </tr>\n",
       "    <tr>\n",
       "      <th>6</th>\n",
       "      <td>50</td>\n",
       "      <td>7</td>\n",
       "      <td>-0.779432</td>\n",
       "      <td>0.064822</td>\n",
       "      <td>0.989333</td>\n",
       "    </tr>\n",
       "    <tr>\n",
       "      <th>7</th>\n",
       "      <td>50</td>\n",
       "      <td>10</td>\n",
       "      <td>-0.867890</td>\n",
       "      <td>0.043112</td>\n",
       "      <td>0.998000</td>\n",
       "    </tr>\n",
       "    <tr>\n",
       "      <th>8</th>\n",
       "      <td>50</td>\n",
       "      <td>15</td>\n",
       "      <td>-0.877856</td>\n",
       "      <td>0.017407</td>\n",
       "      <td>1.000000</td>\n",
       "    </tr>\n",
       "  </tbody>\n",
       "</table>\n",
       "</div>"
      ],
      "text/plain": [
       "   Width  Depth  Mean_Ricci  Std_Ricci  Negative_Share\n",
       "0     15      7   -0.773814   0.075109        0.993667\n",
       "1     15     10   -0.858128   0.038418        1.000000\n",
       "2     15     15   -0.888107   0.033801        0.999667\n",
       "3     25      7   -0.804871   0.033003        0.993667\n",
       "4     25     10   -0.745546   0.056421        0.991000\n",
       "5     25     15   -0.817805   0.024168        1.000000\n",
       "6     50      7   -0.779432   0.064822        0.989333\n",
       "7     50     10   -0.867890   0.043112        0.998000\n",
       "8     50     15   -0.877856   0.017407        1.000000"
      ]
     },
     "execution_count": 18,
     "metadata": {},
     "output_type": "execute_result"
    }
   ],
   "source": [
    "# Load datasets\n",
    "X_train_fMNIST_shoes, y_train_fMNIST_shoes, X_test_fMNIST_shoes, y_test_fMNIST_shoes = DatasetFactory.load_fMNIST(classes=(5,7), device=device)\n",
    "\n",
    "# Widths and depths of networks\n",
    "widths, depths = [15, 25, 50], [7, 10, 15]\n",
    "\n",
    "# Dataframe for results\n",
    "df_results = pd.DataFrame(columns=[\"Width\", \"Depth\", \"Mean_Ricci\", \"Std_Ricci\", \"Negative_Share\"])\n",
    "\n",
    "for width in widths:\n",
    "    for depth in depths:\n",
    "        local_ricci_coefs_mean = []\n",
    "        share_negative = []\n",
    "\n",
    "        for _ in tqdm(range(num_iterations), desc=f\"Width={width}, Depth={depth}\"):\n",
    "            # Train model\n",
    "            model = DNN(input_dimension=784, hidden_units=width, depth=depth, vision_model=True).to(device=device)\n",
    "            train_model(\n",
    "                threshold_accuracy=99,\n",
    "                model=model,\n",
    "                X_train=X_train_fMNIST_shoes,\n",
    "                y_train=y_train_fMNIST_shoes,\n",
    "                X_test=X_test_fMNIST_shoes,\n",
    "                y_test=y_test_fMNIST_shoes\n",
    "            )\n",
    "            # Calculate local Ricci evolution coefficients\n",
    "            local_ricci = Ricci_Coefficients(\n",
    "                model, X_test_fMNIST_shoes, 50\n",
    "            ).local_ricci_coefficient(curv='Augmented-Forman-Ricci')\n",
    "            local_ricci_coefs_mean.append(np.nanmean(local_ricci))\n",
    "            valid = local_ricci[~np.isnan(local_ricci)]\n",
    "            share_negative.append(np.mean(valid < 0))\n",
    "\n",
    "        # Compute final aggregated stats and add to dataframe\n",
    "        mean_of_means = np.mean(local_ricci_coefs_mean)\n",
    "        std_of_means = np.std(local_ricci_coefs_mean)\n",
    "        mean_of_neg_share = np.mean(share_negative)\n",
    "        df_results.loc[len(df_results)] = [width, depth, mean_of_means, std_of_means, mean_of_neg_share]\n",
    "\n",
    "df_results[\"Width\"] = df_results[\"Width\"].astype(int)\n",
    "df_results[\"Depth\"] = df_results[\"Depth\"].astype(int)\n",
    "df_results.head(9)"
   ]
  },
  {
   "cell_type": "markdown",
   "id": "dfd0c011",
   "metadata": {},
   "source": [
    "## 1.4 Fashion-MNIST Apperal"
   ]
  },
  {
   "cell_type": "code",
   "execution_count": 21,
   "id": "7bd23b4c",
   "metadata": {},
   "outputs": [
    {
     "data": {
      "application/vnd.jupyter.widget-view+json": {
       "model_id": "74ae107e42754891b11873d2f55ebafe",
       "version_major": 2,
       "version_minor": 0
      },
      "text/plain": [
       "Width=15, Depth=7:   0%|          | 0/3 [00:00<?, ?it/s]"
      ]
     },
     "metadata": {},
     "output_type": "display_data"
    },
    {
     "data": {
      "application/vnd.jupyter.widget-view+json": {
       "model_id": "cb081e49fea149e59f38a36c55ad6bce",
       "version_major": 2,
       "version_minor": 0
      },
      "text/plain": [
       "Width=15, Depth=10:   0%|          | 0/3 [00:00<?, ?it/s]"
      ]
     },
     "metadata": {},
     "output_type": "display_data"
    },
    {
     "data": {
      "application/vnd.jupyter.widget-view+json": {
       "model_id": "c313cb3417dd43189bffa3e004f594ec",
       "version_major": 2,
       "version_minor": 0
      },
      "text/plain": [
       "Width=15, Depth=15:   0%|          | 0/3 [00:00<?, ?it/s]"
      ]
     },
     "metadata": {},
     "output_type": "display_data"
    },
    {
     "data": {
      "application/vnd.jupyter.widget-view+json": {
       "model_id": "55db8f63cfd54ba4af4469a58f9a6262",
       "version_major": 2,
       "version_minor": 0
      },
      "text/plain": [
       "Width=25, Depth=7:   0%|          | 0/3 [00:00<?, ?it/s]"
      ]
     },
     "metadata": {},
     "output_type": "display_data"
    },
    {
     "data": {
      "application/vnd.jupyter.widget-view+json": {
       "model_id": "a8c16a1a62bb46a1bc5c82cef3d98239",
       "version_major": 2,
       "version_minor": 0
      },
      "text/plain": [
       "Width=25, Depth=10:   0%|          | 0/3 [00:00<?, ?it/s]"
      ]
     },
     "metadata": {},
     "output_type": "display_data"
    },
    {
     "data": {
      "application/vnd.jupyter.widget-view+json": {
       "model_id": "52c828af3d614373a4c24b0729d17b72",
       "version_major": 2,
       "version_minor": 0
      },
      "text/plain": [
       "Width=25, Depth=15:   0%|          | 0/3 [00:00<?, ?it/s]"
      ]
     },
     "metadata": {},
     "output_type": "display_data"
    },
    {
     "data": {
      "application/vnd.jupyter.widget-view+json": {
       "model_id": "5734fc2b99d84edebda06e26a502c7d8",
       "version_major": 2,
       "version_minor": 0
      },
      "text/plain": [
       "Width=50, Depth=7:   0%|          | 0/3 [00:00<?, ?it/s]"
      ]
     },
     "metadata": {},
     "output_type": "display_data"
    },
    {
     "data": {
      "application/vnd.jupyter.widget-view+json": {
       "model_id": "54e18adb306d4be89179ab5ec1a40514",
       "version_major": 2,
       "version_minor": 0
      },
      "text/plain": [
       "Width=50, Depth=10:   0%|          | 0/3 [00:00<?, ?it/s]"
      ]
     },
     "metadata": {},
     "output_type": "display_data"
    },
    {
     "data": {
      "application/vnd.jupyter.widget-view+json": {
       "model_id": "4cae0a5117bd4a278d07a9c1872e983b",
       "version_major": 2,
       "version_minor": 0
      },
      "text/plain": [
       "Width=50, Depth=15:   0%|          | 0/3 [00:00<?, ?it/s]"
      ]
     },
     "metadata": {},
     "output_type": "display_data"
    },
    {
     "data": {
      "text/html": [
       "<div>\n",
       "<style scoped>\n",
       "    .dataframe tbody tr th:only-of-type {\n",
       "        vertical-align: middle;\n",
       "    }\n",
       "\n",
       "    .dataframe tbody tr th {\n",
       "        vertical-align: top;\n",
       "    }\n",
       "\n",
       "    .dataframe thead th {\n",
       "        text-align: right;\n",
       "    }\n",
       "</style>\n",
       "<table border=\"1\" class=\"dataframe\">\n",
       "  <thead>\n",
       "    <tr style=\"text-align: right;\">\n",
       "      <th></th>\n",
       "      <th>Width</th>\n",
       "      <th>Depth</th>\n",
       "      <th>Mean_Ricci</th>\n",
       "      <th>Std_Ricci</th>\n",
       "      <th>Negative_Share</th>\n",
       "    </tr>\n",
       "  </thead>\n",
       "  <tbody>\n",
       "    <tr>\n",
       "      <th>0</th>\n",
       "      <td>15</td>\n",
       "      <td>7</td>\n",
       "      <td>-0.609557</td>\n",
       "      <td>0.038699</td>\n",
       "      <td>0.956000</td>\n",
       "    </tr>\n",
       "    <tr>\n",
       "      <th>1</th>\n",
       "      <td>15</td>\n",
       "      <td>10</td>\n",
       "      <td>-0.419799</td>\n",
       "      <td>0.156291</td>\n",
       "      <td>0.908333</td>\n",
       "    </tr>\n",
       "    <tr>\n",
       "      <th>2</th>\n",
       "      <td>15</td>\n",
       "      <td>15</td>\n",
       "      <td>-0.786017</td>\n",
       "      <td>0.027146</td>\n",
       "      <td>0.994667</td>\n",
       "    </tr>\n",
       "    <tr>\n",
       "      <th>3</th>\n",
       "      <td>25</td>\n",
       "      <td>7</td>\n",
       "      <td>-0.417236</td>\n",
       "      <td>0.178361</td>\n",
       "      <td>0.825000</td>\n",
       "    </tr>\n",
       "    <tr>\n",
       "      <th>4</th>\n",
       "      <td>25</td>\n",
       "      <td>10</td>\n",
       "      <td>-0.644953</td>\n",
       "      <td>0.080938</td>\n",
       "      <td>0.975070</td>\n",
       "    </tr>\n",
       "    <tr>\n",
       "      <th>5</th>\n",
       "      <td>25</td>\n",
       "      <td>15</td>\n",
       "      <td>-0.775911</td>\n",
       "      <td>0.061261</td>\n",
       "      <td>0.997333</td>\n",
       "    </tr>\n",
       "    <tr>\n",
       "      <th>6</th>\n",
       "      <td>50</td>\n",
       "      <td>7</td>\n",
       "      <td>-0.614906</td>\n",
       "      <td>0.012220</td>\n",
       "      <td>0.952000</td>\n",
       "    </tr>\n",
       "    <tr>\n",
       "      <th>7</th>\n",
       "      <td>50</td>\n",
       "      <td>10</td>\n",
       "      <td>-0.654282</td>\n",
       "      <td>0.048040</td>\n",
       "      <td>0.985610</td>\n",
       "    </tr>\n",
       "    <tr>\n",
       "      <th>8</th>\n",
       "      <td>50</td>\n",
       "      <td>15</td>\n",
       "      <td>-0.828296</td>\n",
       "      <td>0.030471</td>\n",
       "      <td>0.999667</td>\n",
       "    </tr>\n",
       "  </tbody>\n",
       "</table>\n",
       "</div>"
      ],
      "text/plain": [
       "   Width  Depth  Mean_Ricci  Std_Ricci  Negative_Share\n",
       "0     15      7   -0.609557   0.038699        0.956000\n",
       "1     15     10   -0.419799   0.156291        0.908333\n",
       "2     15     15   -0.786017   0.027146        0.994667\n",
       "3     25      7   -0.417236   0.178361        0.825000\n",
       "4     25     10   -0.644953   0.080938        0.975070\n",
       "5     25     15   -0.775911   0.061261        0.997333\n",
       "6     50      7   -0.614906   0.012220        0.952000\n",
       "7     50     10   -0.654282   0.048040        0.985610\n",
       "8     50     15   -0.828296   0.030471        0.999667"
      ]
     },
     "execution_count": 21,
     "metadata": {},
     "output_type": "execute_result"
    }
   ],
   "source": [
    "# Load datasets\n",
    "X_train_fMNIST_apperal,y_train_fMNIST_apperal, X_test_fMNIST_apperal, y_test_fMNIST_apperal = DatasetFactory.load_fMNIST(classes=(3,6), device=device)\n",
    "\n",
    "# Widths and depths of networks\n",
    "widths, depths = [15, 25, 50], [7, 10, 15]\n",
    "\n",
    "# Dataframe for results\n",
    "df_results = pd.DataFrame(columns=[\"Width\", \"Depth\", \"Mean_Ricci\", \"Std_Ricci\", \"Negative_Share\"])\n",
    "\n",
    "for width in widths:\n",
    "    for depth in depths:\n",
    "        local_ricci_coefs_mean = []\n",
    "        share_negative = []\n",
    "\n",
    "        for _ in tqdm(range(num_iterations), desc=f\"Width={width}, Depth={depth}\"):\n",
    "            # Train model\n",
    "            model = DNN(input_dimension=784, hidden_units=width, depth=depth, vision_model=True).to(device=device)\n",
    "            train_model(\n",
    "                threshold_accuracy=99,\n",
    "                model=model,\n",
    "                X_train=X_train_fMNIST_apperal,\n",
    "                y_train=y_train_fMNIST_apperal,\n",
    "                X_test=X_test_fMNIST_apperal,\n",
    "                y_test=y_test_fMNIST_apperal\n",
    "            )\n",
    "            # Calculate local Ricci evolution coefficients\n",
    "            local_ricci = Ricci_Coefficients(\n",
    "                model, X_test_fMNIST_apperal, 50\n",
    "            ).local_ricci_coefficient(curv='Augmented-Forman-Ricci')\n",
    "            local_ricci_coefs_mean.append(np.nanmean(local_ricci))\n",
    "            valid = local_ricci[~np.isnan(local_ricci)]\n",
    "            share_negative.append(np.mean(valid < 0))\n",
    "\n",
    "        # Compute final aggregated stats and add to dataframe\n",
    "        mean_of_means = np.mean(local_ricci_coefs_mean)\n",
    "        std_of_means = np.std(local_ricci_coefs_mean)\n",
    "        mean_of_neg_share = np.mean(share_negative)\n",
    "        df_results.loc[len(df_results)] = [width, depth, mean_of_means, std_of_means, mean_of_neg_share]\n",
    "\n",
    "df_results[\"Width\"] = df_results[\"Width\"].astype(int)\n",
    "df_results[\"Depth\"] = df_results[\"Depth\"].astype(int)\n",
    "df_results.head(9)"
   ]
  },
  {
   "cell_type": "markdown",
   "id": "db4152f8",
   "metadata": {},
   "source": [
    "## 1.5 CIFAR Car vs. Plane"
   ]
  },
  {
   "cell_type": "code",
   "execution_count": 3,
   "id": "0b2e81ab",
   "metadata": {},
   "outputs": [
    {
     "data": {
      "application/vnd.jupyter.widget-view+json": {
       "model_id": "48e5bff83ecc4dfc9e277f23f8ae81dd",
       "version_major": 2,
       "version_minor": 0
      },
      "text/plain": [
       "Width=15, Depth=7:   0%|          | 0/3 [00:00<?, ?it/s]"
      ]
     },
     "metadata": {},
     "output_type": "display_data"
    },
    {
     "data": {
      "application/vnd.jupyter.widget-view+json": {
       "model_id": "049625fb1c6846688bd3bee5aa88c548",
       "version_major": 2,
       "version_minor": 0
      },
      "text/plain": [
       "Width=15, Depth=10:   0%|          | 0/3 [00:00<?, ?it/s]"
      ]
     },
     "metadata": {},
     "output_type": "display_data"
    },
    {
     "data": {
      "application/vnd.jupyter.widget-view+json": {
       "model_id": "ed8a4869b80740fcb084b4b2525563db",
       "version_major": 2,
       "version_minor": 0
      },
      "text/plain": [
       "Width=15, Depth=15:   0%|          | 0/3 [00:00<?, ?it/s]"
      ]
     },
     "metadata": {},
     "output_type": "display_data"
    },
    {
     "data": {
      "application/vnd.jupyter.widget-view+json": {
       "model_id": "bcf0bab2e62042648fdf09f688db5747",
       "version_major": 2,
       "version_minor": 0
      },
      "text/plain": [
       "Width=25, Depth=7:   0%|          | 0/3 [00:00<?, ?it/s]"
      ]
     },
     "metadata": {},
     "output_type": "display_data"
    },
    {
     "data": {
      "application/vnd.jupyter.widget-view+json": {
       "model_id": "0990e0f08a8046b6a13571d61c5f68aa",
       "version_major": 2,
       "version_minor": 0
      },
      "text/plain": [
       "Width=25, Depth=10:   0%|          | 0/3 [00:00<?, ?it/s]"
      ]
     },
     "metadata": {},
     "output_type": "display_data"
    },
    {
     "data": {
      "application/vnd.jupyter.widget-view+json": {
       "model_id": "1d30427662ab4666bb97b703c5abbabe",
       "version_major": 2,
       "version_minor": 0
      },
      "text/plain": [
       "Width=25, Depth=15:   0%|          | 0/3 [00:00<?, ?it/s]"
      ]
     },
     "metadata": {},
     "output_type": "display_data"
    },
    {
     "data": {
      "application/vnd.jupyter.widget-view+json": {
       "model_id": "b6326663bd5a4193929823247f1831b9",
       "version_major": 2,
       "version_minor": 0
      },
      "text/plain": [
       "Width=50, Depth=7:   0%|          | 0/3 [00:00<?, ?it/s]"
      ]
     },
     "metadata": {},
     "output_type": "display_data"
    },
    {
     "data": {
      "application/vnd.jupyter.widget-view+json": {
       "model_id": "f22a7e7241df4af8bd4b9334cc87d3fb",
       "version_major": 2,
       "version_minor": 0
      },
      "text/plain": [
       "Width=50, Depth=10:   0%|          | 0/3 [00:00<?, ?it/s]"
      ]
     },
     "metadata": {},
     "output_type": "display_data"
    },
    {
     "data": {
      "application/vnd.jupyter.widget-view+json": {
       "model_id": "5fa4588818b748a680873dd0c0fc230d",
       "version_major": 2,
       "version_minor": 0
      },
      "text/plain": [
       "Width=50, Depth=15:   0%|          | 0/3 [00:00<?, ?it/s]"
      ]
     },
     "metadata": {},
     "output_type": "display_data"
    },
    {
     "data": {
      "text/html": [
       "<div>\n",
       "<style scoped>\n",
       "    .dataframe tbody tr th:only-of-type {\n",
       "        vertical-align: middle;\n",
       "    }\n",
       "\n",
       "    .dataframe tbody tr th {\n",
       "        vertical-align: top;\n",
       "    }\n",
       "\n",
       "    .dataframe thead th {\n",
       "        text-align: right;\n",
       "    }\n",
       "</style>\n",
       "<table border=\"1\" class=\"dataframe\">\n",
       "  <thead>\n",
       "    <tr style=\"text-align: right;\">\n",
       "      <th></th>\n",
       "      <th>Width</th>\n",
       "      <th>Depth</th>\n",
       "      <th>Mean_Ricci</th>\n",
       "      <th>Std_Ricci</th>\n",
       "      <th>Negative_Share</th>\n",
       "    </tr>\n",
       "  </thead>\n",
       "  <tbody>\n",
       "    <tr>\n",
       "      <th>0</th>\n",
       "      <td>15</td>\n",
       "      <td>7</td>\n",
       "      <td>-0.717438</td>\n",
       "      <td>0.057734</td>\n",
       "      <td>0.972667</td>\n",
       "    </tr>\n",
       "    <tr>\n",
       "      <th>1</th>\n",
       "      <td>15</td>\n",
       "      <td>10</td>\n",
       "      <td>-0.704115</td>\n",
       "      <td>0.214138</td>\n",
       "      <td>0.958333</td>\n",
       "    </tr>\n",
       "    <tr>\n",
       "      <th>2</th>\n",
       "      <td>15</td>\n",
       "      <td>15</td>\n",
       "      <td>-0.816659</td>\n",
       "      <td>0.046058</td>\n",
       "      <td>0.995333</td>\n",
       "    </tr>\n",
       "    <tr>\n",
       "      <th>3</th>\n",
       "      <td>25</td>\n",
       "      <td>7</td>\n",
       "      <td>-0.705982</td>\n",
       "      <td>0.095707</td>\n",
       "      <td>0.957667</td>\n",
       "    </tr>\n",
       "    <tr>\n",
       "      <th>4</th>\n",
       "      <td>25</td>\n",
       "      <td>10</td>\n",
       "      <td>-0.802124</td>\n",
       "      <td>0.065713</td>\n",
       "      <td>0.976667</td>\n",
       "    </tr>\n",
       "    <tr>\n",
       "      <th>5</th>\n",
       "      <td>25</td>\n",
       "      <td>15</td>\n",
       "      <td>-0.895741</td>\n",
       "      <td>0.018666</td>\n",
       "      <td>0.999000</td>\n",
       "    </tr>\n",
       "    <tr>\n",
       "      <th>6</th>\n",
       "      <td>50</td>\n",
       "      <td>7</td>\n",
       "      <td>-0.756972</td>\n",
       "      <td>0.030741</td>\n",
       "      <td>0.993000</td>\n",
       "    </tr>\n",
       "    <tr>\n",
       "      <th>7</th>\n",
       "      <td>50</td>\n",
       "      <td>10</td>\n",
       "      <td>-0.888650</td>\n",
       "      <td>0.005419</td>\n",
       "      <td>1.000000</td>\n",
       "    </tr>\n",
       "    <tr>\n",
       "      <th>8</th>\n",
       "      <td>50</td>\n",
       "      <td>15</td>\n",
       "      <td>-0.899376</td>\n",
       "      <td>0.008287</td>\n",
       "      <td>0.999667</td>\n",
       "    </tr>\n",
       "  </tbody>\n",
       "</table>\n",
       "</div>"
      ],
      "text/plain": [
       "   Width  Depth  Mean_Ricci  Std_Ricci  Negative_Share\n",
       "0     15      7   -0.717438   0.057734        0.972667\n",
       "1     15     10   -0.704115   0.214138        0.958333\n",
       "2     15     15   -0.816659   0.046058        0.995333\n",
       "3     25      7   -0.705982   0.095707        0.957667\n",
       "4     25     10   -0.802124   0.065713        0.976667\n",
       "5     25     15   -0.895741   0.018666        0.999000\n",
       "6     50      7   -0.756972   0.030741        0.993000\n",
       "7     50     10   -0.888650   0.005419        1.000000\n",
       "8     50     15   -0.899376   0.008287        0.999667"
      ]
     },
     "execution_count": 3,
     "metadata": {},
     "output_type": "execute_result"
    }
   ],
   "source": [
    "# Load datasets\n",
    "X_train_CIFAR, y_train_CIFAR, X_test_CIFAR, y_test_CIFAR = DatasetFactory.load_CIFAR(classes=(0,1), device=device)\n",
    "\n",
    "# Widths and depths of networks\n",
    "widths, depths = [15, 25, 50], [7, 10, 15]\n",
    "\n",
    "# Dataframe for results\n",
    "df_results = pd.DataFrame(columns=[\"Width\", \"Depth\", \"Mean_Ricci\", \"Std_Ricci\", \"Negative_Share\"])\n",
    "\n",
    "for width in widths:\n",
    "    for depth in depths:\n",
    "        local_ricci_coefs_mean = []\n",
    "        share_negative = []\n",
    "\n",
    "        for _ in tqdm(range(num_iterations), desc=f\"Width={width}, Depth={depth}\"):\n",
    "            # Train model\n",
    "            model = DNN(input_dimension=3*32*32, hidden_units=width, depth=depth, vision_model=True).to(device=device)\n",
    "            train_model(\n",
    "                threshold_accuracy=99,\n",
    "                model=model,\n",
    "                X_train=X_train_CIFAR,\n",
    "                y_train=y_train_CIFAR,\n",
    "                X_test=X_test_CIFAR,\n",
    "                y_test=y_test_CIFAR\n",
    "            )\n",
    "            \n",
    "            # Calculate local Ricci evolution coefficients\n",
    "            local_ricci = Ricci_Coefficients(\n",
    "                model, X_test_CIFAR, 50\n",
    "            ).local_ricci_coefficient(curv='Augmented-Forman-Ricci')\n",
    "            local_ricci_coefs_mean.append(np.nanmean(local_ricci))\n",
    "            valid = local_ricci[~np.isnan(local_ricci)]\n",
    "            share_negative.append(np.mean(valid < 0))\n",
    "\n",
    "        # Compute final aggregated stats and add to dataframe\n",
    "        mean_of_means = np.mean(local_ricci_coefs_mean)\n",
    "        std_of_means = np.std(local_ricci_coefs_mean)\n",
    "        mean_of_neg_share = np.mean(share_negative)\n",
    "        df_results.loc[len(df_results)] = [width, depth, mean_of_means, std_of_means, mean_of_neg_share]\n",
    "\n",
    "df_results[\"Width\"] = df_results[\"Width\"].astype(int)\n",
    "df_results[\"Depth\"] = df_results[\"Depth\"].astype(int)\n",
    "df_results.head(9)"
   ]
  },
  {
   "cell_type": "markdown",
   "id": "4da018f6",
   "metadata": {},
   "source": [
    "# 2. Synthetic Datasets"
   ]
  },
  {
   "cell_type": "markdown",
   "id": "b1e0a1cb",
   "metadata": {},
   "source": [
    "## 2.1 Syn-I Dataset"
   ]
  },
  {
   "cell_type": "code",
   "execution_count": 24,
   "id": "b9757bd3",
   "metadata": {},
   "outputs": [
    {
     "data": {
      "application/vnd.jupyter.widget-view+json": {
       "model_id": "88b0f03e81f24b7b9e7179a1b4fdaae7",
       "version_major": 2,
       "version_minor": 0
      },
      "text/plain": [
       "Width=15, Depth=7:   0%|          | 0/3 [00:00<?, ?it/s]"
      ]
     },
     "metadata": {},
     "output_type": "display_data"
    },
    {
     "data": {
      "application/vnd.jupyter.widget-view+json": {
       "model_id": "926663e09afc4ebea26a1726992dd065",
       "version_major": 2,
       "version_minor": 0
      },
      "text/plain": [
       "Width=15, Depth=10:   0%|          | 0/3 [00:00<?, ?it/s]"
      ]
     },
     "metadata": {},
     "output_type": "display_data"
    },
    {
     "data": {
      "application/vnd.jupyter.widget-view+json": {
       "model_id": "2835734b04a049f2aceaf786c8e88a03",
       "version_major": 2,
       "version_minor": 0
      },
      "text/plain": [
       "Width=15, Depth=15:   0%|          | 0/3 [00:00<?, ?it/s]"
      ]
     },
     "metadata": {},
     "output_type": "display_data"
    },
    {
     "data": {
      "application/vnd.jupyter.widget-view+json": {
       "model_id": "3135fbd3018b411588e327f3f8ec4874",
       "version_major": 2,
       "version_minor": 0
      },
      "text/plain": [
       "Width=25, Depth=7:   0%|          | 0/3 [00:00<?, ?it/s]"
      ]
     },
     "metadata": {},
     "output_type": "display_data"
    },
    {
     "data": {
      "application/vnd.jupyter.widget-view+json": {
       "model_id": "f89fb3e8442f49bbbbd76bd103e3dfdf",
       "version_major": 2,
       "version_minor": 0
      },
      "text/plain": [
       "Width=25, Depth=10:   0%|          | 0/3 [00:00<?, ?it/s]"
      ]
     },
     "metadata": {},
     "output_type": "display_data"
    },
    {
     "data": {
      "application/vnd.jupyter.widget-view+json": {
       "model_id": "8ff0a294213242af9d9a8ebeba78a36f",
       "version_major": 2,
       "version_minor": 0
      },
      "text/plain": [
       "Width=25, Depth=15:   0%|          | 0/3 [00:00<?, ?it/s]"
      ]
     },
     "metadata": {},
     "output_type": "display_data"
    },
    {
     "data": {
      "application/vnd.jupyter.widget-view+json": {
       "model_id": "216b358e31cb43da9e3316bbabf9cbe7",
       "version_major": 2,
       "version_minor": 0
      },
      "text/plain": [
       "Width=50, Depth=7:   0%|          | 0/3 [00:00<?, ?it/s]"
      ]
     },
     "metadata": {},
     "output_type": "display_data"
    },
    {
     "data": {
      "application/vnd.jupyter.widget-view+json": {
       "model_id": "6e52927c7e6f4e41aa3b6145e8fd5800",
       "version_major": 2,
       "version_minor": 0
      },
      "text/plain": [
       "Width=50, Depth=10:   0%|          | 0/3 [00:00<?, ?it/s]"
      ]
     },
     "metadata": {},
     "output_type": "display_data"
    },
    {
     "data": {
      "application/vnd.jupyter.widget-view+json": {
       "model_id": "fe4d717c39194a109dfc670561402e0b",
       "version_major": 2,
       "version_minor": 0
      },
      "text/plain": [
       "Width=50, Depth=15:   0%|          | 0/3 [00:00<?, ?it/s]"
      ]
     },
     "metadata": {},
     "output_type": "display_data"
    },
    {
     "data": {
      "text/html": [
       "<div>\n",
       "<style scoped>\n",
       "    .dataframe tbody tr th:only-of-type {\n",
       "        vertical-align: middle;\n",
       "    }\n",
       "\n",
       "    .dataframe tbody tr th {\n",
       "        vertical-align: top;\n",
       "    }\n",
       "\n",
       "    .dataframe thead th {\n",
       "        text-align: right;\n",
       "    }\n",
       "</style>\n",
       "<table border=\"1\" class=\"dataframe\">\n",
       "  <thead>\n",
       "    <tr style=\"text-align: right;\">\n",
       "      <th></th>\n",
       "      <th>Width</th>\n",
       "      <th>Depth</th>\n",
       "      <th>Mean_Ricci</th>\n",
       "      <th>Std_Ricci</th>\n",
       "      <th>Negative_Share</th>\n",
       "    </tr>\n",
       "  </thead>\n",
       "  <tbody>\n",
       "    <tr>\n",
       "      <th>0</th>\n",
       "      <td>15</td>\n",
       "      <td>7</td>\n",
       "      <td>-0.486836</td>\n",
       "      <td>0.024474</td>\n",
       "      <td>0.919000</td>\n",
       "    </tr>\n",
       "    <tr>\n",
       "      <th>1</th>\n",
       "      <td>15</td>\n",
       "      <td>10</td>\n",
       "      <td>-0.503620</td>\n",
       "      <td>0.095297</td>\n",
       "      <td>0.900667</td>\n",
       "    </tr>\n",
       "    <tr>\n",
       "      <th>2</th>\n",
       "      <td>15</td>\n",
       "      <td>15</td>\n",
       "      <td>-0.631552</td>\n",
       "      <td>0.051412</td>\n",
       "      <td>0.976000</td>\n",
       "    </tr>\n",
       "    <tr>\n",
       "      <th>3</th>\n",
       "      <td>25</td>\n",
       "      <td>7</td>\n",
       "      <td>-0.429697</td>\n",
       "      <td>0.059034</td>\n",
       "      <td>0.904000</td>\n",
       "    </tr>\n",
       "    <tr>\n",
       "      <th>4</th>\n",
       "      <td>25</td>\n",
       "      <td>10</td>\n",
       "      <td>-0.492137</td>\n",
       "      <td>0.066236</td>\n",
       "      <td>0.914667</td>\n",
       "    </tr>\n",
       "    <tr>\n",
       "      <th>5</th>\n",
       "      <td>25</td>\n",
       "      <td>15</td>\n",
       "      <td>-0.715011</td>\n",
       "      <td>0.022602</td>\n",
       "      <td>0.990333</td>\n",
       "    </tr>\n",
       "    <tr>\n",
       "      <th>6</th>\n",
       "      <td>50</td>\n",
       "      <td>7</td>\n",
       "      <td>-0.398098</td>\n",
       "      <td>0.033707</td>\n",
       "      <td>0.843000</td>\n",
       "    </tr>\n",
       "    <tr>\n",
       "      <th>7</th>\n",
       "      <td>50</td>\n",
       "      <td>10</td>\n",
       "      <td>-0.606064</td>\n",
       "      <td>0.039504</td>\n",
       "      <td>0.981667</td>\n",
       "    </tr>\n",
       "    <tr>\n",
       "      <th>8</th>\n",
       "      <td>50</td>\n",
       "      <td>15</td>\n",
       "      <td>-0.721841</td>\n",
       "      <td>0.031839</td>\n",
       "      <td>0.995667</td>\n",
       "    </tr>\n",
       "  </tbody>\n",
       "</table>\n",
       "</div>"
      ],
      "text/plain": [
       "   Width  Depth  Mean_Ricci  Std_Ricci  Negative_Share\n",
       "0     15      7   -0.486836   0.024474        0.919000\n",
       "1     15     10   -0.503620   0.095297        0.900667\n",
       "2     15     15   -0.631552   0.051412        0.976000\n",
       "3     25      7   -0.429697   0.059034        0.904000\n",
       "4     25     10   -0.492137   0.066236        0.914667\n",
       "5     25     15   -0.715011   0.022602        0.990333\n",
       "6     50      7   -0.398098   0.033707        0.843000\n",
       "7     50     10   -0.606064   0.039504        0.981667\n",
       "8     50     15   -0.721841   0.031839        0.995667"
      ]
     },
     "execution_count": 24,
     "metadata": {},
     "output_type": "execute_result"
    }
   ],
   "source": [
    "# Load datasets\n",
    "X_train_circles, y_train_circles = DatasetFactory.make_circles(noise=0.03)\n",
    "X_test_circles, y_test_circles = DatasetFactory.make_circles(noise=0.03)\n",
    "\n",
    "# Widths and depths of  networks\n",
    "widths, depths = [15, 25, 50], [7, 10, 15]\n",
    "\n",
    "# Dataframe for results\n",
    "df_results = pd.DataFrame(columns=[\"Width\", \"Depth\", \"Mean_Ricci\", \"Std_Ricci\", \"Negative_Share\"])\n",
    "\n",
    "for width in widths:\n",
    "    for depth in depths:\n",
    "        local_ricci_coefs_mean = []\n",
    "        share_negative = []\n",
    "\n",
    "        for _ in tqdm(range(num_iterations), desc=f\"Width={width}, Depth={depth}\"):\n",
    "            # Train model\n",
    "            model = DNN(input_dimension=2, hidden_units=width, depth=depth)\n",
    "            train_model(\n",
    "                threshold_accuracy=99,\n",
    "                model=model,\n",
    "                X_train=X_train_circles,\n",
    "                y_train=y_train_circles,\n",
    "                X_test=X_test_circles,\n",
    "                y_test=y_test_circles\n",
    "            )\n",
    "\n",
    "            # Calculate local Ricci evolution coefficients\n",
    "            local_ricci = Ricci_Coefficients(\n",
    "                model, X_test_circles, 50\n",
    "            ).local_ricci_coefficient(curv='Augmented-Forman-Ricci')\n",
    "            local_ricci_coefs_mean.append(np.nanmean(local_ricci))\n",
    "            valid = local_ricci[~np.isnan(local_ricci)]\n",
    "            share_negative.append(np.mean(valid < 0))\n",
    "\n",
    "        # Compute final aggregated stats and add to dataframe\n",
    "        mean_of_means = np.mean(local_ricci_coefs_mean)\n",
    "        std_of_means = np.std(local_ricci_coefs_mean)\n",
    "        mean_of_neg_share = np.mean(share_negative)\n",
    "        df_results.loc[len(df_results)] = [width, depth, mean_of_means, std_of_means, mean_of_neg_share]\n",
    "\n",
    "df_results[\"Width\"] = df_results[\"Width\"].astype(int)\n",
    "df_results[\"Depth\"] = df_results[\"Depth\"].astype(int)\n",
    "df_results.head(9)"
   ]
  },
  {
   "cell_type": "markdown",
   "id": "98e15dfe",
   "metadata": {},
   "source": [
    "## 2.2 Syn-II Dataset"
   ]
  },
  {
   "cell_type": "code",
   "execution_count": 31,
   "id": "0e6824e5",
   "metadata": {},
   "outputs": [
    {
     "data": {
      "application/vnd.jupyter.widget-view+json": {
       "model_id": "c2f3f3d2cd754d2ba790eda4e60badb0",
       "version_major": 2,
       "version_minor": 0
      },
      "text/plain": [
       "Width=15, Depth=7:   0%|          | 0/3 [00:00<?, ?it/s]"
      ]
     },
     "metadata": {},
     "output_type": "display_data"
    },
    {
     "data": {
      "application/vnd.jupyter.widget-view+json": {
       "model_id": "127906993a9f43169e35bdd33ba7926f",
       "version_major": 2,
       "version_minor": 0
      },
      "text/plain": [
       "Width=15, Depth=10:   0%|          | 0/3 [00:00<?, ?it/s]"
      ]
     },
     "metadata": {},
     "output_type": "display_data"
    },
    {
     "data": {
      "application/vnd.jupyter.widget-view+json": {
       "model_id": "39c4af35a273475fb445922df9cb842f",
       "version_major": 2,
       "version_minor": 0
      },
      "text/plain": [
       "Width=15, Depth=15:   0%|          | 0/3 [00:00<?, ?it/s]"
      ]
     },
     "metadata": {},
     "output_type": "display_data"
    },
    {
     "data": {
      "application/vnd.jupyter.widget-view+json": {
       "model_id": "fada3e57fdc24d22a4946693bdf4b5b1",
       "version_major": 2,
       "version_minor": 0
      },
      "text/plain": [
       "Width=25, Depth=7:   0%|          | 0/3 [00:00<?, ?it/s]"
      ]
     },
     "metadata": {},
     "output_type": "display_data"
    },
    {
     "data": {
      "application/vnd.jupyter.widget-view+json": {
       "model_id": "207e48edf17842f784c73c22e74d7ef1",
       "version_major": 2,
       "version_minor": 0
      },
      "text/plain": [
       "Width=25, Depth=10:   0%|          | 0/3 [00:00<?, ?it/s]"
      ]
     },
     "metadata": {},
     "output_type": "display_data"
    },
    {
     "data": {
      "application/vnd.jupyter.widget-view+json": {
       "model_id": "951eac958e924dd2a42d0e5fe16ee633",
       "version_major": 2,
       "version_minor": 0
      },
      "text/plain": [
       "Width=25, Depth=15:   0%|          | 0/3 [00:00<?, ?it/s]"
      ]
     },
     "metadata": {},
     "output_type": "display_data"
    },
    {
     "data": {
      "application/vnd.jupyter.widget-view+json": {
       "model_id": "c2fa47f1ce7f43da993883977a2f619c",
       "version_major": 2,
       "version_minor": 0
      },
      "text/plain": [
       "Width=50, Depth=7:   0%|          | 0/3 [00:00<?, ?it/s]"
      ]
     },
     "metadata": {},
     "output_type": "display_data"
    },
    {
     "data": {
      "application/vnd.jupyter.widget-view+json": {
       "model_id": "436ef71b5033465e881d8fc887a20819",
       "version_major": 2,
       "version_minor": 0
      },
      "text/plain": [
       "Width=50, Depth=10:   0%|          | 0/3 [00:00<?, ?it/s]"
      ]
     },
     "metadata": {},
     "output_type": "display_data"
    },
    {
     "data": {
      "application/vnd.jupyter.widget-view+json": {
       "model_id": "7c7dbfb0350046cbaf49e6b92ee62f53",
       "version_major": 2,
       "version_minor": 0
      },
      "text/plain": [
       "Width=50, Depth=15:   0%|          | 0/3 [00:00<?, ?it/s]"
      ]
     },
     "metadata": {},
     "output_type": "display_data"
    },
    {
     "data": {
      "text/html": [
       "<div>\n",
       "<style scoped>\n",
       "    .dataframe tbody tr th:only-of-type {\n",
       "        vertical-align: middle;\n",
       "    }\n",
       "\n",
       "    .dataframe tbody tr th {\n",
       "        vertical-align: top;\n",
       "    }\n",
       "\n",
       "    .dataframe thead th {\n",
       "        text-align: right;\n",
       "    }\n",
       "</style>\n",
       "<table border=\"1\" class=\"dataframe\">\n",
       "  <thead>\n",
       "    <tr style=\"text-align: right;\">\n",
       "      <th></th>\n",
       "      <th>Width</th>\n",
       "      <th>Depth</th>\n",
       "      <th>Mean_Ricci</th>\n",
       "      <th>Std_Ricci</th>\n",
       "      <th>Negative_Share</th>\n",
       "    </tr>\n",
       "  </thead>\n",
       "  <tbody>\n",
       "    <tr>\n",
       "      <th>0</th>\n",
       "      <td>15</td>\n",
       "      <td>7</td>\n",
       "      <td>-0.252001</td>\n",
       "      <td>0.177825</td>\n",
       "      <td>0.723000</td>\n",
       "    </tr>\n",
       "    <tr>\n",
       "      <th>1</th>\n",
       "      <td>15</td>\n",
       "      <td>10</td>\n",
       "      <td>-0.465552</td>\n",
       "      <td>0.092507</td>\n",
       "      <td>0.942667</td>\n",
       "    </tr>\n",
       "    <tr>\n",
       "      <th>2</th>\n",
       "      <td>15</td>\n",
       "      <td>15</td>\n",
       "      <td>-0.415852</td>\n",
       "      <td>0.094055</td>\n",
       "      <td>0.887000</td>\n",
       "    </tr>\n",
       "    <tr>\n",
       "      <th>3</th>\n",
       "      <td>25</td>\n",
       "      <td>7</td>\n",
       "      <td>-0.402722</td>\n",
       "      <td>0.134915</td>\n",
       "      <td>0.801333</td>\n",
       "    </tr>\n",
       "    <tr>\n",
       "      <th>4</th>\n",
       "      <td>25</td>\n",
       "      <td>10</td>\n",
       "      <td>-0.429881</td>\n",
       "      <td>0.020999</td>\n",
       "      <td>0.953508</td>\n",
       "    </tr>\n",
       "    <tr>\n",
       "      <th>5</th>\n",
       "      <td>25</td>\n",
       "      <td>15</td>\n",
       "      <td>-0.463425</td>\n",
       "      <td>0.048979</td>\n",
       "      <td>0.936667</td>\n",
       "    </tr>\n",
       "    <tr>\n",
       "      <th>6</th>\n",
       "      <td>50</td>\n",
       "      <td>7</td>\n",
       "      <td>-0.329784</td>\n",
       "      <td>0.152214</td>\n",
       "      <td>0.755333</td>\n",
       "    </tr>\n",
       "    <tr>\n",
       "      <th>7</th>\n",
       "      <td>50</td>\n",
       "      <td>10</td>\n",
       "      <td>-0.498097</td>\n",
       "      <td>0.040440</td>\n",
       "      <td>0.960000</td>\n",
       "    </tr>\n",
       "    <tr>\n",
       "      <th>8</th>\n",
       "      <td>50</td>\n",
       "      <td>15</td>\n",
       "      <td>-0.536816</td>\n",
       "      <td>0.049094</td>\n",
       "      <td>0.945000</td>\n",
       "    </tr>\n",
       "  </tbody>\n",
       "</table>\n",
       "</div>"
      ],
      "text/plain": [
       "   Width  Depth  Mean_Ricci  Std_Ricci  Negative_Share\n",
       "0     15      7   -0.252001   0.177825        0.723000\n",
       "1     15     10   -0.465552   0.092507        0.942667\n",
       "2     15     15   -0.415852   0.094055        0.887000\n",
       "3     25      7   -0.402722   0.134915        0.801333\n",
       "4     25     10   -0.429881   0.020999        0.953508\n",
       "5     25     15   -0.463425   0.048979        0.936667\n",
       "6     50      7   -0.329784   0.152214        0.755333\n",
       "7     50     10   -0.498097   0.040440        0.960000\n",
       "8     50     15   -0.536816   0.049094        0.945000"
      ]
     },
     "execution_count": 31,
     "metadata": {},
     "output_type": "execute_result"
    }
   ],
   "source": [
    "# Load datasets\n",
    "X_train_4circles, y_train_4circles = DatasetFactory.make_4circles()\n",
    "X_test_4circles, y_test_4circles = DatasetFactory.make_4circles()\n",
    "\n",
    "# Widths and depths of the networks\n",
    "widths, depths = [15, 25, 50], [7, 10, 15]\n",
    "\n",
    "# Dataframe for results\n",
    "df_results = pd.DataFrame(columns=[\"Width\", \"Depth\", \"Mean_Ricci\", \"Std_Ricci\", \"Negative_Share\"])\n",
    "\n",
    "for width in widths:\n",
    "    for depth in depths:\n",
    "        local_ricci_coefs_mean = []\n",
    "        share_negative = []\n",
    "\n",
    "        for _ in tqdm(range(num_iterations), desc=f\"Width={width}, Depth={depth}\"):\n",
    "            # Train model    \n",
    "            model = DNN(input_dimension=2, hidden_units=width, depth=depth)\n",
    "            train_model(\n",
    "                threshold_accuracy=99,\n",
    "                model=model,\n",
    "                X_train=X_train_4circles,\n",
    "                y_train=y_train_4circles,\n",
    "                X_test=X_test_4circles,\n",
    "                y_test=y_test_4circles\n",
    "            )\n",
    "            # Compute local Ricci evolution coefficients \n",
    "            local_ricci = Ricci_Coefficients(\n",
    "                model, X_test_4circles, 50\n",
    "            ).local_ricci_coefficient(curv='Augmented-Forman-Ricci')\n",
    "            local_ricci_coefs_mean.append(np.nanmean(local_ricci))\n",
    "            valid = local_ricci[~np.isnan(local_ricci)]\n",
    "            share_negative.append(np.mean(valid < 0))\n",
    "\n",
    "        # Compute final aggregated stats and add to dataframe\n",
    "        mean_of_means = np.mean(local_ricci_coefs_mean)\n",
    "        std_of_means = np.std(local_ricci_coefs_mean)\n",
    "        mean_of_neg_share = np.mean(share_negative)\n",
    "        df_results.loc[len(df_results)] = [width, depth, mean_of_means, std_of_means, mean_of_neg_share]\n",
    "\n",
    "df_results[\"Width\"] = df_results[\"Width\"].astype(int)\n",
    "df_results[\"Depth\"] = df_results[\"Depth\"].astype(int)\n",
    "df_results.head(9)\n",
    "\n",
    "      "
   ]
  },
  {
   "cell_type": "markdown",
   "id": "0c87033c",
   "metadata": {},
   "source": [
    "## 2.3 Syn-III Dataset"
   ]
  },
  {
   "cell_type": "code",
   "execution_count": 29,
   "id": "f783fbeb",
   "metadata": {},
   "outputs": [
    {
     "data": {
      "application/vnd.jupyter.widget-view+json": {
       "model_id": "a574f04ca92c44aba12835e988395bbc",
       "version_major": 2,
       "version_minor": 0
      },
      "text/plain": [
       "Width=15, Depth=7:   0%|          | 0/3 [00:00<?, ?it/s]"
      ]
     },
     "metadata": {},
     "output_type": "display_data"
    },
    {
     "data": {
      "application/vnd.jupyter.widget-view+json": {
       "model_id": "1b5be5cad1564ed7aada0f6d67cba256",
       "version_major": 2,
       "version_minor": 0
      },
      "text/plain": [
       "Width=15, Depth=10:   0%|          | 0/3 [00:00<?, ?it/s]"
      ]
     },
     "metadata": {},
     "output_type": "display_data"
    },
    {
     "data": {
      "application/vnd.jupyter.widget-view+json": {
       "model_id": "c699ed97e62c4763b6237c535c970ddd",
       "version_major": 2,
       "version_minor": 0
      },
      "text/plain": [
       "Width=15, Depth=15:   0%|          | 0/3 [00:00<?, ?it/s]"
      ]
     },
     "metadata": {},
     "output_type": "display_data"
    },
    {
     "data": {
      "application/vnd.jupyter.widget-view+json": {
       "model_id": "88905f21a1cf4b878a6af13030910e01",
       "version_major": 2,
       "version_minor": 0
      },
      "text/plain": [
       "Width=25, Depth=7:   0%|          | 0/3 [00:00<?, ?it/s]"
      ]
     },
     "metadata": {},
     "output_type": "display_data"
    },
    {
     "data": {
      "application/vnd.jupyter.widget-view+json": {
       "model_id": "275b908aa88946e28c61a1d5286a1474",
       "version_major": 2,
       "version_minor": 0
      },
      "text/plain": [
       "Width=25, Depth=10:   0%|          | 0/3 [00:00<?, ?it/s]"
      ]
     },
     "metadata": {},
     "output_type": "display_data"
    },
    {
     "data": {
      "application/vnd.jupyter.widget-view+json": {
       "model_id": "d68f410938254619a0bde860ecc6becc",
       "version_major": 2,
       "version_minor": 0
      },
      "text/plain": [
       "Width=25, Depth=15:   0%|          | 0/3 [00:00<?, ?it/s]"
      ]
     },
     "metadata": {},
     "output_type": "display_data"
    },
    {
     "data": {
      "application/vnd.jupyter.widget-view+json": {
       "model_id": "b49dea4863a4437aa9926a93bde24e56",
       "version_major": 2,
       "version_minor": 0
      },
      "text/plain": [
       "Width=50, Depth=7:   0%|          | 0/3 [00:00<?, ?it/s]"
      ]
     },
     "metadata": {},
     "output_type": "display_data"
    },
    {
     "data": {
      "application/vnd.jupyter.widget-view+json": {
       "model_id": "a4eef9c3021d451f965f36b1cd4ee851",
       "version_major": 2,
       "version_minor": 0
      },
      "text/plain": [
       "Width=50, Depth=10:   0%|          | 0/3 [00:00<?, ?it/s]"
      ]
     },
     "metadata": {},
     "output_type": "display_data"
    },
    {
     "data": {
      "application/vnd.jupyter.widget-view+json": {
       "model_id": "c3898637361a4243b5bb635dbf3cc458",
       "version_major": 2,
       "version_minor": 0
      },
      "text/plain": [
       "Width=50, Depth=15:   0%|          | 0/3 [00:00<?, ?it/s]"
      ]
     },
     "metadata": {},
     "output_type": "display_data"
    },
    {
     "data": {
      "text/html": [
       "<div>\n",
       "<style scoped>\n",
       "    .dataframe tbody tr th:only-of-type {\n",
       "        vertical-align: middle;\n",
       "    }\n",
       "\n",
       "    .dataframe tbody tr th {\n",
       "        vertical-align: top;\n",
       "    }\n",
       "\n",
       "    .dataframe thead th {\n",
       "        text-align: right;\n",
       "    }\n",
       "</style>\n",
       "<table border=\"1\" class=\"dataframe\">\n",
       "  <thead>\n",
       "    <tr style=\"text-align: right;\">\n",
       "      <th></th>\n",
       "      <th>Width</th>\n",
       "      <th>Depth</th>\n",
       "      <th>Mean_Ricci</th>\n",
       "      <th>Std_Ricci</th>\n",
       "      <th>Negative_Share</th>\n",
       "    </tr>\n",
       "  </thead>\n",
       "  <tbody>\n",
       "    <tr>\n",
       "      <th>0</th>\n",
       "      <td>15</td>\n",
       "      <td>7</td>\n",
       "      <td>-0.625308</td>\n",
       "      <td>0.074268</td>\n",
       "      <td>0.985333</td>\n",
       "    </tr>\n",
       "    <tr>\n",
       "      <th>1</th>\n",
       "      <td>15</td>\n",
       "      <td>10</td>\n",
       "      <td>-0.721833</td>\n",
       "      <td>0.035734</td>\n",
       "      <td>0.992000</td>\n",
       "    </tr>\n",
       "    <tr>\n",
       "      <th>2</th>\n",
       "      <td>15</td>\n",
       "      <td>15</td>\n",
       "      <td>-0.595945</td>\n",
       "      <td>0.253539</td>\n",
       "      <td>0.837333</td>\n",
       "    </tr>\n",
       "    <tr>\n",
       "      <th>3</th>\n",
       "      <td>25</td>\n",
       "      <td>7</td>\n",
       "      <td>-0.522922</td>\n",
       "      <td>0.053765</td>\n",
       "      <td>0.926333</td>\n",
       "    </tr>\n",
       "    <tr>\n",
       "      <th>4</th>\n",
       "      <td>25</td>\n",
       "      <td>10</td>\n",
       "      <td>-0.747666</td>\n",
       "      <td>0.023254</td>\n",
       "      <td>0.999667</td>\n",
       "    </tr>\n",
       "    <tr>\n",
       "      <th>5</th>\n",
       "      <td>25</td>\n",
       "      <td>15</td>\n",
       "      <td>-0.706104</td>\n",
       "      <td>0.084809</td>\n",
       "      <td>0.983333</td>\n",
       "    </tr>\n",
       "    <tr>\n",
       "      <th>6</th>\n",
       "      <td>50</td>\n",
       "      <td>7</td>\n",
       "      <td>-0.685475</td>\n",
       "      <td>0.054986</td>\n",
       "      <td>0.987333</td>\n",
       "    </tr>\n",
       "    <tr>\n",
       "      <th>7</th>\n",
       "      <td>50</td>\n",
       "      <td>10</td>\n",
       "      <td>-0.743266</td>\n",
       "      <td>0.029619</td>\n",
       "      <td>0.999667</td>\n",
       "    </tr>\n",
       "    <tr>\n",
       "      <th>8</th>\n",
       "      <td>50</td>\n",
       "      <td>15</td>\n",
       "      <td>-0.826000</td>\n",
       "      <td>0.017653</td>\n",
       "      <td>0.999643</td>\n",
       "    </tr>\n",
       "  </tbody>\n",
       "</table>\n",
       "</div>"
      ],
      "text/plain": [
       "   Width  Depth  Mean_Ricci  Std_Ricci  Negative_Share\n",
       "0     15      7   -0.625308   0.074268        0.985333\n",
       "1     15     10   -0.721833   0.035734        0.992000\n",
       "2     15     15   -0.595945   0.253539        0.837333\n",
       "3     25      7   -0.522922   0.053765        0.926333\n",
       "4     25     10   -0.747666   0.023254        0.999667\n",
       "5     25     15   -0.706104   0.084809        0.983333\n",
       "6     50      7   -0.685475   0.054986        0.987333\n",
       "7     50     10   -0.743266   0.029619        0.999667\n",
       "8     50     15   -0.826000   0.017653        0.999643"
      ]
     },
     "execution_count": 29,
     "metadata": {},
     "output_type": "execute_result"
    }
   ],
   "source": [
    "# Load Datasets\n",
    "X_train_cylinder,y_train_cylinder = DatasetFactory.make_cylinders()\n",
    "X_test_cylinder,y_test_cylinder = DatasetFactory.make_cylinders()\n",
    "\n",
    "# Widths and depths of networks\n",
    "widths, depths = [15, 25, 50], [7, 10, 15]\n",
    "\n",
    "# Dataframe for results\n",
    "df_results = pd.DataFrame(columns=[\"Width\", \"Depth\", \"Mean_Ricci\", \"Std_Ricci\", \"Negative_Share\"])\n",
    "\n",
    "for width in widths:\n",
    "    for depth in depths:\n",
    "        local_ricci_coefs_mean = []\n",
    "        share_negative = []\n",
    "\n",
    "        for _ in tqdm(range(num_iterations), desc=f\"Width={width}, Depth={depth}\"):\n",
    "            # Train models\n",
    "            model = DNN(input_dimension=3, hidden_units=width, depth=depth)\n",
    "            train_model(\n",
    "                threshold_accuracy=99,\n",
    "                model=model,\n",
    "                X_train=X_train_cylinder,\n",
    "                y_train=y_train_cylinder,\n",
    "                X_test=X_test_cylinder,\n",
    "                y_test=y_test_cylinder\n",
    "            )\n",
    "            # Calculate local Ricci evolution coefficients\n",
    "            local_ricci = Ricci_Coefficients(\n",
    "                model, X_test_cylinder, 50\n",
    "            ).local_ricci_coefficient(curv='Augmented-Forman-Ricci')\n",
    "            local_ricci_coefs_mean.append(np.nanmean(local_ricci))\n",
    "            valid = local_ricci[~np.isnan(local_ricci)]\n",
    "            share_negative.append(np.mean(valid < 0))\n",
    "\n",
    "        # Compute final aggregated stats and add to dataframe\n",
    "        mean_of_means = np.mean(local_ricci_coefs_mean)\n",
    "        std_of_means = np.std(local_ricci_coefs_mean)\n",
    "        mean_of_neg_share = np.mean(share_negative)\n",
    "        df_results.loc[len(df_results)] = [width, depth, mean_of_means, std_of_means, mean_of_neg_share]\n",
    "\n",
    "df_results[\"Width\"] = df_results[\"Width\"].astype(int)\n",
    "df_results[\"Depth\"] = df_results[\"Depth\"].astype(int)\n",
    "df_results.head(9)"
   ]
  },
  {
   "cell_type": "markdown",
   "id": "56ea9578",
   "metadata": {},
   "source": [
    "## 2.4 Syn-IV Dataset "
   ]
  },
  {
   "cell_type": "code",
   "execution_count": 32,
   "id": "11a917f5",
   "metadata": {},
   "outputs": [
    {
     "data": {
      "application/vnd.jupyter.widget-view+json": {
       "model_id": "a929734ce2e94ab986b08e9e5132a4d8",
       "version_major": 2,
       "version_minor": 0
      },
      "text/plain": [
       "Width=15, Depth=7:   0%|          | 0/3 [00:00<?, ?it/s]"
      ]
     },
     "metadata": {},
     "output_type": "display_data"
    },
    {
     "data": {
      "application/vnd.jupyter.widget-view+json": {
       "model_id": "c2916fd0903d4ba2adfdd616e2ac97e3",
       "version_major": 2,
       "version_minor": 0
      },
      "text/plain": [
       "Width=15, Depth=10:   0%|          | 0/3 [00:00<?, ?it/s]"
      ]
     },
     "metadata": {},
     "output_type": "display_data"
    },
    {
     "data": {
      "application/vnd.jupyter.widget-view+json": {
       "model_id": "2599805c19084d4fb241ea76ae07821b",
       "version_major": 2,
       "version_minor": 0
      },
      "text/plain": [
       "Width=15, Depth=15:   0%|          | 0/3 [00:00<?, ?it/s]"
      ]
     },
     "metadata": {},
     "output_type": "display_data"
    },
    {
     "data": {
      "application/vnd.jupyter.widget-view+json": {
       "model_id": "a1172bc1153740ec9b1b0da504dd3ca6",
       "version_major": 2,
       "version_minor": 0
      },
      "text/plain": [
       "Width=25, Depth=7:   0%|          | 0/3 [00:00<?, ?it/s]"
      ]
     },
     "metadata": {},
     "output_type": "display_data"
    },
    {
     "data": {
      "application/vnd.jupyter.widget-view+json": {
       "model_id": "e3b59022fbc746f5ae81d7a74e59ef10",
       "version_major": 2,
       "version_minor": 0
      },
      "text/plain": [
       "Width=25, Depth=10:   0%|          | 0/3 [00:00<?, ?it/s]"
      ]
     },
     "metadata": {},
     "output_type": "display_data"
    },
    {
     "data": {
      "application/vnd.jupyter.widget-view+json": {
       "model_id": "a640843e0bd74d4383a2254608f53185",
       "version_major": 2,
       "version_minor": 0
      },
      "text/plain": [
       "Width=25, Depth=15:   0%|          | 0/3 [00:00<?, ?it/s]"
      ]
     },
     "metadata": {},
     "output_type": "display_data"
    },
    {
     "data": {
      "application/vnd.jupyter.widget-view+json": {
       "model_id": "17850da5970e40348929424f52eaeb1b",
       "version_major": 2,
       "version_minor": 0
      },
      "text/plain": [
       "Width=50, Depth=7:   0%|          | 0/3 [00:00<?, ?it/s]"
      ]
     },
     "metadata": {},
     "output_type": "display_data"
    },
    {
     "data": {
      "application/vnd.jupyter.widget-view+json": {
       "model_id": "67dc6ce75df4452aa9975dd504d18347",
       "version_major": 2,
       "version_minor": 0
      },
      "text/plain": [
       "Width=50, Depth=10:   0%|          | 0/3 [00:00<?, ?it/s]"
      ]
     },
     "metadata": {},
     "output_type": "display_data"
    },
    {
     "data": {
      "application/vnd.jupyter.widget-view+json": {
       "model_id": "000ca4f8fcaa4d2e83588d20714c41cb",
       "version_major": 2,
       "version_minor": 0
      },
      "text/plain": [
       "Width=50, Depth=15:   0%|          | 0/3 [00:00<?, ?it/s]"
      ]
     },
     "metadata": {},
     "output_type": "display_data"
    },
    {
     "data": {
      "text/html": [
       "<div>\n",
       "<style scoped>\n",
       "    .dataframe tbody tr th:only-of-type {\n",
       "        vertical-align: middle;\n",
       "    }\n",
       "\n",
       "    .dataframe tbody tr th {\n",
       "        vertical-align: top;\n",
       "    }\n",
       "\n",
       "    .dataframe thead th {\n",
       "        text-align: right;\n",
       "    }\n",
       "</style>\n",
       "<table border=\"1\" class=\"dataframe\">\n",
       "  <thead>\n",
       "    <tr style=\"text-align: right;\">\n",
       "      <th></th>\n",
       "      <th>Width</th>\n",
       "      <th>Depth</th>\n",
       "      <th>Mean_Ricci</th>\n",
       "      <th>Std_Ricci</th>\n",
       "      <th>Negative_Share</th>\n",
       "    </tr>\n",
       "  </thead>\n",
       "  <tbody>\n",
       "    <tr>\n",
       "      <th>0</th>\n",
       "      <td>15</td>\n",
       "      <td>7</td>\n",
       "      <td>-0.437454</td>\n",
       "      <td>0.108343</td>\n",
       "      <td>0.863000</td>\n",
       "    </tr>\n",
       "    <tr>\n",
       "      <th>1</th>\n",
       "      <td>15</td>\n",
       "      <td>10</td>\n",
       "      <td>-0.487325</td>\n",
       "      <td>0.107640</td>\n",
       "      <td>0.933333</td>\n",
       "    </tr>\n",
       "    <tr>\n",
       "      <th>2</th>\n",
       "      <td>15</td>\n",
       "      <td>15</td>\n",
       "      <td>-0.676538</td>\n",
       "      <td>0.039743</td>\n",
       "      <td>0.967939</td>\n",
       "    </tr>\n",
       "    <tr>\n",
       "      <th>3</th>\n",
       "      <td>25</td>\n",
       "      <td>7</td>\n",
       "      <td>-0.269063</td>\n",
       "      <td>0.191685</td>\n",
       "      <td>0.732000</td>\n",
       "    </tr>\n",
       "    <tr>\n",
       "      <th>4</th>\n",
       "      <td>25</td>\n",
       "      <td>10</td>\n",
       "      <td>-0.520826</td>\n",
       "      <td>0.059340</td>\n",
       "      <td>0.919333</td>\n",
       "    </tr>\n",
       "    <tr>\n",
       "      <th>5</th>\n",
       "      <td>25</td>\n",
       "      <td>15</td>\n",
       "      <td>-0.671319</td>\n",
       "      <td>0.041950</td>\n",
       "      <td>0.985333</td>\n",
       "    </tr>\n",
       "    <tr>\n",
       "      <th>6</th>\n",
       "      <td>50</td>\n",
       "      <td>7</td>\n",
       "      <td>-0.278089</td>\n",
       "      <td>0.040428</td>\n",
       "      <td>0.733000</td>\n",
       "    </tr>\n",
       "    <tr>\n",
       "      <th>7</th>\n",
       "      <td>50</td>\n",
       "      <td>10</td>\n",
       "      <td>-0.325818</td>\n",
       "      <td>0.106605</td>\n",
       "      <td>0.809000</td>\n",
       "    </tr>\n",
       "    <tr>\n",
       "      <th>8</th>\n",
       "      <td>50</td>\n",
       "      <td>15</td>\n",
       "      <td>-0.554515</td>\n",
       "      <td>0.137954</td>\n",
       "      <td>0.892667</td>\n",
       "    </tr>\n",
       "  </tbody>\n",
       "</table>\n",
       "</div>"
      ],
      "text/plain": [
       "   Width  Depth  Mean_Ricci  Std_Ricci  Negative_Share\n",
       "0     15      7   -0.437454   0.108343        0.863000\n",
       "1     15     10   -0.487325   0.107640        0.933333\n",
       "2     15     15   -0.676538   0.039743        0.967939\n",
       "3     25      7   -0.269063   0.191685        0.732000\n",
       "4     25     10   -0.520826   0.059340        0.919333\n",
       "5     25     15   -0.671319   0.041950        0.985333\n",
       "6     50      7   -0.278089   0.040428        0.733000\n",
       "7     50     10   -0.325818   0.106605        0.809000\n",
       "8     50     15   -0.554515   0.137954        0.892667"
      ]
     },
     "execution_count": 32,
     "metadata": {},
     "output_type": "execute_result"
    }
   ],
   "source": [
    "# Load datasets\n",
    "X_train_tori, y_train_tori = DatasetFactory.make_tori()\n",
    "X_test_tori, y_test_tori = DatasetFactory.make_tori()\n",
    "\n",
    "# Widths and depths of networks\n",
    "widths, depths = [15, 25, 50], [7, 10, 15]\n",
    "\n",
    "# Dataframe for results\n",
    "df_results = pd.DataFrame(columns=[\"Width\", \"Depth\", \"Mean_Ricci\", \"Std_Ricci\", \"Negative_Share\"])\n",
    "\n",
    "for width in widths:\n",
    "    for depth in depths:\n",
    "        local_ricci_coefs_mean = []\n",
    "        share_negative = []\n",
    "\n",
    "        for _ in tqdm(range(num_iterations), desc=f\"Width={width}, Depth={depth}\"):     \n",
    "            # Train model   \n",
    "            model = DNN(input_dimension=3, hidden_units=width, depth=depth)\n",
    "            train_model(\n",
    "                threshold_accuracy=99,\n",
    "                model=model,\n",
    "                X_train=X_train_tori,\n",
    "                y_train=y_train_tori,\n",
    "                X_test=X_test_tori,\n",
    "                y_test=y_test_tori\n",
    "            )\n",
    "            # Calculate local Ricci evolution coefficients\n",
    "            local_ricci = Ricci_Coefficients(\n",
    "                model, X_test_tori, 50\n",
    "            ).local_ricci_coefficient(curv='Augmented-Forman-Ricci')\n",
    "            local_ricci_coefs_mean.append(np.nanmean(local_ricci))\n",
    "            valid = local_ricci[~np.isnan(local_ricci)]\n",
    "            share_negative.append(np.mean(valid < 0))\n",
    "\n",
    "        # Compute final aggregated stats and add to dataframe\n",
    "        mean_of_means = np.mean(local_ricci_coefs_mean)\n",
    "        std_of_means = np.std(local_ricci_coefs_mean)\n",
    "        mean_of_neg_share = np.mean(share_negative)\n",
    "        df_results.loc[len(df_results)] = [width, depth, mean_of_means, std_of_means, mean_of_neg_share]\n",
    "\n",
    "df_results[\"Width\"] = df_results[\"Width\"].astype(int)\n",
    "df_results[\"Depth\"] = df_results[\"Depth\"].astype(int)\n",
    "df_results.head(9)"
   ]
  },
  {
   "cell_type": "markdown",
   "id": "7ae90176",
   "metadata": {},
   "source": [
    "# 3. Local Ricci Coefficients Distribution\n",
    "\n",
    "In this section we plot the entire distribution of local Ricci evolution coefficients on the real-world datasets."
   ]
  },
  {
   "cell_type": "markdown",
   "id": "753b053a",
   "metadata": {},
   "source": [
    "## 3.1 Ollivier-Ricci curvature"
   ]
  },
  {
   "cell_type": "markdown",
   "id": "93b63e3c",
   "metadata": {},
   "source": [
    "### 3.1.1 MNIST 1 vs. 7"
   ]
  },
  {
   "cell_type": "code",
   "execution_count": 44,
   "id": "d693509b",
   "metadata": {},
   "outputs": [
    {
     "name": "stdout",
     "output_type": "stream",
     "text": [
      "Curvature of layer 15 calculated\r"
     ]
    },
    {
     "data": {
      "image/png": "[encoded data removed]",
      "text/plain": [
       "<Figure size 640x480 with 1 Axes>"
      ]
     },
     "metadata": {},
     "output_type": "display_data"
    }
   ],
   "source": [
    "# Load dataset\n",
    "X_train_MNIST_17,y_train_MNIST_17, X_test_MNIST_17, y_test_MNIST_17 = DatasetFactory.load_MNIST(digits=(1,7), device=device)\n",
    "\n",
    "# Train model\n",
    "model = DNN(input_dimension=784, hidden_units=50, depth=15, vision_model=True).to(device=device)\n",
    "train_model(\n",
    "    threshold_accuracy=99,\n",
    "    model=model,\n",
    "    X_train=X_train_MNIST_17,\n",
    "    y_train=y_train_MNIST_17,\n",
    "    X_test=X_test_MNIST_17,\n",
    "    y_test=y_test_MNIST_17\n",
    ")\n",
    "\n",
    "# Calculate local Ricci evolution coefficients\n",
    "local_ricci = Ricci_Coefficients(\n",
    "    model, X_test_MNIST_17, 50\n",
    ").local_ricci_coefficient(curv='Ollivier-Ricci')\n",
    "\n",
    "# Plot histogram\n",
    "_ , _ , _ = plt.hist(local_ricci,bins=20)\n",
    "plt.ylabel(\"Frequency\", fontsize=16)\n",
    "plt.xlabel(\"Local Ricci evolution coefficient\", fontsize=16)\n",
    "plt.show()"
   ]
  },
  {
   "cell_type": "markdown",
   "id": "4db83561",
   "metadata": {},
   "source": [
    "### 3.1.2 MNIST 6 vs. 9"
   ]
  },
  {
   "cell_type": "code",
   "execution_count": 45,
   "id": "403f5f6d",
   "metadata": {},
   "outputs": [
    {
     "name": "stdout",
     "output_type": "stream",
     "text": [
      "Curvature of layer 15 calculated\r"
     ]
    },
    {
     "data": {
      "image/png": "[encoded data removed]",
      "text/plain": [
       "<Figure size 640x480 with 1 Axes>"
      ]
     },
     "metadata": {},
     "output_type": "display_data"
    }
   ],
   "source": [
    "# Load dataset\n",
    "X_train_MNIST_69,y_train_MNIST_69, X_test_MNIST_69, y_test_MNIST_69 = DatasetFactory.load_MNIST(digits=(6,9), device=device)\n",
    "\n",
    "# Train model\n",
    "model = DNN(input_dimension=784, hidden_units=50, depth=15, vision_model=True).to(device=device)\n",
    "train_model(\n",
    "    threshold_accuracy=99,\n",
    "    model=model,\n",
    "    X_train=X_train_MNIST_69,\n",
    "    y_train=y_train_MNIST_69,\n",
    "    X_test=X_test_MNIST_69,\n",
    "    y_test=y_test_MNIST_69\n",
    ")\n",
    "\n",
    "# Compute local Ricci evolution coefficients\n",
    "local_ricci = Ricci_Coefficients(\n",
    "    model, X_test_MNIST_69, 50\n",
    ").local_ricci_coefficient(curv='Ollivier-Ricci')\n",
    "\n",
    "# Plot histogram\n",
    "_ , _ , _ = plt.hist(local_ricci,bins=20)\n",
    "plt.ylabel(\"Frequency\", fontsize=16)\n",
    "plt.xlabel(\"Local Ricci evolution coefficient\", fontsize=16)\n",
    "plt.show()"
   ]
  },
  {
   "cell_type": "markdown",
   "id": "80632fdc",
   "metadata": {},
   "source": [
    "### 3.1.3 Fashion-MNIST Shoes"
   ]
  },
  {
   "cell_type": "code",
   "execution_count": null,
   "id": "a152ee8f",
   "metadata": {},
   "outputs": [
    {
     "name": "stdout",
     "output_type": "stream",
     "text": [
      "Curvature of layer 15 calculated\r"
     ]
    },
    {
     "data": {
      "image/png": "[encoded data removed]",
      "text/plain": [
       "<Figure size 640x480 with 1 Axes>"
      ]
     },
     "metadata": {},
     "output_type": "display_data"
    }
   ],
   "source": [
    "# Load dataset\n",
    "X_train_fMNIST_shoes,y_train_fMNIST_shoes, X_test_fMNIST_shoes, y_test_fMNIST_shoes = DatasetFactory.load_fMNIST(classes=(5,7), device=device)\n",
    "\n",
    "# Train model\n",
    "model = DNN(input_dimension=784, hidden_units=50, depth=15, vision_model=True).to(device=device)\n",
    "train_model(\n",
    "    threshold_accuracy=99,\n",
    "    model=model,\n",
    "    X_train=X_train_fMNIST_shoes,\n",
    "    y_train=y_train_fMNIST_shoes,\n",
    "    X_test=X_test_fMNIST_shoes,\n",
    "    y_test=y_test_fMNIST_shoes\n",
    ")\n",
    "\n",
    "# Calculate local Ricci evolution coefficients\n",
    "local_ricci = Ricci_Coefficients(\n",
    "    model, X_test_fMNIST_shoes, 50\n",
    ").local_ricci_coefficient(curv='Ollivier-Ricci')\n",
    "\n",
    "# Plot histogram\n",
    "_ , _ , _ = plt.hist(local_ricci,bins=20)\n",
    "plt.ylabel(\"Frequency\", fontsize=16)\n",
    "plt.xlabel(\"Local Ricci evolution coefficient\", fontsize=16)\n",
    "plt.show()"
   ]
  },
  {
   "cell_type": "markdown",
   "id": "a8372f16",
   "metadata": {},
   "source": [
    "### 3.1.4 Fashion-MNIST Apperal"
   ]
  },
  {
   "cell_type": "code",
   "execution_count": 47,
   "id": "ea6534d7",
   "metadata": {},
   "outputs": [
    {
     "name": "stdout",
     "output_type": "stream",
     "text": [
      "Curvature of layer 15 calculated\r"
     ]
    },
    {
     "data": {
      "image/png": "[encoded data removed]",
      "text/plain": [
       "<Figure size 640x480 with 1 Axes>"
      ]
     },
     "metadata": {},
     "output_type": "display_data"
    }
   ],
   "source": [
    "# Load dataset\n",
    "X_train_fMNIST_apperal,y_train_fMNIST_apperal, X_test_fMNIST_apperal, y_test_fMNIST_apperal = DatasetFactory.load_fMNIST((3,6), device=device)\n",
    "\n",
    "# Train model\n",
    "model = DNN(input_dimension=784, hidden_units=50, depth=15, vision_model=True).to(device=device)\n",
    "train_model(\n",
    "    threshold_accuracy=99,\n",
    "    model=model,\n",
    "    X_train=X_train_fMNIST_apperal,\n",
    "    y_train=y_train_fMNIST_apperal,\n",
    "    X_test=X_test_fMNIST_apperal,\n",
    "    y_test=y_test_fMNIST_apperal\n",
    ")\n",
    "\n",
    "# Calculate local Ricci evolution coefficients\n",
    "local_ricci = Ricci_Coefficients(\n",
    "    model, X_test_fMNIST_apperal, 50\n",
    ").local_ricci_coefficient(curv='Ollivier-Ricci')\n",
    "\n",
    "# Plot histogram\n",
    "_ , _ , _ = plt.hist(local_ricci,bins=20)\n",
    "plt.ylabel(\"Frequency\", fontsize=16)\n",
    "plt.xlabel(\"Local Ricci evolution coefficient\", fontsize=16)\n",
    "plt.show()"
   ]
  },
  {
   "cell_type": "markdown",
   "id": "eeb6b2a6",
   "metadata": {},
   "source": [
    "### 3.1.5 CIFAR Car vs. Plane"
   ]
  },
  {
   "cell_type": "code",
   "execution_count": 4,
   "id": "32f36740",
   "metadata": {},
   "outputs": [
    {
     "name": "stdout",
     "output_type": "stream",
     "text": [
      "Curvature of layer 15 calculated\r"
     ]
    },
    {
     "data": {
      "image/png": "[encoded data removed]",
      "text/plain": [
       "<Figure size 640x480 with 1 Axes>"
      ]
     },
     "metadata": {},
     "output_type": "display_data"
    }
   ],
   "source": [
    "# Load dataset\n",
    "X_train_CIFAR, y_train_CIFAR, X_test_CIFAR, y_test_CIFAR = DatasetFactory.load_CIFAR((0,1), device=device)\n",
    "\n",
    "# Train model\n",
    "model = DNN(input_dimension=3*32*32, hidden_units=50, depth=15, vision_model=True).to(device=device)\n",
    "train_model(\n",
    "    threshold_accuracy=99,\n",
    "    model=model,\n",
    "    X_train=X_train_CIFAR,\n",
    "    y_train=y_train_CIFAR,\n",
    "    X_test=X_test_CIFAR,\n",
    "    y_test=y_test_CIFAR\n",
    ")\n",
    "\n",
    "# Calculate local Ricci evolution coefficients\n",
    "local_ricci = Ricci_Coefficients(\n",
    "    model, X_test_CIFAR, 50\n",
    ").local_ricci_coefficient(curv='Ollivier-Ricci')\n",
    "\n",
    "# Plot histogram\n",
    "_ , _ , _ = plt.hist(local_ricci,bins=20)\n",
    "plt.ylabel(\"Frequency\", fontsize=16)\n",
    "plt.xlabel(\"Local Ricci evolution coefficient\", fontsize=16)\n",
    "plt.show()"
   ]
  },
  {
   "cell_type": "markdown",
   "id": "edf41d77",
   "metadata": {},
   "source": [
    "## 3.2 Forman-Ricci curvature"
   ]
  },
  {
   "cell_type": "markdown",
   "id": "f1434072",
   "metadata": {},
   "source": [
    "### 3.2.1 MNIST 1 vs. 7"
   ]
  },
  {
   "cell_type": "code",
   "execution_count": 38,
   "id": "dd26f5e0",
   "metadata": {},
   "outputs": [
    {
     "data": {
      "image/png": "[encoded data removed]",
      "text/plain": [
       "<Figure size 640x480 with 1 Axes>"
      ]
     },
     "metadata": {},
     "output_type": "display_data"
    }
   ],
   "source": [
    "# Load dataset\n",
    "X_train_MNIST_17,y_train_MNIST_17, X_test_MNIST_17, y_test_MNIST_17 = DatasetFactory.load_MNIST(digits=(1,7), device=device)\n",
    "\n",
    "# Train model\n",
    "model = DNN(input_dimension=784, hidden_units=50, depth=15, vision_model=True).to(device=device)\n",
    "train_model(\n",
    "    threshold_accuracy=99,\n",
    "    model=model,\n",
    "    X_train=X_train_MNIST_17,\n",
    "    y_train=y_train_MNIST_17,\n",
    "    X_test=X_test_MNIST_17,\n",
    "    y_test=y_test_MNIST_17\n",
    ")\n",
    "\n",
    "# Calculate local Ricci evolution coefficients\n",
    "local_ricci = Ricci_Coefficients(\n",
    "    model, X_test_MNIST_17, 50\n",
    ").local_ricci_coefficient(curv='Augmented-Forman-Ricci')\n",
    "\n",
    "# Plot histogram\n",
    "_ , _ , _ = plt.hist(local_ricci,bins=20)\n",
    "plt.ylabel(\"Frequency\", fontsize=16)\n",
    "plt.xlabel(\"Local Ricci evolution coefficient\", fontsize=16)\n",
    "plt.show()"
   ]
  },
  {
   "cell_type": "markdown",
   "id": "97b8f81a",
   "metadata": {},
   "source": [
    "### 3.2.2 MNIST 6 vs. 9"
   ]
  },
  {
   "cell_type": "code",
   "execution_count": 39,
   "id": "e1cf5b48",
   "metadata": {},
   "outputs": [
    {
     "data": {
      "image/png": "[encoded data removed]",
      "text/plain": [
       "<Figure size 640x480 with 1 Axes>"
      ]
     },
     "metadata": {},
     "output_type": "display_data"
    }
   ],
   "source": [
    "# Load dataset\n",
    "X_train_MNIST_69,y_train_MNIST_69, X_test_MNIST_69, y_test_MNIST_69 = DatasetFactory.load_MNIST(digits=(6,9), device=device)\n",
    "\n",
    "# Train model\n",
    "model = DNN(input_dimension=784, hidden_units=50, depth=15, vision_model=True).to(device=device)\n",
    "train_model(\n",
    "    threshold_accuracy=99,\n",
    "    model=model,\n",
    "    X_train=X_train_MNIST_69,\n",
    "    y_train=y_train_MNIST_69,\n",
    "    X_test=X_test_MNIST_69,\n",
    "    y_test=y_test_MNIST_69\n",
    ")\n",
    "\n",
    "# Compute local Ricci evolution coefficients\n",
    "local_ricci = Ricci_Coefficients(\n",
    "    model, X_test_MNIST_69, 50\n",
    ").local_ricci_coefficient(curv='Augmented-Forman-Ricci')\n",
    "\n",
    "# Plot histogram\n",
    "_ , _ , _ = plt.hist(local_ricci,bins=20)\n",
    "plt.ylabel(\"Frequency\", fontsize=16)\n",
    "plt.xlabel(\"Local Ricci evolution coefficient\", fontsize=16)\n",
    "plt.show()"
   ]
  },
  {
   "cell_type": "markdown",
   "id": "f2336a04",
   "metadata": {},
   "source": [
    "### 3.2.3 Fashion-MNIST Shoes"
   ]
  },
  {
   "cell_type": "code",
   "execution_count": 40,
   "id": "8811ae50",
   "metadata": {},
   "outputs": [
    {
     "data": {
      "image/png": "[encoded data removed]",
      "text/plain": [
       "<Figure size 640x480 with 1 Axes>"
      ]
     },
     "metadata": {},
     "output_type": "display_data"
    }
   ],
   "source": [
    "# Load dataset\n",
    "X_train_fMNIST_shoes,y_train_fMNIST_shoes, X_test_fMNIST_shoes, y_test_fMNIST_shoes = DatasetFactory.load_fMNIST((5,7), device=device)\n",
    "\n",
    "# Train model\n",
    "model = DNN(input_dimension=784, hidden_units=50, depth=15, vision_model=True).to(device=device)\n",
    "train_model(\n",
    "    threshold_accuracy=99,\n",
    "    model=model,\n",
    "    X_train=X_train_fMNIST_shoes,\n",
    "    y_train=y_train_fMNIST_shoes,\n",
    "    X_test=X_test_fMNIST_shoes,\n",
    "    y_test=y_test_fMNIST_shoes\n",
    ")\n",
    "\n",
    "# Calculate local Ricci evolution coefficients\n",
    "local_ricci = Ricci_Coefficients(\n",
    "    model, X_test_fMNIST_shoes, 50\n",
    ").local_ricci_coefficient(curv='Augmented-Forman-Ricci')\n",
    "\n",
    "# Plot histogram\n",
    "_ , _ , _ = plt.hist(local_ricci,bins=20)\n",
    "plt.ylabel(\"Frequency\", fontsize=16)\n",
    "plt.xlabel(\"Local Ricci evolution coefficient\", fontsize=16)\n",
    "plt.show()"
   ]
  },
  {
   "cell_type": "markdown",
   "id": "da543603",
   "metadata": {},
   "source": [
    "### 3.2.4 Fashion-MNIST Apperal"
   ]
  },
  {
   "cell_type": "code",
   "execution_count": 42,
   "id": "48e430b8",
   "metadata": {},
   "outputs": [
    {
     "data": {
      "image/png": "[encoded data removed]",
      "text/plain": [
       "<Figure size 640x480 with 1 Axes>"
      ]
     },
     "metadata": {},
     "output_type": "display_data"
    }
   ],
   "source": [
    "# Load dataset\n",
    "X_train_fMNIST_apperal,y_train_fMNIST_apperal, X_test_fMNIST_apperal, y_test_fMNIST_apperal = DatasetFactory.load_fMNIST((3,6), device=device)\n",
    "\n",
    "# Train model\n",
    "model = DNN(input_dimension=784, hidden_units=50, depth=15, vision_model=True).to(device=device)\n",
    "train_model(\n",
    "    threshold_accuracy=99,\n",
    "    model=model,\n",
    "    X_train=X_train_fMNIST_apperal,\n",
    "    y_train=y_train_fMNIST_apperal,\n",
    "    X_test=X_test_fMNIST_apperal,\n",
    "    y_test=y_test_fMNIST_apperal\n",
    ")\n",
    "\n",
    "# Calculate local Ricci evolution coefficients\n",
    "local_ricci = Ricci_Coefficients(\n",
    "    model, X_test_fMNIST_apperal, 50\n",
    ").local_ricci_coefficient(curv='Augmented-Forman-Ricci')\n",
    "\n",
    "# Plot histogram\n",
    "_ , _ , _ = plt.hist(local_ricci,bins=20)\n",
    "plt.ylabel(\"Frequency\", fontsize=16)\n",
    "plt.xlabel(\"Local Ricci evolution coefficient\", fontsize=16)\n",
    "plt.show()"
   ]
  },
  {
   "cell_type": "markdown",
   "id": "c08d5247",
   "metadata": {},
   "source": [
    "### 3.2.5 CIFAR Car vs. Plane"
   ]
  },
  {
   "cell_type": "code",
   "execution_count": 5,
   "id": "a77d25e2",
   "metadata": {},
   "outputs": [
    {
     "data": {
      "image/png": "[encoded data removed]",
      "text/plain": [
       "<Figure size 640x480 with 1 Axes>"
      ]
     },
     "metadata": {},
     "output_type": "display_data"
    }
   ],
   "source": [
    "# Load dataset\n",
    "X_train_CIFAR, y_train_CIFAR, X_test_CIFAR, y_test_CIFAR = DatasetFactory.load_CIFAR((0,1), device=device)\n",
    "\n",
    "# Train model\n",
    "model = DNN(input_dimension=3*32*32, hidden_units=50, depth=15, vision_model=True).to(device=device)\n",
    "train_model(\n",
    "    threshold_accuracy=99,\n",
    "    model=model,\n",
    "    X_train=X_train_CIFAR,\n",
    "    y_train=y_train_CIFAR,\n",
    "    X_test=X_test_CIFAR,\n",
    "    y_test=y_test_CIFAR\n",
    ")\n",
    "\n",
    "# Calculate local Ricci evolution coefficients\n",
    "local_ricci = Ricci_Coefficients(\n",
    "    model, X_test_CIFAR, 50\n",
    ").local_ricci_coefficient(curv='Augmented-Forman-Ricci')\n",
    "\n",
    "# Plot histogram\n",
    "_ , _ , _ = plt.hist(local_ricci,bins=20)\n",
    "plt.ylabel(\"Frequency\", fontsize=16)\n",
    "plt.xlabel(\"Local Ricci evolution coefficient\", fontsize=16)\n",
    "plt.show()"
   ]
  }
 ],
 "metadata": {
  "kernelspec": {
   "display_name": ".venv",
   "language": "python",
   "name": "python3"
  },
  "language_info": {
   "codemirror_mode": {
    "name": "ipython",
    "version": 3
   },
   "file_extension": ".py",
   "mimetype": "text/x-python",
   "name": "python",
   "nbconvert_exporter": "python",
   "pygments_lexer": "ipython3",
   "version": "3.11.0"
  }
 },
 "nbformat": 4,
 "nbformat_minor": 5
}
