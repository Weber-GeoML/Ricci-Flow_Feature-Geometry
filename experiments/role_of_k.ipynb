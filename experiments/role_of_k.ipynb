{
 "cells": [
  {
   "cell_type": "markdown",
   "id": "d21680d8",
   "metadata": {},
   "source": [
    "# Neighborhood size\n",
    "\n",
    "In this notebook we investigate the impact of the number of nearest neighbors in the construction of the $k$-nearest neighbor graphs on the local Ricci evolution coefficients. We begin by importing the necessary libraries."
   ]
  },
  {
   "cell_type": "code",
   "execution_count": 23,
   "id": "d90e979a",
   "metadata": {},
   "outputs": [
    {
     "name": "stdout",
     "output_type": "stream",
     "text": [
      "Using mps device\n"
     ]
    }
   ],
   "source": [
    "import matplotlib.pyplot as plt\n",
    "import numpy as np\n",
    "import torch\n",
    "from tqdm.auto import tqdm\n",
    "import os\n",
    "import sys\n",
    "\n",
    "sys.path.append(os.path.abspath('..'))\n",
    "from ricci_coefficients import Ricci_Coefficients\n",
    "from helpers import train_model\n",
    "from neural_networks import DNN\n",
    "from datasets import DatasetFactory\n",
    "\n",
    "\n",
    "num_neighbors = [20,50,70,100,150]\n",
    "num_iteration = 3\n",
    "\n",
    "device = torch.accelerator.current_accelerator().type if torch.accelerator.is_available() else \"cpu\"\n",
    "print(f\"Using {device} device\")"
   ]
  },
  {
   "cell_type": "markdown",
   "id": "3b9b0ba2",
   "metadata": {},
   "source": [
    "# 1. Syn-I Dataset"
   ]
  },
  {
   "cell_type": "code",
   "execution_count": 24,
   "id": "5ad16be5",
   "metadata": {},
   "outputs": [
    {
     "data": {
      "application/vnd.jupyter.widget-view+json": {
       "model_id": "849e46647aab42b7a93388b29196efe8",
       "version_major": 2,
       "version_minor": 0
      },
      "text/plain": [
       "Number of neighbors: 20:   0%|          | 0/3 [00:00<?, ?it/s]"
      ]
     },
     "metadata": {},
     "output_type": "display_data"
    },
    {
     "name": "stdout",
     "output_type": "stream",
     "text": [
      "-0.43837492414147097 calculated\n"
     ]
    },
    {
     "data": {
      "application/vnd.jupyter.widget-view+json": {
       "model_id": "6a679cc489814b248c532d1703387328",
       "version_major": 2,
       "version_minor": 0
      },
      "text/plain": [
       "Number of neighbors: 50:   0%|          | 0/3 [00:00<?, ?it/s]"
      ]
     },
     "metadata": {},
     "output_type": "display_data"
    },
    {
     "name": "stdout",
     "output_type": "stream",
     "text": [
      "-0.41685241355656267 calculated\n"
     ]
    },
    {
     "data": {
      "application/vnd.jupyter.widget-view+json": {
       "model_id": "8c82e2de362a4d44ae8a849d611cb7e5",
       "version_major": 2,
       "version_minor": 0
      },
      "text/plain": [
       "Number of neighbors: 70:   0%|          | 0/3 [00:00<?, ?it/s]"
      ]
     },
     "metadata": {},
     "output_type": "display_data"
    },
    {
     "name": "stdout",
     "output_type": "stream",
     "text": [
      "-0.49225381256204687 calculated\n"
     ]
    },
    {
     "data": {
      "application/vnd.jupyter.widget-view+json": {
       "model_id": "3c25964663444ab39cd45b9d8879b578",
       "version_major": 2,
       "version_minor": 0
      },
      "text/plain": [
       "Number of neighbors: 100:   0%|          | 0/3 [00:00<?, ?it/s]"
      ]
     },
     "metadata": {},
     "output_type": "display_data"
    },
    {
     "name": "stdout",
     "output_type": "stream",
     "text": [
      "-0.47177143267342153 calculated\n"
     ]
    },
    {
     "data": {
      "application/vnd.jupyter.widget-view+json": {
       "model_id": "ab79f3ffe39c4e3381c2c911461266e8",
       "version_major": 2,
       "version_minor": 0
      },
      "text/plain": [
       "Number of neighbors: 150:   0%|          | 0/3 [00:00<?, ?it/s]"
      ]
     },
     "metadata": {},
     "output_type": "display_data"
    },
    {
     "name": "stdout",
     "output_type": "stream",
     "text": [
      "-0.37669410467559367 calculated\n"
     ]
    }
   ],
   "source": [
    "# Load datasets\n",
    "X_train_circles, y_train_circles = DatasetFactory.make_circles(noise=0.03)\n",
    "X_test_circles, y_test_circles = DatasetFactory.make_circles(noise=0.03)\n",
    "\n",
    "# Train models \n",
    "models = []\n",
    "for _ in range(num_iteration):\n",
    "    model = DNN(input_dimension=2, hidden_units=25, depth=7)\n",
    "    train_model(\n",
    "        threshold_accuracy=99,\n",
    "        model=model,\n",
    "        X_train=X_train_circles,\n",
    "        y_train=y_train_circles,\n",
    "        X_test=X_test_circles,\n",
    "        y_test=y_test_circles\n",
    "    )\n",
    "    models.append(model)\n",
    "\n",
    "# Calculate local Ricci evolution coefficients for each neighborhood size\n",
    "avg_ricci_coefs_across_k = []\n",
    "for k in num_neighbors:\n",
    "    local_ricci_coefs_mean = []\n",
    "    for i in tqdm(range(num_iteration), desc=f\"Number of neighbors: {k}\"):\n",
    "        local_ricci = Ricci_Coefficients(\n",
    "            models[i], X_test_circles, k\n",
    "        ).local_ricci_coefficient(curv='Ollivier-Ricci')\n",
    "        local_ricci_coefs_mean.append(np.nanmean(local_ricci))\n",
    "    avg_ricci_coefs_across_k.append(np.mean(local_ricci_coefs_mean))\n",
    "    print(np.mean(local_ricci_coefs_mean))"
   ]
  },
  {
   "cell_type": "markdown",
   "id": "5847df2a",
   "metadata": {},
   "source": [
    "# 2. Syn-II Dataset"
   ]
  },
  {
   "cell_type": "code",
   "execution_count": 25,
   "id": "6652fa58",
   "metadata": {},
   "outputs": [
    {
     "data": {
      "application/vnd.jupyter.widget-view+json": {
       "model_id": "fb37f3fb86fd4b7f8ae9246bede4e505",
       "version_major": 2,
       "version_minor": 0
      },
      "text/plain": [
       "Number of neighbors: 20:   0%|          | 0/3 [00:00<?, ?it/s]"
      ]
     },
     "metadata": {},
     "output_type": "display_data"
    },
    {
     "name": "stdout",
     "output_type": "stream",
     "text": [
      "-0.15236088982439844 calculated\n"
     ]
    },
    {
     "data": {
      "application/vnd.jupyter.widget-view+json": {
       "model_id": "c6ec18daaeb2480698523a84fb19453a",
       "version_major": 2,
       "version_minor": 0
      },
      "text/plain": [
       "Number of neighbors: 50:   0%|          | 0/3 [00:00<?, ?it/s]"
      ]
     },
     "metadata": {},
     "output_type": "display_data"
    },
    {
     "name": "stdout",
     "output_type": "stream",
     "text": [
      "-0.26627422874548573 calculated\n"
     ]
    },
    {
     "data": {
      "application/vnd.jupyter.widget-view+json": {
       "model_id": "accfb52cded941f29ab19fd6ea230616",
       "version_major": 2,
       "version_minor": 0
      },
      "text/plain": [
       "Number of neighbors: 70:   0%|          | 0/3 [00:00<?, ?it/s]"
      ]
     },
     "metadata": {},
     "output_type": "display_data"
    },
    {
     "name": "stdout",
     "output_type": "stream",
     "text": [
      "-0.30889713367715327 calculated\n"
     ]
    },
    {
     "data": {
      "application/vnd.jupyter.widget-view+json": {
       "model_id": "394483f34a64491c9a09f9d66806af58",
       "version_major": 2,
       "version_minor": 0
      },
      "text/plain": [
       "Number of neighbors: 100:   0%|          | 0/3 [00:00<?, ?it/s]"
      ]
     },
     "metadata": {},
     "output_type": "display_data"
    },
    {
     "name": "stdout",
     "output_type": "stream",
     "text": [
      "-0.33206605044741905 calculated\n"
     ]
    },
    {
     "data": {
      "application/vnd.jupyter.widget-view+json": {
       "model_id": "1c68487e0cb7459fac935ec3b6095a00",
       "version_major": 2,
       "version_minor": 0
      },
      "text/plain": [
       "Number of neighbors: 150:   0%|          | 0/3 [00:00<?, ?it/s]"
      ]
     },
     "metadata": {},
     "output_type": "display_data"
    },
    {
     "name": "stdout",
     "output_type": "stream",
     "text": [
      "-0.30498967149769127 calculated\n"
     ]
    }
   ],
   "source": [
    "# Load datasets\n",
    "X_train_4circles, y_train_4circles = DatasetFactory.make_4circles()\n",
    "X_test_4circles, y_test_4circles = DatasetFactory.make_4circles()\n",
    "\n",
    "# Train models\n",
    "models = []\n",
    "for _ in range(num_iteration):\n",
    "    model = DNN(input_dimension=2, hidden_units=25, depth=7)\n",
    "    train_model(\n",
    "        threshold_accuracy=99,\n",
    "        model=model,\n",
    "        X_train=X_train_4circles,\n",
    "        y_train=y_train_4circles,\n",
    "        X_test=X_test_4circles,\n",
    "        y_test=y_test_4circles\n",
    "    )\n",
    "    models.append(model)\n",
    "\n",
    "# Calculate local Ricci evolution coefficients for each neighborhood size \n",
    "avg_ricci_coefs_across_k = []\n",
    "for k in num_neighbors:\n",
    "    local_ricci_coefs_mean = []\n",
    "    for i in tqdm(range(num_iteration), desc=f\"Number of neighbors: {k}\"):\n",
    "        local_ricci = Ricci_Coefficients(\n",
    "            models[i], X_test_4circles, k\n",
    "        ).local_ricci_coefficient(curv='Ollivier-Ricci')\n",
    "        local_ricci_coefs_mean.append(np.nanmean(local_ricci))\n",
    "    avg_ricci_coefs_across_k.append(np.mean(local_ricci_coefs_mean))\n",
    "    print(np.mean(local_ricci_coefs_mean))"
   ]
  },
  {
   "cell_type": "markdown",
   "id": "9afcdb6d",
   "metadata": {},
   "source": [
    "# 3. Syn-III Dataset"
   ]
  },
  {
   "cell_type": "code",
   "execution_count": 26,
   "id": "9a736ecb",
   "metadata": {},
   "outputs": [
    {
     "data": {
      "application/vnd.jupyter.widget-view+json": {
       "model_id": "49ab302526ad458786c6800fff3baa9b",
       "version_major": 2,
       "version_minor": 0
      },
      "text/plain": [
       "Number of neighbors: 20:   0%|          | 0/3 [00:00<?, ?it/s]"
      ]
     },
     "metadata": {},
     "output_type": "display_data"
    },
    {
     "name": "stdout",
     "output_type": "stream",
     "text": [
      "-0.49358761332129877 calculated\n"
     ]
    },
    {
     "data": {
      "application/vnd.jupyter.widget-view+json": {
       "model_id": "6407c95d9c224244a640dfbb1dbca860",
       "version_major": 2,
       "version_minor": 0
      },
      "text/plain": [
       "Number of neighbors: 50:   0%|          | 0/3 [00:00<?, ?it/s]"
      ]
     },
     "metadata": {},
     "output_type": "display_data"
    },
    {
     "name": "stdout",
     "output_type": "stream",
     "text": [
      "-0.57437582911776017 calculated\n"
     ]
    },
    {
     "data": {
      "application/vnd.jupyter.widget-view+json": {
       "model_id": "2c27ad18e4c541a891e8b6f386ce1baf",
       "version_major": 2,
       "version_minor": 0
      },
      "text/plain": [
       "Number of neighbors: 70:   0%|          | 0/3 [00:00<?, ?it/s]"
      ]
     },
     "metadata": {},
     "output_type": "display_data"
    },
    {
     "name": "stdout",
     "output_type": "stream",
     "text": [
      "-0.54495810883104097 calculated\n"
     ]
    },
    {
     "data": {
      "application/vnd.jupyter.widget-view+json": {
       "model_id": "623f114a09b14917a60f56307fb474d8",
       "version_major": 2,
       "version_minor": 0
      },
      "text/plain": [
       "Number of neighbors: 100:   0%|          | 0/3 [00:00<?, ?it/s]"
      ]
     },
     "metadata": {},
     "output_type": "display_data"
    },
    {
     "name": "stdout",
     "output_type": "stream",
     "text": [
      "-0.50714561053007217 calculated\n"
     ]
    },
    {
     "data": {
      "application/vnd.jupyter.widget-view+json": {
       "model_id": "4b670e318d8e40668db84ec2757b4a20",
       "version_major": 2,
       "version_minor": 0
      },
      "text/plain": [
       "Number of neighbors: 150:   0%|          | 0/3 [00:00<?, ?it/s]"
      ]
     },
     "metadata": {},
     "output_type": "display_data"
    },
    {
     "name": "stdout",
     "output_type": "stream",
     "text": [
      "-0.45274494745917327 calculated\n"
     ]
    }
   ],
   "source": [
    "# Load datasets\n",
    "X_train_cylinder,y_train_cylinder = DatasetFactory.make_cylinders()\n",
    "X_test_cylinder,y_test_cylinder = DatasetFactory.make_cylinders()\n",
    "\n",
    "# Train models\n",
    "models = []\n",
    "for _ in range(num_iteration):\n",
    "    model = DNN(input_dimension=3, hidden_units=25, depth=7)\n",
    "    train_model(\n",
    "        threshold_accuracy=99,\n",
    "        model=model,\n",
    "        X_train=X_train_cylinder,\n",
    "        y_train=y_train_cylinder,\n",
    "        X_test=X_test_cylinder,\n",
    "        y_test=y_test_cylinder\n",
    "    )\n",
    "    models.append(model)\n",
    "\n",
    "# Calculate local Ricci evolution coefficients for each neighborhood size \n",
    "avg_ricci_coefs_across_k = []\n",
    "for k in num_neighbors:\n",
    "    local_ricci_coefs_mean = []\n",
    "    for i in tqdm(range(num_iteration), desc=f\"Number of neighbors: {k}\"):\n",
    "        local_ricci = Ricci_Coefficients(\n",
    "            models[i], X_test_cylinder, k\n",
    "        ).local_ricci_coefficient(curv='Ollivier-Ricci')\n",
    "        local_ricci_coefs_mean.append(np.nanmean(local_ricci))\n",
    "    avg_ricci_coefs_across_k.append(np.mean(local_ricci_coefs_mean))\n",
    "    print(np.mean(local_ricci_coefs_mean))"
   ]
  },
  {
   "cell_type": "markdown",
   "id": "4d24a447",
   "metadata": {},
   "source": [
    "# 4. Syn-IV Dataset"
   ]
  },
  {
   "cell_type": "code",
   "execution_count": null,
   "id": "d2dcf446",
   "metadata": {},
   "outputs": [
    {
     "data": {
      "application/vnd.jupyter.widget-view+json": {
       "model_id": "980e06108c0345e296ce8f697231e0f4",
       "version_major": 2,
       "version_minor": 0
      },
      "text/plain": [
       "Number of neighbors: 20:   0%|          | 0/3 [00:00<?, ?it/s]"
      ]
     },
     "metadata": {},
     "output_type": "display_data"
    },
    {
     "name": "stdout",
     "output_type": "stream",
     "text": [
      "-0.20539610064457048 calculated\n"
     ]
    },
    {
     "data": {
      "application/vnd.jupyter.widget-view+json": {
       "model_id": "24ef9f4c7627484d9b4058442db420ff",
       "version_major": 2,
       "version_minor": 0
      },
      "text/plain": [
       "Number of neighbors: 50:   0%|          | 0/3 [00:00<?, ?it/s]"
      ]
     },
     "metadata": {},
     "output_type": "display_data"
    },
    {
     "name": "stdout",
     "output_type": "stream",
     "text": [
      "-0.40483457194011113 calculated\n"
     ]
    },
    {
     "data": {
      "application/vnd.jupyter.widget-view+json": {
       "model_id": "7e6d1e91b10d4e44b5d2447269557926",
       "version_major": 2,
       "version_minor": 0
      },
      "text/plain": [
       "Number of neighbors: 70:   0%|          | 0/3 [00:00<?, ?it/s]"
      ]
     },
     "metadata": {},
     "output_type": "display_data"
    },
    {
     "name": "stdout",
     "output_type": "stream",
     "text": [
      "-0.41089599495521645 calculated\n"
     ]
    },
    {
     "data": {
      "application/vnd.jupyter.widget-view+json": {
       "model_id": "5fb565e33d214791a7554b4279497205",
       "version_major": 2,
       "version_minor": 0
      },
      "text/plain": [
       "Number of neighbors: 100:   0%|          | 0/3 [00:00<?, ?it/s]"
      ]
     },
     "metadata": {},
     "output_type": "display_data"
    },
    {
     "name": "stdout",
     "output_type": "stream",
     "text": [
      "-0.39222651375478784 calculated\n"
     ]
    },
    {
     "data": {
      "application/vnd.jupyter.widget-view+json": {
       "model_id": "7b9dfafc7bb34120af64e3f67cf8fc7a",
       "version_major": 2,
       "version_minor": 0
      },
      "text/plain": [
       "Number of neighbors: 150:   0%|          | 0/3 [00:00<?, ?it/s]"
      ]
     },
     "metadata": {},
     "output_type": "display_data"
    },
    {
     "name": "stdout",
     "output_type": "stream",
     "text": [
      "-0.42977065682904675 calculated\n"
     ]
    }
   ],
   "source": [
    "# Load datasets\n",
    "X_train_tori, y_train_tori = DatasetFactory.make_tori()\n",
    "X_test_tori, y_test_tori = DatasetFactory.make_tori()\n",
    "\n",
    "# Train models\n",
    "models = []\n",
    "for _ in range(num_iteration):\n",
    "    model = DNN(input_dimension=3, hidden_units=25, depth=7)\n",
    "    train_model(\n",
    "        threshold_accuracy=99,\n",
    "        model=model,\n",
    "        X_train=X_train_tori,\n",
    "        y_train=y_train_tori,\n",
    "        X_test=X_test_tori,\n",
    "        y_test=y_test_tori\n",
    "    )\n",
    "    models.append(model)\n",
    "\n",
    "# Calculate local Ricci evolution coefficients for each neighborhood size \n",
    "avg_ricci_coefs_across_k = []\n",
    "for k in num_neighbors:\n",
    "    local_ricci_coefs_mean = []\n",
    "    for i in tqdm(range(num_iteration), desc=f\"Number of neighbors: {k}\"):\n",
    "        local_ricci = Ricci_Coefficients(\n",
    "            models[i], X_test_tori, k\n",
    "        ).local_ricci_coefficient(curv='Ollivier-Ricci')\n",
    "        local_ricci_coefs_mean.append(np.nanmean(local_ricci))\n",
    "    avg_ricci_coefs_across_k.append(np.mean(local_ricci_coefs_mean))\n",
    "    print(np.mean(local_ricci_coefs_mean))"
   ]
  },
  {
   "cell_type": "markdown",
   "id": "0ba03fb3",
   "metadata": {},
   "source": [
    "# 5. MNIST Dataset"
   ]
  },
  {
   "cell_type": "markdown",
   "id": "72efe3fc",
   "metadata": {},
   "source": [
    "## 5.1 MNIST 1 vs. 7"
   ]
  },
  {
   "cell_type": "code",
   "execution_count": 28,
   "id": "7fd74c7c",
   "metadata": {},
   "outputs": [
    {
     "data": {
      "application/vnd.jupyter.widget-view+json": {
       "model_id": "c5538cabcb94444d93075e38113f24d4",
       "version_major": 2,
       "version_minor": 0
      },
      "text/plain": [
       "Number of neighbors: 20:   0%|          | 0/3 [00:00<?, ?it/s]"
      ]
     },
     "metadata": {},
     "output_type": "display_data"
    },
    {
     "name": "stdout",
     "output_type": "stream",
     "text": [
      "-0.561722316271342 7 calculated\n"
     ]
    },
    {
     "data": {
      "application/vnd.jupyter.widget-view+json": {
       "model_id": "cd9a43d3f1bd48cab58f95f1a9102b97",
       "version_major": 2,
       "version_minor": 0
      },
      "text/plain": [
       "Number of neighbors: 50:   0%|          | 0/3 [00:00<?, ?it/s]"
      ]
     },
     "metadata": {},
     "output_type": "display_data"
    },
    {
     "name": "stdout",
     "output_type": "stream",
     "text": [
      "-0.51307390573930967 calculated\n"
     ]
    },
    {
     "data": {
      "application/vnd.jupyter.widget-view+json": {
       "model_id": "c32cc1bf5e6f4da28a355436268c0ffb",
       "version_major": 2,
       "version_minor": 0
      },
      "text/plain": [
       "Number of neighbors: 70:   0%|          | 0/3 [00:00<?, ?it/s]"
      ]
     },
     "metadata": {},
     "output_type": "display_data"
    },
    {
     "name": "stdout",
     "output_type": "stream",
     "text": [
      "-0.47075835021315876 calculated\n"
     ]
    },
    {
     "data": {
      "application/vnd.jupyter.widget-view+json": {
       "model_id": "ba2ef1ed32e046dc98d2f0a2923e3c4b",
       "version_major": 2,
       "version_minor": 0
      },
      "text/plain": [
       "Number of neighbors: 100:   0%|          | 0/3 [00:00<?, ?it/s]"
      ]
     },
     "metadata": {},
     "output_type": "display_data"
    },
    {
     "name": "stdout",
     "output_type": "stream",
     "text": [
      "-0.39720598183639987 calculated\n"
     ]
    },
    {
     "data": {
      "application/vnd.jupyter.widget-view+json": {
       "model_id": "608178203fb54457a9c397bfe022e419",
       "version_major": 2,
       "version_minor": 0
      },
      "text/plain": [
       "Number of neighbors: 150:   0%|          | 0/3 [00:00<?, ?it/s]"
      ]
     },
     "metadata": {},
     "output_type": "display_data"
    },
    {
     "name": "stdout",
     "output_type": "stream",
     "text": [
      "-0.33204746470411027 calculated\n"
     ]
    }
   ],
   "source": [
    "# Load datasets\n",
    "X_train_MNIST_17,y_train_MNIST_17, X_test_MNIST_17, y_test_MNIST_17 = DatasetFactory.load_MNIST(digits=(1,7))\n",
    "\n",
    "# Train models\n",
    "models = []\n",
    "for _ in range(num_iteration):\n",
    "    model = DNN(input_dimension=28*28, hidden_units=25, depth=7, vision_model=True)\n",
    "    train_model(\n",
    "        threshold_accuracy=99,\n",
    "        model=model,\n",
    "        X_train=X_train_MNIST_17,\n",
    "        y_train=y_train_MNIST_17,\n",
    "        X_test=X_test_MNIST_17,\n",
    "        y_test=y_test_MNIST_17\n",
    "    )\n",
    "    models.append(model)\n",
    "\n",
    "# Calculate local Ricci evolution coefficients for each neighborhood size \n",
    "avg_ricci_coefs_across_k = []\n",
    "for k in num_neighbors:\n",
    "    local_ricci_coefs_mean = []\n",
    "    for i in tqdm(range(num_iteration), desc=f\"Number of neighbors: {k}\"):\n",
    "        local_ricci = Ricci_Coefficients(\n",
    "            models[i], X_test_MNIST_17, k\n",
    "        ).local_ricci_coefficient(curv='Ollivier-Ricci')\n",
    "        local_ricci_coefs_mean.append(np.nanmean(local_ricci))\n",
    "    avg_ricci_coefs_across_k.append(np.mean(local_ricci_coefs_mean))\n",
    "    print(np.mean(local_ricci_coefs_mean))"
   ]
  },
  {
   "cell_type": "markdown",
   "id": "8d1a7c48",
   "metadata": {},
   "source": [
    "## 5.2 MNIST 6 vs. 9"
   ]
  },
  {
   "cell_type": "code",
   "execution_count": 29,
   "id": "fdd3b701",
   "metadata": {},
   "outputs": [
    {
     "data": {
      "application/vnd.jupyter.widget-view+json": {
       "model_id": "53ee9cb984a343babe0f1042b2413aeb",
       "version_major": 2,
       "version_minor": 0
      },
      "text/plain": [
       "Number of neighbors: 20:   0%|          | 0/3 [00:00<?, ?it/s]"
      ]
     },
     "metadata": {},
     "output_type": "display_data"
    },
    {
     "name": "stdout",
     "output_type": "stream",
     "text": [
      "-0.39065906804971157 calculated\n"
     ]
    },
    {
     "data": {
      "application/vnd.jupyter.widget-view+json": {
       "model_id": "0e6e9fbe14ba420bae02e63d604991c8",
       "version_major": 2,
       "version_minor": 0
      },
      "text/plain": [
       "Number of neighbors: 50:   0%|          | 0/3 [00:00<?, ?it/s]"
      ]
     },
     "metadata": {},
     "output_type": "display_data"
    },
    {
     "name": "stdout",
     "output_type": "stream",
     "text": [
      "-0.39830808353305813 calculated\n"
     ]
    },
    {
     "data": {
      "application/vnd.jupyter.widget-view+json": {
       "model_id": "dbe8686cf6bd4407ae6c2fbf5f233b89",
       "version_major": 2,
       "version_minor": 0
      },
      "text/plain": [
       "Number of neighbors: 70:   0%|          | 0/3 [00:00<?, ?it/s]"
      ]
     },
     "metadata": {},
     "output_type": "display_data"
    },
    {
     "name": "stdout",
     "output_type": "stream",
     "text": [
      "-0.38660908465699334 calculated\n"
     ]
    },
    {
     "data": {
      "application/vnd.jupyter.widget-view+json": {
       "model_id": "641e1f13c742409b989e41b473aefb99",
       "version_major": 2,
       "version_minor": 0
      },
      "text/plain": [
       "Number of neighbors: 100:   0%|          | 0/3 [00:00<?, ?it/s]"
      ]
     },
     "metadata": {},
     "output_type": "display_data"
    },
    {
     "name": "stdout",
     "output_type": "stream",
     "text": [
      "-0.39149570548423873 calculated\n"
     ]
    },
    {
     "data": {
      "application/vnd.jupyter.widget-view+json": {
       "model_id": "b8ba1bc1ab934751bc4255ce01263091",
       "version_major": 2,
       "version_minor": 0
      },
      "text/plain": [
       "Number of neighbors: 150:   0%|          | 0/3 [00:00<?, ?it/s]"
      ]
     },
     "metadata": {},
     "output_type": "display_data"
    },
    {
     "name": "stdout",
     "output_type": "stream",
     "text": [
      "-0.40455292948074377 calculated\n"
     ]
    }
   ],
   "source": [
    "# Load datasets\n",
    "X_train_MNIST_69,y_train_MNIST_69, X_test_MNIST_69, y_test_MNIST_69 = DatasetFactory.load_MNIST(digits=(6,9))\n",
    "\n",
    "# Train models\n",
    "models = []\n",
    "for _ in range(num_iteration):\n",
    "    model = DNN(input_dimension=28*28, hidden_units=25, depth=7, vision_model=True)\n",
    "    train_model(\n",
    "        threshold_accuracy=99,\n",
    "        model=model,\n",
    "        X_train=X_train_MNIST_69,\n",
    "        y_train=y_train_MNIST_69,\n",
    "        X_test=X_test_MNIST_69,\n",
    "        y_test=y_test_MNIST_69\n",
    "    )\n",
    "    models.append(model)\n",
    "\n",
    "# Calculate local Ricci evolution coefficients for each neighborhood size \n",
    "avg_ricci_coefs_across_k = []\n",
    "for k in num_neighbors:\n",
    "    local_ricci_coefs_mean = []\n",
    "    for i in tqdm(range(num_iteration), desc=f\"Number of neighbors: {k}\"):\n",
    "        local_ricci = Ricci_Coefficients(\n",
    "            models[i], X_test_MNIST_69, k\n",
    "        ).local_ricci_coefficient(curv='Ollivier-Ricci')\n",
    "        local_ricci_coefs_mean.append(np.nanmean(local_ricci))\n",
    "    avg_ricci_coefs_across_k.append(np.mean(local_ricci_coefs_mean))\n",
    "    print(np.mean(local_ricci_coefs_mean))"
   ]
  },
  {
   "cell_type": "markdown",
   "id": "3b7ddaa3",
   "metadata": {},
   "source": [
    "# 6. Fashion-MNIST Dataset"
   ]
  },
  {
   "cell_type": "markdown",
   "id": "9906f4df",
   "metadata": {},
   "source": [
    "## 6.1 Fashion-MNIST Shoes"
   ]
  },
  {
   "cell_type": "code",
   "execution_count": 30,
   "id": "5bb8a1b7",
   "metadata": {},
   "outputs": [
    {
     "data": {
      "application/vnd.jupyter.widget-view+json": {
       "model_id": "df010bf576734d37956bc930716ce873",
       "version_major": 2,
       "version_minor": 0
      },
      "text/plain": [
       "  0%|          | 0/3 [00:00<?, ?it/s]"
      ]
     },
     "metadata": {},
     "output_type": "display_data"
    },
    {
     "data": {
      "application/vnd.jupyter.widget-view+json": {
       "model_id": "4ceb79889f46477ba28a8f98fb48b0c4",
       "version_major": 2,
       "version_minor": 0
      },
      "text/plain": [
       "Number of neighbors: 20:   0%|          | 0/3 [00:00<?, ?it/s]"
      ]
     },
     "metadata": {},
     "output_type": "display_data"
    },
    {
     "name": "stdout",
     "output_type": "stream",
     "text": [
      "-0.41691401175834587 calculated\n"
     ]
    },
    {
     "data": {
      "application/vnd.jupyter.widget-view+json": {
       "model_id": "c115a86375db418fb80951d536839f92",
       "version_major": 2,
       "version_minor": 0
      },
      "text/plain": [
       "Number of neighbors: 50:   0%|          | 0/3 [00:00<?, ?it/s]"
      ]
     },
     "metadata": {},
     "output_type": "display_data"
    },
    {
     "name": "stdout",
     "output_type": "stream",
     "text": [
      "-0.41120913332899933 calculated\n"
     ]
    },
    {
     "data": {
      "application/vnd.jupyter.widget-view+json": {
       "model_id": "bc009b12ac5f4ccf9ac2b6dfa3da4802",
       "version_major": 2,
       "version_minor": 0
      },
      "text/plain": [
       "Number of neighbors: 70:   0%|          | 0/3 [00:00<?, ?it/s]"
      ]
     },
     "metadata": {},
     "output_type": "display_data"
    },
    {
     "name": "stdout",
     "output_type": "stream",
     "text": [
      "-0.40294998176825253 calculated\n"
     ]
    },
    {
     "data": {
      "application/vnd.jupyter.widget-view+json": {
       "model_id": "692d71235f284af3a3a0dde957ad69cf",
       "version_major": 2,
       "version_minor": 0
      },
      "text/plain": [
       "Number of neighbors: 100:   0%|          | 0/3 [00:00<?, ?it/s]"
      ]
     },
     "metadata": {},
     "output_type": "display_data"
    },
    {
     "name": "stdout",
     "output_type": "stream",
     "text": [
      "-0.39989325031923677 calculated\n"
     ]
    },
    {
     "data": {
      "application/vnd.jupyter.widget-view+json": {
       "model_id": "1256a710aa0147a39dbb29da0903adee",
       "version_major": 2,
       "version_minor": 0
      },
      "text/plain": [
       "Number of neighbors: 150:   0%|          | 0/3 [00:00<?, ?it/s]"
      ]
     },
     "metadata": {},
     "output_type": "display_data"
    },
    {
     "name": "stdout",
     "output_type": "stream",
     "text": [
      "-0.35714144068207447 calculated\n"
     ]
    }
   ],
   "source": [
    "# Load datasets\n",
    "X_train_fMNIST_shoes,y_train_fMNIST_shoes, X_test_fMNIST_shoes, y_test_fMNIST_shoes = DatasetFactory.load_fMNIST((5,7), device=device)\n",
    "\n",
    "# Train models\n",
    "models = []\n",
    "for k in tqdm(range(num_iteration)):\n",
    "    model = DNN(input_dimension=28*28, hidden_units=25, depth=7, vision_model=True).to(device)\n",
    "    train_model(\n",
    "        threshold_accuracy=99,\n",
    "        model=model,\n",
    "        X_train=X_train_fMNIST_shoes,\n",
    "        y_train=y_train_fMNIST_shoes,\n",
    "        X_test=X_test_fMNIST_shoes,\n",
    "        y_test=y_test_fMNIST_shoes\n",
    "    )\n",
    "    models.append(model)\n",
    "\n",
    "# Calculate local Ricci evolution coefficients for each neighborhood size \n",
    "avg_ricci_coefs_across_k = []\n",
    "for k in num_neighbors:\n",
    "    local_ricci_coefs_mean = []\n",
    "    for i in tqdm(range(num_iteration), desc=f\"Number of neighbors: {k}\"):\n",
    "        local_ricci = Ricci_Coefficients(\n",
    "            models[i], X_test_fMNIST_shoes, k\n",
    "        ).local_ricci_coefficient(curv='Ollivier-Ricci')\n",
    "        local_ricci_coefs_mean.append(np.nanmean(local_ricci))\n",
    "    avg_ricci_coefs_across_k.append(np.mean(local_ricci_coefs_mean))\n",
    "    print(np.mean(local_ricci_coefs_mean))"
   ]
  },
  {
   "cell_type": "markdown",
   "id": "8652d40e",
   "metadata": {},
   "source": [
    "## 6.2 Fashion-MNIST Apperal"
   ]
  },
  {
   "cell_type": "code",
   "execution_count": null,
   "id": "8c4220b7",
   "metadata": {},
   "outputs": [
    {
     "data": {
      "application/vnd.jupyter.widget-view+json": {
       "model_id": "8068a4b28eef410e9e0d1dbf6471a874",
       "version_major": 2,
       "version_minor": 0
      },
      "text/plain": [
       "  0%|          | 0/3 [00:00<?, ?it/s]"
      ]
     },
     "metadata": {},
     "output_type": "display_data"
    },
    {
     "data": {
      "application/vnd.jupyter.widget-view+json": {
       "model_id": "eda09d23b6574c9c9bfa081fcadea906",
       "version_major": 2,
       "version_minor": 0
      },
      "text/plain": [
       "Number of neighbors: 20:   0%|          | 0/3 [00:00<?, ?it/s]"
      ]
     },
     "metadata": {},
     "output_type": "display_data"
    },
    {
     "name": "stdout",
     "output_type": "stream",
     "text": [
      "-0.25765121013784317 calculated\n"
     ]
    },
    {
     "data": {
      "application/vnd.jupyter.widget-view+json": {
       "model_id": "96a052b9abac4b0ab6a188eead660194",
       "version_major": 2,
       "version_minor": 0
      },
      "text/plain": [
       "Number of neighbors: 50:   0%|          | 0/3 [00:00<?, ?it/s]"
      ]
     },
     "metadata": {},
     "output_type": "display_data"
    },
    {
     "name": "stdout",
     "output_type": "stream",
     "text": [
      "-0.26820467353376257 calculated\n"
     ]
    },
    {
     "data": {
      "application/vnd.jupyter.widget-view+json": {
       "model_id": "e340c48fa06947659084bc9c7b90d6fd",
       "version_major": 2,
       "version_minor": 0
      },
      "text/plain": [
       "Number of neighbors: 70:   0%|          | 0/3 [00:00<?, ?it/s]"
      ]
     },
     "metadata": {},
     "output_type": "display_data"
    },
    {
     "name": "stdout",
     "output_type": "stream",
     "text": [
      "-0.28588636821279484 calculated\n"
     ]
    },
    {
     "data": {
      "application/vnd.jupyter.widget-view+json": {
       "model_id": "19f01b23a6174a00aafbf959658414a5",
       "version_major": 2,
       "version_minor": 0
      },
      "text/plain": [
       "Number of neighbors: 100:   0%|          | 0/3 [00:00<?, ?it/s]"
      ]
     },
     "metadata": {},
     "output_type": "display_data"
    },
    {
     "name": "stdout",
     "output_type": "stream",
     "text": [
      "-0.28630382771092347 calculated\n"
     ]
    },
    {
     "data": {
      "application/vnd.jupyter.widget-view+json": {
       "model_id": "0be19dabe41342f087eec25f1b8c3343",
       "version_major": 2,
       "version_minor": 0
      },
      "text/plain": [
       "Number of neighbors: 150:   0%|          | 0/3 [00:00<?, ?it/s]"
      ]
     },
     "metadata": {},
     "output_type": "display_data"
    },
    {
     "name": "stdout",
     "output_type": "stream",
     "text": [
      "-0.30078665175100767 calculated\n"
     ]
    }
   ],
   "source": [
    "# Load datasets\n",
    "X_train_fMNIST_apperal,y_train_fMNIST_apperal, X_test_fMNIST_apperal, y_test_fMNIST_apperal = DatasetFactory.load_fMNIST(classes=(3,6), device=device)\n",
    "\n",
    "# Train models\n",
    "models = []\n",
    "for k in tqdm(range(num_iteration)):\n",
    "    model = DNN(input_dimension=28*28, hidden_units=25, depth=7, vision_model=True).to(device)\n",
    "    train_model(\n",
    "        threshold_accuracy=99,\n",
    "        model=model,\n",
    "        X_train=X_train_fMNIST_apperal,\n",
    "        y_train=y_train_fMNIST_apperal,\n",
    "        X_test=X_test_fMNIST_apperal,\n",
    "        y_test=y_test_fMNIST_apperal\n",
    "    )\n",
    "    models.append(model)\n",
    "\n",
    "# Calculate local Ricci evolution coefficients for each neighborhood size \n",
    "avg_ricci_coefs_across_k = []\n",
    "for k in num_neighbors:\n",
    "    local_ricci_coefs_mean = []\n",
    "    for i in tqdm(range(num_iteration), desc=f\"Number of neighbors: {k}\"):\n",
    "        local_ricci = Ricci_Coefficients(\n",
    "            models[i], X_test_fMNIST_apperal, k\n",
    "        ).local_ricci_coefficient(curv='Ollivier-Ricci')\n",
    "        local_ricci_coefs_mean.append(np.nanmean(local_ricci))\n",
    "    avg_ricci_coefs_across_k.append(np.mean(local_ricci_coefs_mean))\n",
    "    print(np.mean(local_ricci_coefs_mean))"
   ]
  },
  {
   "cell_type": "markdown",
   "id": "d26061b6",
   "metadata": {},
   "source": [
    "# 7. CIFAR Dataset"
   ]
  },
  {
   "cell_type": "code",
   "execution_count": null,
   "id": "0d4ecdf9",
   "metadata": {},
   "outputs": [
    {
     "data": {
      "application/vnd.jupyter.widget-view+json": {
       "model_id": "1f55a71b11074e7ca8400f305229ae4f",
       "version_major": 2,
       "version_minor": 0
      },
      "text/plain": [
       "  0%|          | 0/3 [00:00<?, ?it/s]"
      ]
     },
     "metadata": {},
     "output_type": "display_data"
    },
    {
     "data": {
      "application/vnd.jupyter.widget-view+json": {
       "model_id": "c64d2df3b52049e2b4931df1caa09f65",
       "version_major": 2,
       "version_minor": 0
      },
      "text/plain": [
       "Number of neighbors: 20:   0%|          | 0/3 [00:00<?, ?it/s]"
      ]
     },
     "metadata": {},
     "output_type": "display_data"
    },
    {
     "name": "stdout",
     "output_type": "stream",
     "text": [
      "-0.49870973064634966 calculated\n"
     ]
    },
    {
     "data": {
      "application/vnd.jupyter.widget-view+json": {
       "model_id": "abf88b85a3414b58bf6c5b59db267912",
       "version_major": 2,
       "version_minor": 0
      },
      "text/plain": [
       "Number of neighbors: 50:   0%|          | 0/3 [00:00<?, ?it/s]"
      ]
     },
     "metadata": {},
     "output_type": "display_data"
    },
    {
     "name": "stdout",
     "output_type": "stream",
     "text": [
      "-0.60982810543149567 calculated\n"
     ]
    },
    {
     "data": {
      "application/vnd.jupyter.widget-view+json": {
       "model_id": "d938af414d014e678632c2ef4003ac0d",
       "version_major": 2,
       "version_minor": 0
      },
      "text/plain": [
       "Number of neighbors: 70:   0%|          | 0/3 [00:00<?, ?it/s]"
      ]
     },
     "metadata": {},
     "output_type": "display_data"
    },
    {
     "name": "stdout",
     "output_type": "stream",
     "text": [
      "-0.62932041459918317 calculated\n"
     ]
    },
    {
     "data": {
      "application/vnd.jupyter.widget-view+json": {
       "model_id": "9810be4f3ea744eaa9bb8929067bcb2a",
       "version_major": 2,
       "version_minor": 0
      },
      "text/plain": [
       "Number of neighbors: 100:   0%|          | 0/3 [00:00<?, ?it/s]"
      ]
     },
     "metadata": {},
     "output_type": "display_data"
    },
    {
     "name": "stdout",
     "output_type": "stream",
     "text": [
      "-0.63139947087585097 calculated\n"
     ]
    },
    {
     "data": {
      "application/vnd.jupyter.widget-view+json": {
       "model_id": "0c3076b3f52e4ee0bba7e1a3e508e798",
       "version_major": 2,
       "version_minor": 0
      },
      "text/plain": [
       "Number of neighbors: 150:   0%|          | 0/3 [00:00<?, ?it/s]"
      ]
     },
     "metadata": {},
     "output_type": "display_data"
    },
    {
     "name": "stdout",
     "output_type": "stream",
     "text": [
      "-0.58390607706866257 calculated\n"
     ]
    }
   ],
   "source": [
    "# Load datasets\n",
    "X_train_CIFAR, y_train_CIFAR, X_test_CIFAR, y_test_CIFAR = DatasetFactory.load_CIFAR(classes=(0,1), device=device)\n",
    "\n",
    "# Train models\n",
    "models = []\n",
    "for k in tqdm(range(num_iteration)):\n",
    "    model = DNN(input_dimension=32*32*3, hidden_units=25, depth=7, vision_model=True).to(device=device)\n",
    "    train_model(\n",
    "        threshold_accuracy=99,\n",
    "        model=model,\n",
    "        X_train=X_train_CIFAR,\n",
    "        y_train=y_train_CIFAR,\n",
    "        X_test=X_test_CIFAR,\n",
    "        y_test=y_test_CIFAR\n",
    "    )\n",
    "    models.append(model)\n",
    "\n",
    "# Calculate local Ricci evolution coefficients for each neighborhood size \n",
    "avg_ricci_coefs_across_k = []\n",
    "for k in num_neighbors:\n",
    "    local_ricci_coefs_mean = []\n",
    "    for i in tqdm(range(num_iteration), desc=f\"Number of neighbors: {k}\"):\n",
    "        local_ricci = Ricci_Coefficients(\n",
    "            models[i], X_test_CIFAR, k\n",
    "        ).local_ricci_coefficient(curv='Ollivier-Ricci')\n",
    "        local_ricci_coefs_mean.append(np.nanmean(local_ricci))\n",
    "    avg_ricci_coefs_across_k.append(np.mean(local_ricci_coefs_mean))\n",
    "    print(np.mean(local_ricci_coefs_mean))"
   ]
  }
 ],
 "metadata": {
  "kernelspec": {
   "display_name": ".venv",
   "language": "python",
   "name": "python3"
  },
  "language_info": {
   "codemirror_mode": {
    "name": "ipython",
    "version": 3
   },
   "file_extension": ".py",
   "mimetype": "text/x-python",
   "name": "python",
   "nbconvert_exporter": "python",
   "pygments_lexer": "ipython3",
   "version": "3.11.0"
  }
 },
 "nbformat": 4,
 "nbformat_minor": 5
}
