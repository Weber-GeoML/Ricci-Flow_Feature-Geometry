{
 "cells": [
  {
   "cell_type": "markdown",
   "id": "b763270d",
   "metadata": {},
   "source": [
    "# Untrained Neural Networks\n",
    "\n",
    "In this notebook, we calculate both global and local Ricci coefficients for untrained neural networks across various datasets. We begin by importing the necessary libraries."
   ]
  },
  {
   "cell_type": "code",
   "execution_count": 4,
   "id": "7a9684b9",
   "metadata": {},
   "outputs": [],
   "source": [
    "import numpy as np\n",
    "import sys\n",
    "import os\n",
    "\n",
    "sys.path.append(os.path.abspath('..'))\n",
    "from ricci_coefficients import Ricci_Coefficients\n",
    "from neural_networks import DNN\n",
    "from datasets import DatasetFactory\n",
    "import matplotlib.pyplot as plt\n",
    "\n",
    "num_iterations = 10    # Number of networks we average our results over"
   ]
  },
  {
   "cell_type": "markdown",
   "id": "ede265aa",
   "metadata": {},
   "source": [
    "# 1. Syn-I Dataset"
   ]
  },
  {
   "cell_type": "code",
   "execution_count": 5,
   "id": "e4e7b4d3",
   "metadata": {},
   "outputs": [
    {
     "name": "stdout",
     "output_type": "stream",
     "text": [
      "Computation failed at iteration 0: Constructed k-Nearest-Neighbour Graph is not connected. Retrying...\n",
      "Computation failed at iteration 7: Constructed k-Nearest-Neighbour Graph is not connected. Retrying...\n",
      "Iteration 9\r"
     ]
    }
   ],
   "source": [
    "global_ricci_coefficients = np.empty(num_iterations)\n",
    "local_ricci_coefficients_mean = np.empty(num_iterations)\n",
    "i = 0\n",
    "\n",
    "while i < num_iterations:\n",
    "    print(f\"Iteration {i}\", end=\"\\r\")\n",
    "    try:    \n",
    "        # Generate samples\n",
    "        X, y = DatasetFactory.make_circles()\n",
    "\n",
    "        # Initialize model\n",
    "        model = DNN(depth=10)\n",
    "\n",
    "        # Calculate global Ricci coefficients\n",
    "        ricci_coefs = Ricci_Coefficients(NN=model, X=X, k=50)\n",
    "        global_ricci_coefficients[i] = ricci_coefs.global_ricci_coefficient()\n",
    "\n",
    "        # Calculate local Ricci evolution coefficients\n",
    "        lrc = ricci_coefs.local_ricci_coefficient(curv='Ollivier-Ricci')\n",
    "        local_ricci_coefficients_mean[i] = np.nanmean(lrc)\n",
    "\n",
    "        i += 1  # increment only if successful\n",
    "    except ValueError as e:\n",
    "        print(f\"Computation failed at iteration {i}: {e} Retrying...\")\n",
    "        # no increment, loop will retry"
   ]
  },
  {
   "cell_type": "code",
   "execution_count": 6,
   "id": "e781b87a",
   "metadata": {},
   "outputs": [
    {
     "name": "stdout",
     "output_type": "stream",
     "text": [
      "Number with negative coefficient:8 | Mean: -0.35774719189112475 | Standard deviation: 0.27814937702428927 | Minimum: -0.7429780151102865\n",
      "Number with negative coefficient:6 | Mean: -0.04739796994826618 | Standard deviation: 0.11176441611857672 | Minimum: -0.2658414067195166\n"
     ]
    }
   ],
   "source": [
    "# Results global Ricci coefficients\n",
    "print(f\"Number with negative coefficient:{(global_ricci_coefficients < 0).sum()} | Mean: {global_ricci_coefficients.mean()} | Standard deviation: {global_ricci_coefficients.std()} | Minimum: {global_ricci_coefficients.min()}\")\n",
    "# Results local Ricci evolution coefficients\n",
    "print(f\"Number with negative coefficient:{(local_ricci_coefficients_mean < 0).sum()} | Mean: {local_ricci_coefficients_mean.mean()} | Standard deviation: {local_ricci_coefficients_mean.std()} | Minimum: {local_ricci_coefficients_mean.min()}\")"
   ]
  },
  {
   "cell_type": "markdown",
   "id": "de6508c6",
   "metadata": {},
   "source": [
    "# 2. Syn-II Dataset"
   ]
  },
  {
   "cell_type": "code",
   "execution_count": 7,
   "id": "a53afbe3",
   "metadata": {},
   "outputs": [
    {
     "name": "stdout",
     "output_type": "stream",
     "text": [
      "Computation failed at iteration 2: Constructed k-Nearest-Neighbour Graph is not connected. Retrying...\n",
      "Iteration 9\r"
     ]
    }
   ],
   "source": [
    "global_ricci_coefficients = np.empty(num_iterations)\n",
    "local_ricci_coefficients_mean = np.empty(num_iterations)\n",
    "i = 0\n",
    "\n",
    "while i < num_iterations:\n",
    "    print(f\"Iteration {i}\", end=\"\\r\")\n",
    "    try:\n",
    "        # Generate samples\n",
    "        X, y = DatasetFactory.make_4circles()\n",
    "\n",
    "        # Initialize network\n",
    "        model = DNN(depth=10)\n",
    "\n",
    "        # Calculate global Ricci coefficients\n",
    "        ricci_coefs = Ricci_Coefficients(NN=model, X=X, k=50)\n",
    "        global_ricci_coefficients[i] = ricci_coefs.global_ricci_coefficient()\n",
    "\n",
    "        # Calculate local Ricci evolution coefficients\n",
    "        lrc = ricci_coefs.local_ricci_coefficient(curv='Ollivier-Ricci')\n",
    "        local_ricci_coefficients_mean [i] = np.nanmean(lrc)\n",
    "    \n",
    "        i += 1  # increment only if successful\n",
    "    except ValueError as e:\n",
    "        print(f\"Computation failed at iteration {i}: {e} Retrying...\")\n",
    "        # no increment, loop will retry"
   ]
  },
  {
   "cell_type": "code",
   "execution_count": 8,
   "id": "c1487c27",
   "metadata": {},
   "outputs": [
    {
     "name": "stdout",
     "output_type": "stream",
     "text": [
      "Number with negative coefficient:10 | Mean: -0.3304364497119036 | Standard deviation: 0.12285220600254387 | Minimum: -0.4882577488724521\n",
      "Number with negative coefficient:5 | Mean: -0.008277804373767895 | Standard deviation: 0.06692411354935901 | Minimum: -0.13123072386602253\n"
     ]
    }
   ],
   "source": [
    "# Results global Ricci coefficients\n",
    "print(f\"Number with negative coefficient:{(global_ricci_coefficients < 0).sum()} | Mean: {global_ricci_coefficients.mean()} | Standard deviation: {global_ricci_coefficients.std()} | Minimum: {global_ricci_coefficients.min()}\")\n",
    "# Results local Ricci evolution coefficients\n",
    "print(f\"Number with negative coefficient:{(local_ricci_coefficients_mean < 0).sum()} | Mean: {local_ricci_coefficients_mean.mean()} | Standard deviation: {local_ricci_coefficients_mean.std()} | Minimum: {local_ricci_coefficients_mean.min()}\")"
   ]
  },
  {
   "cell_type": "markdown",
   "id": "81e13aa1",
   "metadata": {},
   "source": [
    "# 3. Syn-III Dataset"
   ]
  },
  {
   "cell_type": "code",
   "execution_count": 9,
   "id": "216262a0",
   "metadata": {},
   "outputs": [
    {
     "name": "stdout",
     "output_type": "stream",
     "text": [
      "Iteration 9\r"
     ]
    }
   ],
   "source": [
    "global_ricci_coefficients = np.empty(num_iterations)\n",
    "local_ricci_coefficients_mean = np.empty(num_iterations)\n",
    "i = 0\n",
    "\n",
    "while i < num_iterations:\n",
    "    print(f\"Iteration {i}\", end=\"\\r\")\n",
    "    try:\n",
    "        # Generate samples\n",
    "        X, y = DatasetFactory.make_cylinders()\n",
    "\n",
    "        # Initialize model\n",
    "        model = DNN(input_dimension=3, depth=10)\n",
    "\n",
    "        # Calculate global Ricci coefficients\n",
    "        ricci_coefs = Ricci_Coefficients(NN=model, X=X, k=50)\n",
    "        global_ricci_coefficients[i] = ricci_coefs.global_ricci_coefficient()\n",
    "\n",
    "        # Calculate local Ricci evolution coefficients\n",
    "        lrc = ricci_coefs.local_ricci_coefficient(curv='Ollivier-Ricci')\n",
    "        local_ricci_coefficients_mean [i] = np.nanmean(lrc)\n",
    "\n",
    "        i += 1  # increment only if successful\n",
    "    except ValueError as e:\n",
    "        print(f\"Computation failed at iteration {i}: {e} Retrying...\")\n",
    "        # no increment, loop will retry"
   ]
  },
  {
   "cell_type": "code",
   "execution_count": 10,
   "id": "fbc55e44",
   "metadata": {},
   "outputs": [
    {
     "name": "stdout",
     "output_type": "stream",
     "text": [
      "Number with negative coefficient:10 | Mean: -0.2552701205601976 | Standard deviation: 0.13146407274103641 | Minimum: -0.49327977178302285\n",
      "Number with negative coefficient:4 | Mean: -0.003643190958795063 | Standard deviation: 0.05676419113913377 | Minimum: -0.11178811996007872\n"
     ]
    }
   ],
   "source": [
    "# Results global Ricci coefficients\n",
    "print(f\"Number with negative coefficient:{(global_ricci_coefficients < 0).sum()} | Mean: {global_ricci_coefficients.mean()} | Standard deviation: {global_ricci_coefficients.std()} | Minimum: {global_ricci_coefficients.min()}\")\n",
    "# Results local Ricci evolution coefficients\n",
    "print(f\"Number with negative coefficient:{(local_ricci_coefficients_mean < 0).sum()} | Mean: {local_ricci_coefficients_mean.mean()} | Standard deviation: {local_ricci_coefficients_mean.std()} | Minimum: {local_ricci_coefficients_mean.min()}\")"
   ]
  },
  {
   "cell_type": "markdown",
   "id": "8c8ed3be",
   "metadata": {},
   "source": [
    "# 4. Syn-IV Dataset"
   ]
  },
  {
   "cell_type": "code",
   "execution_count": 11,
   "id": "662fb4a2",
   "metadata": {},
   "outputs": [
    {
     "name": "stdout",
     "output_type": "stream",
     "text": [
      "Iteration 9\r"
     ]
    }
   ],
   "source": [
    "global_ricci_coefficients = np.empty(num_iterations)\n",
    "local_ricci_coefficients_mean = np.empty(num_iterations)\n",
    "i = 0\n",
    "\n",
    "while i < num_iterations:\n",
    "    print(f\"Iteration {i}\", end=\"\\r\")\n",
    "    try:\n",
    "        # Generate samples\n",
    "        X, y = DatasetFactory.make_tori()\n",
    "\n",
    "        # Initialize network\n",
    "        model = DNN(input_dimension=3, depth=10)\n",
    "\n",
    "        # Calculate global Ricci coefficient\n",
    "        ricci_coefs = Ricci_Coefficients(NN=model, X=X, k=50)\n",
    "        global_ricci_coefficients[i] = ricci_coefs.global_ricci_coefficient()\n",
    "\n",
    "        # Calculate local Ricci evolution coefficients\n",
    "        lrc = ricci_coefs.local_ricci_coefficient(curv='Ollivier-Ricci')\n",
    "        local_ricci_coefficients_mean [i] = np.nanmean(lrc)\n",
    "    \n",
    "        i += 1  # increment only if successful\n",
    "    except ValueError as e:\n",
    "        print(f\"Computation failed at iteration {i}: {e} Retrying...\")\n",
    "        # no increment, loop will retry"
   ]
  },
  {
   "cell_type": "code",
   "execution_count": 12,
   "id": "cb567ec6",
   "metadata": {},
   "outputs": [
    {
     "name": "stdout",
     "output_type": "stream",
     "text": [
      "Number with negative coefficient: 9 | Mean: -0.2945825070621094 | Standard deviation: 0.14535426280959082 | Minimum: -0.4968407690482719\n",
      "Number with negative coefficient: 8 | Mean: -0.05638381811716773 | Standard deviation: 0.06660443450678084 | Minimum: -0.14335104494990555\n"
     ]
    }
   ],
   "source": [
    "# Results global Ricci coefficients\n",
    "print(f\"Number with negative coefficient: {(global_ricci_coefficients < 0).sum()} | Mean: {global_ricci_coefficients.mean()} | Standard deviation: {global_ricci_coefficients.std()} | Minimum: {global_ricci_coefficients.min()}\")\n",
    "# Results local Ricci evolution coefficients\n",
    "print(f\"Number with negative coefficient: {(local_ricci_coefficients_mean < 0).sum()} | Mean: {local_ricci_coefficients_mean.mean()} | Standard deviation: {local_ricci_coefficients_mean.std()} | Minimum: {local_ricci_coefficients_mean.min()}\")"
   ]
  }
 ],
 "metadata": {
  "kernelspec": {
   "display_name": ".venv",
   "language": "python",
   "name": "python3"
  },
  "language_info": {
   "codemirror_mode": {
    "name": "ipython",
    "version": 3
   },
   "file_extension": ".py",
   "mimetype": "text/x-python",
   "name": "python",
   "nbconvert_exporter": "python",
   "pygments_lexer": "ipython3",
   "version": "3.11.0"
  }
 },
 "nbformat": 4,
 "nbformat_minor": 5
}
