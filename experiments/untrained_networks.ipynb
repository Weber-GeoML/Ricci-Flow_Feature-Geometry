{
 "cells": [
  {
   "cell_type": "markdown",
   "id": "b763270d",
   "metadata": {},
   "source": [
    "# Untrained Neural Networks\n",
    "\n",
    "In this notebook, we calculate both global and local Ricci coefficients for untrained neural networks across various datasets. We begin by importing the necessary libraries."
   ]
  },
  {
   "cell_type": "code",
   "execution_count": 1,
   "id": "7a9684b9",
   "metadata": {},
   "outputs": [],
   "source": [
    "import numpy as np\n",
    "import sys\n",
    "import os\n",
    "\n",
    "sys.path.append(os.path.abspath('..'))\n",
    "from ricci_coefficients import Ricci_Coefficients\n",
    "from neural_networks import DNN\n",
    "from datasets import DatasetFactory\n",
    "import matplotlib.pyplot as plt"
   ]
  },
  {
   "cell_type": "markdown",
   "id": "ede265aa",
   "metadata": {},
   "source": [
    "# 1. Syn-I Dataset"
   ]
  },
  {
   "cell_type": "code",
   "execution_count": null,
   "id": "e4e7b4d3",
   "metadata": {},
   "outputs": [
    {
     "name": "stdout",
     "output_type": "stream",
     "text": [
      "Computation failed at iteration 19: Constructed k-Nearest-Neighbour Graph is not connected. Retrying...\n",
      "Computation failed at iteration 24: Constructed k-Nearest-Neighbour Graph is not connected. Retrying...\n",
      "Computation failed at iteration 31: Constructed k-Nearest-Neighbour Graph is not connected. Retrying...\n",
      "Computation failed at iteration 32: Constructed k-Nearest-Neighbour Graph is not connected. Retrying...\n",
      "Computation failed at iteration 72: Constructed k-Nearest-Neighbour Graph is not connected. Retrying...\n",
      "Computation failed at iteration 76: Constructed k-Nearest-Neighbour Graph is not connected. Retrying...\n",
      "Computation failed at iteration 93: Constructed k-Nearest-Neighbour Graph is not connected. Retrying...\n",
      "Curvature of layer 10 calculated\r"
     ]
    }
   ],
   "source": [
    "n=100    # Number of networks we average our results over\n",
    "global_ricci_coefficients = np.empty(n)\n",
    "local_ricci_coefficients_mean = np.empty(n)\n",
    "i = 0\n",
    "\n",
    "while i < n:\n",
    "    print(f\"Iteration {i}\", end=\"\\r\")\n",
    "    try:    \n",
    "        # Generate samples\n",
    "        X, y = DatasetFactory.make_circles()\n",
    "\n",
    "        # Initialize model\n",
    "        model = DNN(depth=10)\n",
    "\n",
    "        # Calculate global Ricci coefficients\n",
    "        ricci_coefs = Ricci_Coefficients(NN=model, X=X, k=50)\n",
    "        global_ricci_coefficients[i] = ricci_coefs.global_ricci_coefficient()\n",
    "\n",
    "        # Calculate local Ricci evolution coefficients\n",
    "        lrc = ricci_coefs.local_ricci_coefficient(curv='Ollivier-Ricci')\n",
    "        local_ricci_coefficients_mean[i] = lrc.mean()\n",
    "\n",
    "        i += 1  # increment only if successful\n",
    "    except ValueError as e:\n",
    "        print(f\"Computation failed at iteration {i}: {e} Retrying...\")\n",
    "        # no increment, loop will retry"
   ]
  },
  {
   "cell_type": "code",
   "execution_count": null,
   "id": "dbe1e264",
   "metadata": {},
   "outputs": [
    {
     "data": {
      "text/plain": [
       "(np.int64(91),\n",
       " np.float64(-0.3896679031781274),\n",
       " np.int64(66),\n",
       " np.float64(-0.0372630556789387))"
      ]
     },
     "execution_count": 7,
     "metadata": {},
     "output_type": "execute_result"
    }
   ],
   "source": [
    "# Results \n",
    "(global_ricci_coefficients < 0).sum(), global_ricci_coefficients.mean(),(local_ricci_coefficients_mean < 0).sum() , local_ricci_coefficients_mean.mean()"
   ]
  },
  {
   "cell_type": "code",
   "execution_count": null,
   "id": "eeb19791",
   "metadata": {},
   "outputs": [
    {
     "data": {
      "text/plain": [
       "(np.float64(0.2581138781638567), np.float64(0.07741554990585098))"
      ]
     },
     "execution_count": 9,
     "metadata": {},
     "output_type": "execute_result"
    }
   ],
   "source": [
    "# Standard deviation of results\n",
    "global_ricci_coefficients.std(), local_ricci_coefficients_mean.std()"
   ]
  },
  {
   "cell_type": "code",
   "execution_count": null,
   "id": "a787cee5",
   "metadata": {},
   "outputs": [
    {
     "data": {
      "text/plain": [
       "(np.float64(-0.77267343), np.float64(-0.234979925))"
      ]
     },
     "execution_count": 9,
     "metadata": {},
     "output_type": "execute_result"
    }
   ],
   "source": [
    "# Minimum observed\n",
    "global_ricci_coefficients.min(), local_ricci_coefficients_mean.min()"
   ]
  },
  {
   "cell_type": "markdown",
   "id": "de6508c6",
   "metadata": {},
   "source": [
    "# 2. Syn-II Dataset"
   ]
  },
  {
   "cell_type": "code",
   "execution_count": null,
   "id": "a53afbe3",
   "metadata": {},
   "outputs": [
    {
     "name": "stdout",
     "output_type": "stream",
     "text": [
      "Computation failed at iteration 74: Constructed k-Nearest-Neighbour Graph is not connected. Retrying...\n",
      "Computation failed at iteration 76: Constructed k-Nearest-Neighbour Graph is not connected. Retrying...\n",
      "Computation failed at iteration 99: Constructed k-Nearest-Neighbour Graph is not connected. Retrying...\n",
      "Curvature of layer 10 calculated\r"
     ]
    }
   ],
   "source": [
    "n=100   # Number of networks we average our results over\n",
    "global_ricci_coefficients = np.empty(n)\n",
    "local_ricci_coefficients_mean = np.empty(n)\n",
    "i = 0\n",
    "\n",
    "while i < n:\n",
    "    print(f\"Iteration {i}\", end=\"\\r\")\n",
    "    try:\n",
    "        # Generate samples\n",
    "        X, y = DatasetFactory.make_4circles()\n",
    "\n",
    "        # Initialize network\n",
    "        model = DNN(depth=10)\n",
    "\n",
    "        # Calculate global Ricci coefficients\n",
    "        ricci_coefs = Ricci_Coefficients(NN=model, X=X, k=50)\n",
    "        global_ricci_coefficients[i] = ricci_coefs.global_ricci_coefficient()\n",
    "\n",
    "        # Calculate local Ricci evolution coefficients\n",
    "        lrc = ricci_coefs.local_ricci_coefficient(curv='Ollivier-Ricci')\n",
    "        local_ricci_coefficients_mean [i] = lrc.mean()\n",
    "    \n",
    "        i += 1  # increment only if successful\n",
    "    except ValueError as e:\n",
    "        print(f\"Computation failed at iteration {i}: {e} Retrying...\")\n",
    "        # no increment, loop will retry"
   ]
  },
  {
   "cell_type": "code",
   "execution_count": null,
   "id": "1db23b88",
   "metadata": {},
   "outputs": [
    {
     "data": {
      "text/plain": [
       "(np.int64(99),\n",
       " np.float64(-0.3496913505944271),\n",
       " np.int64(21),\n",
       " np.float64(0.0399165704722585))"
      ]
     },
     "execution_count": 32,
     "metadata": {},
     "output_type": "execute_result"
    }
   ],
   "source": [
    "# Results\n",
    "(global_ricci_coefficients < 0).sum(), global_ricci_coefficients.mean(),(local_ricci_coefficients_mean < 0).sum() , local_ricci_coefficients_mean.mean()"
   ]
  },
  {
   "cell_type": "code",
   "execution_count": null,
   "id": "3b5717a0",
   "metadata": {},
   "outputs": [
    {
     "data": {
      "text/plain": [
       "(np.float64(0.15137182930782994), np.float64(0.05270835819048334))"
      ]
     },
     "execution_count": 33,
     "metadata": {},
     "output_type": "execute_result"
    }
   ],
   "source": [
    "# Standard deviation of results\n",
    "global_ricci_coefficients.std(), local_ricci_coefficients_mean.std()"
   ]
  },
  {
   "cell_type": "code",
   "execution_count": null,
   "id": "bb0195b6",
   "metadata": {},
   "outputs": [
    {
     "data": {
      "text/plain": [
       "np.float64(-0.6440195094730902)"
      ]
     },
     "execution_count": 34,
     "metadata": {},
     "output_type": "execute_result"
    }
   ],
   "source": [
    "# Minimum global Ricci coefficients\n",
    "global_ricci_coefficients.min()"
   ]
  },
  {
   "cell_type": "code",
   "execution_count": null,
   "id": "972f788c",
   "metadata": {},
   "outputs": [
    {
     "data": {
      "text/plain": [
       "np.float64(-0.11792215)"
      ]
     },
     "execution_count": 14,
     "metadata": {},
     "output_type": "execute_result"
    }
   ],
   "source": [
    "# Minimum local Ricci evolution coefficients\n",
    "local_ricci_coefficients_mean.min()"
   ]
  },
  {
   "cell_type": "markdown",
   "id": "81e13aa1",
   "metadata": {},
   "source": [
    "# 3. Syn-III Dataset"
   ]
  },
  {
   "cell_type": "code",
   "execution_count": null,
   "id": "216262a0",
   "metadata": {},
   "outputs": [
    {
     "name": "stdout",
     "output_type": "stream",
     "text": [
      "Computation failed at iteration 8: Constructed k-Nearest-Neighbour Graph is not connected. Retrying...\n",
      "Computation failed at iteration 8: Constructed k-Nearest-Neighbour Graph is not connected. Retrying...\n",
      "Curvature of layer 10 calculated\r"
     ]
    }
   ],
   "source": [
    "n=100    # Number of networks we average our results over\n",
    "global_ricci_coefficients = np.empty(n)\n",
    "local_ricci_coefficients_mean = np.empty(n)\n",
    "i = 0\n",
    "\n",
    "while i < n:\n",
    "    print(f\"Iteration {i}\", end=\"\\r\")\n",
    "    try:\n",
    "        # Generate samples\n",
    "        X, y = DatasetFactory.make_cylinders()\n",
    "\n",
    "        # Initialize model\n",
    "        model = DNN(input_dimension=3, depth=10)\n",
    "\n",
    "        # Calculate global Ricci coefficients\n",
    "        ricci_coefs = Ricci_Coefficients(NN=model, X=X, k=50)\n",
    "        global_ricci_coefficients[i] = ricci_coefs.global_ricci_coefficient()\n",
    "\n",
    "        # Calculate local Ricci evolution coefficients\n",
    "        lrc = ricci_coefs.local_ricci_coefficient(curv='Ollivier-Ricci')\n",
    "        local_ricci_coefficients_mean [i] = lrc.mean()\n",
    "\n",
    "        i += 1  # increment only if successful\n",
    "    except ValueError as e:\n",
    "        print(f\"Computation failed at iteration {i}: {e} Retrying...\")\n",
    "        # no increment, loop will retry"
   ]
  },
  {
   "cell_type": "code",
   "execution_count": null,
   "id": "bcd1b9b5",
   "metadata": {},
   "outputs": [
    {
     "data": {
      "text/plain": [
       "(np.int64(89),\n",
       " np.float64(-0.2319362892826937),\n",
       " np.int64(63),\n",
       " np.float64(-0.01999100693276527))"
      ]
     },
     "execution_count": 17,
     "metadata": {},
     "output_type": "execute_result"
    }
   ],
   "source": [
    "# Results\n",
    "(global_ricci_coefficients < 0).sum(), global_ricci_coefficients.mean(),(local_ricci_coefficients_mean < 0).sum() , local_ricci_coefficients_mean.mean()"
   ]
  },
  {
   "cell_type": "code",
   "execution_count": null,
   "id": "d541c83b",
   "metadata": {},
   "outputs": [
    {
     "data": {
      "text/plain": [
       "(np.float64(0.1930704430001897), np.float64(0.06143265299451913))"
      ]
     },
     "execution_count": 18,
     "metadata": {},
     "output_type": "execute_result"
    }
   ],
   "source": [
    "# Standard deviation of results\n",
    "global_ricci_coefficients.std(), local_ricci_coefficients_mean.std()"
   ]
  },
  {
   "cell_type": "code",
   "execution_count": null,
   "id": "7dc22873",
   "metadata": {},
   "outputs": [
    {
     "data": {
      "text/plain": [
       "np.float64(-0.7446278453438422)"
      ]
     },
     "execution_count": 19,
     "metadata": {},
     "output_type": "execute_result"
    }
   ],
   "source": [
    "# Minimum global Ricci coefficients\n",
    "global_ricci_coefficients.min()"
   ]
  },
  {
   "cell_type": "code",
   "execution_count": null,
   "id": "507f58cb",
   "metadata": {},
   "outputs": [
    {
     "data": {
      "text/plain": [
       "np.float64(-0.17371177)"
      ]
     },
     "execution_count": 16,
     "metadata": {},
     "output_type": "execute_result"
    }
   ],
   "source": [
    "# Minimum local Ricci evolution coefficients\n",
    "local_ricci_coefficients_mean.min()"
   ]
  },
  {
   "cell_type": "markdown",
   "id": "8c8ed3be",
   "metadata": {},
   "source": [
    "# 4. Syn-IV Dataset"
   ]
  },
  {
   "cell_type": "code",
   "execution_count": null,
   "id": "662fb4a2",
   "metadata": {},
   "outputs": [
    {
     "name": "stdout",
     "output_type": "stream",
     "text": [
      "Computation failed at iteration 56: Constructed k-Nearest-Neighbour Graph is not connected. Retrying...\n",
      "Curvature of layer 10 calculated\r"
     ]
    }
   ],
   "source": [
    "n=100   # Number of networks we average our results over\n",
    "global_ricci_coefficients = np.empty(n)\n",
    "local_ricci_coefficients_mean = np.empty(n)\n",
    "i = 0\n",
    "\n",
    "while i < n:\n",
    "    print(f\"Iteration {i}\", end=\"\\r\")\n",
    "    try:\n",
    "        # Generate samples\n",
    "        X, y = DatasetFactory.make_tori()\n",
    "\n",
    "        # Initialize network\n",
    "        model = DNN(input_dimension=3, depth=10)\n",
    "\n",
    "        # Calculate global Ricci coefficient\n",
    "        ricci_coefs = Ricci_Coefficients(NN=model, X=X, k=50)\n",
    "        global_ricci_coefficients[i] = ricci_coefs.global_ricci_coefficient()\n",
    "\n",
    "        # Calculate local Ricci evolution coefficients\n",
    "        lrc = ricci_coefs.local_ricci_coefficient(curv='Ollivier-Ricci')\n",
    "        local_ricci_coefficients_mean [i] = lrc.mean()\n",
    "    \n",
    "        i += 1  # increment only if successful\n",
    "    except ValueError as e:\n",
    "        print(f\"Computation failed at iteration {i}: {e} Retrying...\")\n",
    "        # no increment, loop will retry"
   ]
  },
  {
   "cell_type": "code",
   "execution_count": null,
   "id": "e9620697",
   "metadata": {},
   "outputs": [
    {
     "data": {
      "text/plain": [
       "(np.int64(89),\n",
       " np.float64(-0.20465243864987015),\n",
       " np.int64(76),\n",
       " np.float64(-0.03572552842889573))"
      ]
     },
     "execution_count": 23,
     "metadata": {},
     "output_type": "execute_result"
    }
   ],
   "source": [
    "# Results\n",
    "(global_ricci_coefficients < 0).sum(), global_ricci_coefficients.mean(),(local_ricci_coefficients_mean < 0).sum() , local_ricci_coefficients_mean.mean()"
   ]
  },
  {
   "cell_type": "code",
   "execution_count": null,
   "id": "78cfd33f",
   "metadata": {},
   "outputs": [
    {
     "data": {
      "text/plain": [
       "(np.float64(0.1866469232128141), np.float64(0.05464307126472323))"
      ]
     },
     "execution_count": 24,
     "metadata": {},
     "output_type": "execute_result"
    }
   ],
   "source": [
    "# Standard deviation of results\n",
    "global_ricci_coefficients.std(), local_ricci_coefficients_mean.std()"
   ]
  },
  {
   "cell_type": "code",
   "execution_count": null,
   "id": "a1b2d551",
   "metadata": {},
   "outputs": [
    {
     "data": {
      "text/plain": [
       "np.float64(-0.5775636984018113)"
      ]
     },
     "execution_count": 25,
     "metadata": {},
     "output_type": "execute_result"
    }
   ],
   "source": [
    "# Minimum global Ricci coefficients\n",
    "global_ricci_coefficients.min()"
   ]
  },
  {
   "cell_type": "code",
   "execution_count": null,
   "id": "b69c76f5",
   "metadata": {},
   "outputs": [
    {
     "data": {
      "text/plain": [
       "np.float64(-0.1334979)"
      ]
     },
     "execution_count": 19,
     "metadata": {},
     "output_type": "execute_result"
    }
   ],
   "source": [
    "# Minimum local Ricci evolution coefficients\n",
    "local_ricci_coefficients_mean.min()"
   ]
  }
 ],
 "metadata": {
  "kernelspec": {
   "display_name": ".venv",
   "language": "python",
   "name": "python3"
  },
  "language_info": {
   "codemirror_mode": {
    "name": "ipython",
    "version": 3
   },
   "file_extension": ".py",
   "mimetype": "text/x-python",
   "name": "python",
   "nbconvert_exporter": "python",
   "pygments_lexer": "ipython3",
   "version": "3.11.0"
  }
 },
 "nbformat": 4,
 "nbformat_minor": 5
}
