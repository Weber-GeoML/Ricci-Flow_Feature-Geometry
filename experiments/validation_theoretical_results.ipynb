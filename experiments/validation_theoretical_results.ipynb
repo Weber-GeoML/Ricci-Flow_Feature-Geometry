{
 "cells": [
  {
   "cell_type": "markdown",
   "id": "10c8a32c",
   "metadata": {},
   "source": [
    "# Wide Linear Neural Networks Preserve Feature Geometry\n",
    "\n",
    "We have theoretically established that sufficiently wide linear neural networks cannot alter the geometry of the features. In this notebook, we perform experiments to empirically validate these theoretical predictions. We begin by importing the necessary libraries."
   ]
  },
  {
   "cell_type": "code",
   "execution_count": 1,
   "id": "6cb1d6a1",
   "metadata": {},
   "outputs": [],
   "source": [
    "import numpy as np\n",
    "from scipy.spatial.distance import cdist\n",
    "from sklearn.neighbors import kneighbors_graph\n",
    "import matplotlib.pyplot as plt\n",
    "from tqdm.auto import tqdm"
   ]
  },
  {
   "cell_type": "markdown",
   "id": "ef66bc68",
   "metadata": {},
   "source": [
    "# Helper Functions"
   ]
  },
  {
   "cell_type": "code",
   "execution_count": null,
   "id": "abf785fe",
   "metadata": {},
   "outputs": [],
   "source": [
    "def lower_bound_m(n, delta, epsilon):\n",
    "    \"\"\"Calculate lower bound on network width established in Theorem 3.1.\n",
    "\n",
    "    Args:\n",
    "        n (int): numper of points.\n",
    "        delta (float): Probability bound.\n",
    "        epsilon (float): Seperation of neighborhoods.\n",
    "\n",
    "    Returns:\n",
    "        float: Lower bound on network width.\n",
    "    \"\"\"\n",
    "    return 4 * (np.log(n*(n-1)) - np.log(delta)) / (epsilon**2 - epsilon**3)"
   ]
  },
  {
   "cell_type": "code",
   "execution_count": null,
   "id": "5080e8c2",
   "metadata": {},
   "outputs": [],
   "source": [
    "def kth_gap(X, k):\n",
    "    \"\"\"Function to compute the maximum epsilon satisfying the conditions in Theorem 3.1.\n",
    "\n",
    "    Args:\n",
    "        X (np.array): The point cloud.\n",
    "        k (int): Number of neighbors in kNN graph.\n",
    "\n",
    "    Returns:\n",
    "        float: Epsilon.\n",
    "    \"\"\"\n",
    "    # Compute all pairwise squared distances\n",
    "    dists_square = np.square(cdist(X, X, metric='euclidean'))\n",
    "    np.fill_diagonal(dists_square, np.inf) \n",
    "\n",
    "    # Partially sort to find the k+1 smallest distances\n",
    "    kth_and_next_indices = np.argpartition(dists_square, k+1, axis=1)[:, :k+1]\n",
    "    kth_and_next_distances = np.take_along_axis(dists_square, kth_and_next_indices, axis=1)\n",
    "\n",
    "    # Sort only the k+1 distances\n",
    "    kth_and_next_distances.sort(axis=1)\n",
    "    \n",
    "    # compute epsilon\n",
    "    kth_distance = kth_and_next_distances[:, k-1]\n",
    "    kplus1_distance = kth_and_next_distances[:, k]\n",
    "    return ((kplus1_distance - kth_distance) / (kplus1_distance + kth_distance)).min()"
   ]
  },
  {
   "cell_type": "code",
   "execution_count": null,
   "id": "b4b383d8",
   "metadata": {},
   "outputs": [],
   "source": [
    "def r_neighborhood_graph_gap(X, r):\n",
    "    \"\"\"Function to compute the maximum epsilon satisfying the conditions in Theorem A.6.\n",
    "\n",
    "    Args:\n",
    "        X (Point): The point cloud.\n",
    "        r (_type_): Parameter for construction of r-neighborhood graph.\n",
    "    Returns:\n",
    "        float: Gap.\n",
    "    \"\"\"\n",
    "    # Compute all pairwise distances\n",
    "    dists = cdist(X, X,metric='euclidean')\n",
    "    \n",
    "    # Keep only distances greater than r\n",
    "    dists_above_r = dists[dists > r]\n",
    "\n",
    "    # Keep only distances greater than r\n",
    "    dists_below_r = dists[dists < r]\n",
    "    \n",
    "    return min((dists_above_r.min()**2 - r**2)/dists_above_r.min()**2, (r**2 - dists_below_r.max()**2)/dists_below_r.max()**2)"
   ]
  },
  {
   "cell_type": "code",
   "execution_count": null,
   "id": "9a394095",
   "metadata": {},
   "outputs": [],
   "source": [
    "def r_neighborhood_graph(X, r):\n",
    "    \"\"\"Function to construct a r-neighborhood graph on the point cloud X.\n",
    "\n",
    "    Args:\n",
    "        X (np.array): The point cloud.\n",
    "        r (float): Parameter for construction of r-neighborhood graph.\n",
    "    Returns:\n",
    "        np.array: Adjacency Matrix.\n",
    "    \"\"\"\n",
    "    # Compute all pairwise Euclidean distances\n",
    "    dists = cdist(X, X, metric='euclidean')\n",
    "    \n",
    "    # Create adjacency matrix: connect points within distance epsilon\n",
    "    A = (dists < r).astype(int)\n",
    "    \n",
    "    # Remove self-loops\n",
    "    np.fill_diagonal(A, 0)\n",
    "    \n",
    "    return A"
   ]
  },
  {
   "cell_type": "code",
   "execution_count": null,
   "id": "12e1f3c3",
   "metadata": {},
   "outputs": [],
   "source": [
    "def compare_kNN_graphs(X, A, k):\n",
    "    \"\"\"Function to construct a k-nearest-neighbor graph on the point clouds X and AX and compare if the resulting graphs are identical.\n",
    "\n",
    "    Args:\n",
    "        X (np.array): The point cloud.\n",
    "        A (np.array): The linear transformation A.\n",
    "        k (int): Parameter for construction of the k-nearest neighbor graph.\n",
    "\n",
    "    Returns:\n",
    "        Bool: True if the k-nearest neighbor graphs coincide.\n",
    "    \"\"\"\n",
    "    AX = X @ A.T\n",
    "    knn_X = kneighbors_graph(X, n_neighbors=k, mode='connectivity', include_self=False).toarray()\n",
    "    knn_AX = kneighbors_graph(AX, n_neighbors=k, mode='connectivity', include_self=False).toarray()\n",
    "    if (knn_X == knn_AX).sum() == len(X)**2:\n",
    "        return True\n",
    "    else:\n",
    "        return False"
   ]
  },
  {
   "cell_type": "code",
   "execution_count": null,
   "id": "7bd65714",
   "metadata": {},
   "outputs": [],
   "source": [
    "def compare_r_neighborhood_graphs(X, A, r):\n",
    "    \"\"\"Function to construct a k-nearest-neighbor graph on the point clouds X and AX and compare if the resulting graphs are identical.\n",
    "\n",
    "    Args:\n",
    "        X (np.array): The point cloud.\n",
    "        A (np.array): The linear transformation A.\n",
    "        k (int): Parameter for construction of the k-nearest neighbor graph.\n",
    "\n",
    "    Returns:\n",
    "        Bool: True if the k-nearest neighbor graphs coincide.\n",
    "    \"\"\"\n",
    "    AX = X @ A.T\n",
    "    geometric_graph_X = r_neighborhood_graph(X, r)\n",
    "    geometric_graph_AX = r_neighborhood_graph(AX, r)\n",
    "    if (geometric_graph_X == geometric_graph_AX).sum() == len(X)**2:\n",
    "        return True\n",
    "    else:\n",
    "        return False"
   ]
  },
  {
   "cell_type": "markdown",
   "id": "25c5302c",
   "metadata": {},
   "source": [
    "# 3d-Unit Ball"
   ]
  },
  {
   "cell_type": "code",
   "execution_count": 100,
   "id": "6ebaad7f",
   "metadata": {},
   "outputs": [],
   "source": [
    "def sample_unit_ball_3d(n):\n",
    "    \"\"\"Generate uniform samples from 3-d unit ball\n",
    "\n",
    "    Args:\n",
    "        n (int): Number of samples\n",
    "\n",
    "    Returns:\n",
    "        np.array: Samples\n",
    "    \"\"\"\n",
    "    r = np.random.rand(n)  # radius\n",
    "    phi = np.random.uniform(0, np.pi, n)\n",
    "    theta = np.random.uniform(0, 2 * np.pi, n)\n",
    "    x = r * np.sin(phi) * np.cos(theta), \n",
    "    y = r * np.sin(phi) * np.sin(theta)\n",
    "    z = r * np.cos(phi)\n",
    "    return np.vstack((x, y, z)).T"
   ]
  },
  {
   "cell_type": "code",
   "execution_count": null,
   "id": "d77841af",
   "metadata": {},
   "outputs": [
    {
     "data": {
      "text/plain": [
       "(np.float64(0.0006708023678081252), np.float64(0.002515934846067874))"
      ]
     },
     "execution_count": 101,
     "metadata": {},
     "output_type": "execute_result"
    }
   ],
   "source": [
    "# Sample points\n",
    "X = sample_unit_ball_3d(n=50)\n",
    "gap_knn, gap_r_neigh = kth_gap(X=X,k=5), r_neighborhood_graph_gap(X=X,r=0.3)\n",
    "gap_knn, gap_r_neigh"
   ]
  },
  {
   "cell_type": "code",
   "execution_count": null,
   "id": "d586cd2d",
   "metadata": {},
   "outputs": [
    {
     "data": {
      "text/plain": [
       "(np.float64(96065827.72432835), np.float64(6841667.003222341))"
      ]
     },
     "execution_count": 102,
     "metadata": {},
     "output_type": "execute_result"
    }
   ],
   "source": [
    "# Calculate lower bounds on width according to theoretical results\n",
    "lower_bound_m(n=50, delta=0.05, epsilon=gap_knn), lower_bound_m(n=50, delta=0.05, epsilon=gap_r_neigh)"
   ]
  },
  {
   "cell_type": "code",
   "execution_count": null,
   "id": "ea3e33fd",
   "metadata": {},
   "outputs": [
    {
     "name": "stdout",
     "output_type": "stream",
     "text": [
      "50\n"
     ]
    },
    {
     "name": "stderr",
     "output_type": "stream",
     "text": [
      "100%|██████████| 1000/1000 [00:02<00:00, 469.58it/s]\n"
     ]
    },
    {
     "name": "stdout",
     "output_type": "stream",
     "text": [
      "0.044 0.205\n",
      "100\n"
     ]
    },
    {
     "name": "stderr",
     "output_type": "stream",
     "text": [
      "100%|██████████| 1000/1000 [00:06<00:00, 145.31it/s]\n"
     ]
    },
    {
     "name": "stdout",
     "output_type": "stream",
     "text": [
      "0.232 0.631\n",
      "150\n"
     ]
    },
    {
     "name": "stderr",
     "output_type": "stream",
     "text": [
      "100%|██████████| 1000/1000 [00:14<00:00, 71.36it/s]\n"
     ]
    },
    {
     "name": "stdout",
     "output_type": "stream",
     "text": [
      "0.517 0.89\n",
      "200\n"
     ]
    },
    {
     "name": "stderr",
     "output_type": "stream",
     "text": [
      "100%|██████████| 1000/1000 [00:24<00:00, 40.49it/s]\n"
     ]
    },
    {
     "name": "stdout",
     "output_type": "stream",
     "text": [
      "0.711 0.968\n",
      "250\n"
     ]
    },
    {
     "name": "stderr",
     "output_type": "stream",
     "text": [
      "100%|██████████| 1000/1000 [00:41<00:00, 24.19it/s]\n"
     ]
    },
    {
     "name": "stdout",
     "output_type": "stream",
     "text": [
      "0.792 0.997\n",
      "300\n"
     ]
    },
    {
     "name": "stderr",
     "output_type": "stream",
     "text": [
      "100%|██████████| 1000/1000 [00:59<00:00, 16.72it/s]\n"
     ]
    },
    {
     "name": "stdout",
     "output_type": "stream",
     "text": [
      "0.892 0.999\n",
      "350\n"
     ]
    },
    {
     "name": "stderr",
     "output_type": "stream",
     "text": [
      "100%|██████████| 1000/1000 [01:21<00:00, 12.33it/s]\n"
     ]
    },
    {
     "name": "stdout",
     "output_type": "stream",
     "text": [
      "0.938 1.0\n",
      "400\n"
     ]
    },
    {
     "name": "stderr",
     "output_type": "stream",
     "text": [
      "100%|██████████| 1000/1000 [01:45<00:00,  9.47it/s]\n"
     ]
    },
    {
     "name": "stdout",
     "output_type": "stream",
     "text": [
      "0.957 0.999\n",
      "450\n"
     ]
    },
    {
     "name": "stderr",
     "output_type": "stream",
     "text": [
      "100%|██████████| 1000/1000 [02:13<00:00,  7.51it/s]\n"
     ]
    },
    {
     "name": "stdout",
     "output_type": "stream",
     "text": [
      "0.978 1.0\n",
      "500\n"
     ]
    },
    {
     "name": "stderr",
     "output_type": "stream",
     "text": [
      "100%|██████████| 1000/1000 [02:45<00:00,  6.03it/s]\n"
     ]
    },
    {
     "name": "stdout",
     "output_type": "stream",
     "text": [
      "0.996 1.0\n",
      "550\n"
     ]
    },
    {
     "name": "stderr",
     "output_type": "stream",
     "text": [
      "100%|██████████| 1000/1000 [03:23<00:00,  4.91it/s]\n"
     ]
    },
    {
     "name": "stdout",
     "output_type": "stream",
     "text": [
      "0.995 1.0\n",
      "600\n"
     ]
    },
    {
     "name": "stderr",
     "output_type": "stream",
     "text": [
      "100%|██████████| 1000/1000 [04:05<00:00,  4.08it/s]\n"
     ]
    },
    {
     "name": "stdout",
     "output_type": "stream",
     "text": [
      "0.997 1.0\n",
      "650\n"
     ]
    },
    {
     "name": "stderr",
     "output_type": "stream",
     "text": [
      "100%|██████████| 1000/1000 [04:50<00:00,  3.45it/s]\n"
     ]
    },
    {
     "name": "stdout",
     "output_type": "stream",
     "text": [
      "0.999 1.0\n",
      "700\n"
     ]
    },
    {
     "name": "stderr",
     "output_type": "stream",
     "text": [
      "100%|██████████| 1000/1000 [05:40<00:00,  2.93it/s]\n"
     ]
    },
    {
     "name": "stdout",
     "output_type": "stream",
     "text": [
      "0.998 1.0\n",
      "750\n"
     ]
    },
    {
     "name": "stderr",
     "output_type": "stream",
     "text": [
      "100%|██████████| 1000/1000 [06:27<00:00,  2.58it/s]\n"
     ]
    },
    {
     "name": "stdout",
     "output_type": "stream",
     "text": [
      "1.0 1.0\n",
      "800\n"
     ]
    },
    {
     "name": "stderr",
     "output_type": "stream",
     "text": [
      "100%|██████████| 1000/1000 [07:16<00:00,  2.29it/s]\n"
     ]
    },
    {
     "name": "stdout",
     "output_type": "stream",
     "text": [
      "1.0 1.0\n",
      "850\n"
     ]
    },
    {
     "name": "stderr",
     "output_type": "stream",
     "text": [
      "100%|██████████| 1000/1000 [08:19<00:00,  2.00it/s]\n"
     ]
    },
    {
     "name": "stdout",
     "output_type": "stream",
     "text": [
      "1.0 1.0\n",
      "900\n"
     ]
    },
    {
     "name": "stderr",
     "output_type": "stream",
     "text": [
      "100%|██████████| 1000/1000 [09:22<00:00,  1.78it/s]\n"
     ]
    },
    {
     "name": "stdout",
     "output_type": "stream",
     "text": [
      "1.0 1.0\n",
      "950\n"
     ]
    },
    {
     "name": "stderr",
     "output_type": "stream",
     "text": [
      "100%|██████████| 1000/1000 [10:29<00:00,  1.59it/s]"
     ]
    },
    {
     "name": "stdout",
     "output_type": "stream",
     "text": [
      "1.0 1.0\n"
     ]
    },
    {
     "name": "stderr",
     "output_type": "stream",
     "text": [
      "\n"
     ]
    }
   ],
   "source": [
    "# Experimentally varify theoretical results\n",
    "success_rate_kNN = []\n",
    "success_rate_r_neigh= []\n",
    "num_iterations = 1000\n",
    "\n",
    "for i in range(1,20):\n",
    "    sqrt_m = 50 * i\n",
    "    print(sqrt_m)\n",
    "    avg_kNN = 0\n",
    "    avg_r_neigh = 0\n",
    "    for _ in tqdm(range(num_iterations)):\n",
    "        # Initialize random matrix\n",
    "        A = np.random.normal(0, 1/sqrt_m, size=(sqrt_m**2,3))\n",
    "        # Compare kNN graphs\n",
    "        if compare_kNN_graphs(X=X, A=A, k=5):\n",
    "            avg_kNN +=1\n",
    "        # Compare r-neighborhood graphs\n",
    "        if compare_r_neighborhood_graphs(X=X, A=A,r=0.3):\n",
    "            avg_r_neigh+=1\n",
    "\n",
    "    print(avg_kNN/num_iterations, avg_r_neigh/num_iterations)\n",
    "    success_rate_kNN.append(avg_kNN/num_iterations)\n",
    "    success_rate_r_neigh.append(avg_r_neigh/num_iterations)"
   ]
  },
  {
   "cell_type": "code",
   "execution_count": null,
   "id": "cc9c8bf3",
   "metadata": {},
   "outputs": [
    {
     "data": {
      "image/png": "[encoded data removed]",
      "text/plain": [
       "<Figure size 640x480 with 1 Axes>"
      ]
     },
     "metadata": {},
     "output_type": "display_data"
    }
   ],
   "source": [
    "# Plot results\n",
    "plt.plot(np.square(np.arange(1,20)* 50), success_rate_kNN, label='k-NN Graph')\n",
    "plt.plot(np.square(np.arange(1,20)* 50), success_rate_r_neigh, label='r-Neighborhood Graph')\n",
    "plt.xscale('log')\n",
    "plt.xlabel('Network width', fontsize=16)\n",
    "plt.legend(fontsize=16)"
   ]
  },
  {
   "cell_type": "markdown",
   "id": "536c275d",
   "metadata": {},
   "source": [
    "# 2d-Unit Disc"
   ]
  },
  {
   "cell_type": "code",
   "execution_count": null,
   "id": "df57d6d0",
   "metadata": {},
   "outputs": [],
   "source": [
    "def sample_unit_ball_2d(n):\n",
    "    \"\"\"Generate uniform samples from 2-d unit ball.\n",
    "\n",
    "    Args:\n",
    "        n (int): Number of samples.\n",
    "\n",
    "    Returns:\n",
    "        np.array: Samples.\n",
    "    \"\"\"\n",
    "    r = np.random.rand(n) \n",
    "    theta = np.random.uniform(0, 2 * np.pi, n)\n",
    "    x = r * np.cos(theta), \n",
    "    y = r * np.sin(theta)\n",
    "    return np.vstack((x, y)).T"
   ]
  },
  {
   "cell_type": "code",
   "execution_count": null,
   "id": "c6500b60",
   "metadata": {},
   "outputs": [
    {
     "data": {
      "text/plain": [
       "<matplotlib.collections.PathCollection at 0x11ea28e10>"
      ]
     },
     "execution_count": 105,
     "metadata": {},
     "output_type": "execute_result"
    },
    {
     "data": {
      "image/png": "[encoded data removed]",
      "text/plain": [
       "<Figure size 640x480 with 1 Axes>"
      ]
     },
     "metadata": {},
     "output_type": "display_data"
    }
   ],
   "source": [
    "# Plot samples\n",
    "X = sample_unit_ball_2d(n=10000)\n",
    "plt.scatter(X[:,0], X[:,1])"
   ]
  },
  {
   "cell_type": "code",
   "execution_count": null,
   "id": "f15b8b21",
   "metadata": {},
   "outputs": [
    {
     "data": {
      "text/plain": [
       "(np.float64(0.0007216847182611977), np.float64(0.00016579274829606698))"
      ]
     },
     "execution_count": 106,
     "metadata": {},
     "output_type": "execute_result"
    }
   ],
   "source": [
    "# Generate samples\n",
    "X = sample_unit_ball_2d(n=50)\n",
    "gap_knn, gap_r_neigh =kth_gap(X=X,k=5), r_neighborhood_graph_gap(X=X,r=0.3)\n",
    "gap_knn, gap_r_neigh"
   ]
  },
  {
   "cell_type": "code",
   "execution_count": null,
   "id": "bb9088cc",
   "metadata": {},
   "outputs": [
    {
     "data": {
      "text/plain": [
       "(np.float64(83001357.97919208), np.float64(1571837431.1583257))"
      ]
     },
     "execution_count": 107,
     "metadata": {},
     "output_type": "execute_result"
    }
   ],
   "source": [
    "# Calculate lower bounds on width according to theoretical results\n",
    "lower_bound_m(n=50, delta=0.05, epsilon=gap_knn), lower_bound_m(n=50, delta=0.05, epsilon=gap_r_neigh)"
   ]
  },
  {
   "cell_type": "code",
   "execution_count": null,
   "id": "eba27786",
   "metadata": {},
   "outputs": [
    {
     "name": "stdout",
     "output_type": "stream",
     "text": [
      "50\n"
     ]
    },
    {
     "name": "stderr",
     "output_type": "stream",
     "text": [
      "100%|██████████| 100/100 [00:00<00:00, 371.72it/s]\n"
     ]
    },
    {
     "name": "stdout",
     "output_type": "stream",
     "text": [
      "0.34 0.28\n",
      "100\n"
     ]
    },
    {
     "name": "stderr",
     "output_type": "stream",
     "text": [
      "100%|██████████| 100/100 [00:00<00:00, 128.47it/s]\n"
     ]
    },
    {
     "name": "stdout",
     "output_type": "stream",
     "text": [
      "0.5 0.61\n",
      "150\n"
     ]
    },
    {
     "name": "stderr",
     "output_type": "stream",
     "text": [
      "100%|██████████| 100/100 [00:01<00:00, 69.93it/s]\n"
     ]
    },
    {
     "name": "stdout",
     "output_type": "stream",
     "text": [
      "0.71 0.81\n",
      "200\n"
     ]
    },
    {
     "name": "stderr",
     "output_type": "stream",
     "text": [
      "100%|██████████| 100/100 [00:02<00:00, 38.09it/s]\n"
     ]
    },
    {
     "name": "stdout",
     "output_type": "stream",
     "text": [
      "0.79 0.8\n",
      "250\n"
     ]
    },
    {
     "name": "stderr",
     "output_type": "stream",
     "text": [
      "100%|██████████| 100/100 [00:04<00:00, 24.65it/s]\n"
     ]
    },
    {
     "name": "stdout",
     "output_type": "stream",
     "text": [
      "0.83 0.87\n",
      "300\n"
     ]
    },
    {
     "name": "stderr",
     "output_type": "stream",
     "text": [
      "100%|██████████| 100/100 [00:05<00:00, 17.28it/s]\n"
     ]
    },
    {
     "name": "stdout",
     "output_type": "stream",
     "text": [
      "0.85 0.91\n",
      "350\n"
     ]
    },
    {
     "name": "stderr",
     "output_type": "stream",
     "text": [
      "100%|██████████| 100/100 [00:07<00:00, 12.74it/s]\n"
     ]
    },
    {
     "name": "stdout",
     "output_type": "stream",
     "text": [
      "0.86 0.91\n",
      "400\n"
     ]
    },
    {
     "name": "stderr",
     "output_type": "stream",
     "text": [
      "100%|██████████| 100/100 [00:10<00:00,  9.47it/s]\n"
     ]
    },
    {
     "name": "stdout",
     "output_type": "stream",
     "text": [
      "0.93 0.96\n",
      "450\n"
     ]
    },
    {
     "name": "stderr",
     "output_type": "stream",
     "text": [
      "100%|██████████| 100/100 [00:13<00:00,  7.32it/s]\n"
     ]
    },
    {
     "name": "stdout",
     "output_type": "stream",
     "text": [
      "0.99 0.99\n",
      "500\n"
     ]
    },
    {
     "name": "stderr",
     "output_type": "stream",
     "text": [
      "100%|██████████| 100/100 [00:16<00:00,  5.90it/s]\n"
     ]
    },
    {
     "name": "stdout",
     "output_type": "stream",
     "text": [
      "0.98 0.98\n",
      "550\n"
     ]
    },
    {
     "name": "stderr",
     "output_type": "stream",
     "text": [
      "100%|██████████| 100/100 [00:20<00:00,  4.89it/s]\n"
     ]
    },
    {
     "name": "stdout",
     "output_type": "stream",
     "text": [
      "0.98 1.0\n",
      "600\n"
     ]
    },
    {
     "name": "stderr",
     "output_type": "stream",
     "text": [
      "100%|██████████| 100/100 [00:24<00:00,  4.13it/s]\n"
     ]
    },
    {
     "name": "stdout",
     "output_type": "stream",
     "text": [
      "0.99 1.0\n",
      "650\n"
     ]
    },
    {
     "name": "stderr",
     "output_type": "stream",
     "text": [
      "100%|██████████| 100/100 [00:28<00:00,  3.54it/s]\n"
     ]
    },
    {
     "name": "stdout",
     "output_type": "stream",
     "text": [
      "0.99 1.0\n",
      "700\n"
     ]
    },
    {
     "name": "stderr",
     "output_type": "stream",
     "text": [
      "100%|██████████| 100/100 [00:33<00:00,  2.95it/s]\n"
     ]
    },
    {
     "name": "stdout",
     "output_type": "stream",
     "text": [
      "1.0 1.0\n",
      "750\n"
     ]
    },
    {
     "name": "stderr",
     "output_type": "stream",
     "text": [
      "100%|██████████| 100/100 [00:39<00:00,  2.55it/s]\n"
     ]
    },
    {
     "name": "stdout",
     "output_type": "stream",
     "text": [
      "1.0 1.0\n",
      "800\n"
     ]
    },
    {
     "name": "stderr",
     "output_type": "stream",
     "text": [
      "100%|██████████| 100/100 [00:44<00:00,  2.25it/s]\n"
     ]
    },
    {
     "name": "stdout",
     "output_type": "stream",
     "text": [
      "1.0 1.0\n",
      "850\n"
     ]
    },
    {
     "name": "stderr",
     "output_type": "stream",
     "text": [
      "100%|██████████| 100/100 [00:49<00:00,  2.04it/s]\n"
     ]
    },
    {
     "name": "stdout",
     "output_type": "stream",
     "text": [
      "1.0 1.0\n",
      "900\n"
     ]
    },
    {
     "name": "stderr",
     "output_type": "stream",
     "text": [
      "100%|██████████| 100/100 [00:53<00:00,  1.86it/s]\n"
     ]
    },
    {
     "name": "stdout",
     "output_type": "stream",
     "text": [
      "1.0 1.0\n",
      "950\n"
     ]
    },
    {
     "name": "stderr",
     "output_type": "stream",
     "text": [
      "100%|██████████| 100/100 [00:58<00:00,  1.70it/s]"
     ]
    },
    {
     "name": "stdout",
     "output_type": "stream",
     "text": [
      "1.0 1.0\n"
     ]
    },
    {
     "name": "stderr",
     "output_type": "stream",
     "text": [
      "\n"
     ]
    }
   ],
   "source": [
    "# Experimentally varify theoretical results\n",
    "success_rate_kNN = []\n",
    "success_rate_r_neigh = []\n",
    "num_iterations = 100\n",
    "\n",
    "for i in range(1,20):\n",
    "    sqrt_m = 50 * i\n",
    "    print(sqrt_m)\n",
    "    avg_kNN = 0\n",
    "    avg_r_neigh = 0\n",
    "    for _ in tqdm(range(num_iterations)):\n",
    "        # Initialize random matrix\n",
    "        A = np.random.normal(0, 1/sqrt_m, size=(sqrt_m**2,2))\n",
    "\n",
    "        # Compare kNN graphs\n",
    "        if compare_kNN_graphs(X=X, A=A, k=5):\n",
    "            avg_kNN +=1\n",
    "\n",
    "        # Compare r-neighborhood graphs\n",
    "        if compare_r_neighborhood_graphs(X=X, A=A,r=0.3):\n",
    "            avg_r_neigh+=1\n",
    "\n",
    "    print(avg_kNN/num_iterations, avg_r_neigh/num_iterations)\n",
    "    success_rate_kNN.append(avg_kNN/num_iterations)\n",
    "    success_rate_r_neigh.append(avg_r_neigh/num_iterations)"
   ]
  },
  {
   "cell_type": "code",
   "execution_count": null,
   "id": "16944124",
   "metadata": {},
   "outputs": [
    {
     "data": {
      "text/plain": [
       "<matplotlib.legend.Legend at 0x138fdccd0>"
      ]
     },
     "execution_count": 53,
     "metadata": {},
     "output_type": "execute_result"
    },
    {
     "data": {
      "image/png": "[encoded data removed]",
      "text/plain": [
       "<Figure size 640x480 with 1 Axes>"
      ]
     },
     "metadata": {},
     "output_type": "display_data"
    }
   ],
   "source": [
    "# Plot results\n",
    "plt.plot(np.square(np.arange(1,20)* 50), success_rate_kNN, label='kNN Graph')\n",
    "plt.plot(np.square(np.arange(1,20)* 50), success_rate_r_neigh, label='Random Geometric Graph')\n",
    "plt.xscale('log')\n",
    "plt.xlabel('Network width')\n",
    "plt.legend()"
   ]
  },
  {
   "cell_type": "markdown",
   "id": "f5f76d7f",
   "metadata": {},
   "source": [
    "# D-dimensional Unit Ball"
   ]
  },
  {
   "cell_type": "code",
   "execution_count": null,
   "id": "bdf88934",
   "metadata": {},
   "outputs": [],
   "source": [
    "def sample_unit_ball(n, dim):\n",
    "    \"\"\"Generate uniform samples from d-dimensional unit ball.\n",
    "\n",
    "    Args:\n",
    "        n (int): Number of samples.\n",
    "        dim (int): Dimension.\n",
    "\n",
    "    Returns:\n",
    "        np.array: Samples.\n",
    "    \"\"\"\n",
    "    x = np.random.randn(n, dim)\n",
    "    x /= np.linalg.norm(x, axis=1, keepdims=True)  \n",
    "    r = np.random.rand(n) ** (1/dim)         # scale for uniform volume\n",
    "    x *= r[:, np.newaxis]\n",
    "    return x"
   ]
  },
  {
   "cell_type": "code",
   "execution_count": null,
   "id": "3fdfe7ca",
   "metadata": {},
   "outputs": [
    {
     "data": {
      "text/plain": [
       "(np.float64(0.003375429495663068), np.float64(0.00029753215186731417))"
      ]
     },
     "execution_count": 111,
     "metadata": {},
     "output_type": "execute_result"
    }
   ],
   "source": [
    "# Generate samples\n",
    "X = sample_unit_ball(50, dim=5)\n",
    "gap_knn, gap_r_neigh =kth_gap(X=X,k=5), r_neighborhood_graph_gap(X=X,r=0.8)\n",
    "gap_knn, gap_r_neigh"
   ]
  },
  {
   "cell_type": "code",
   "execution_count": null,
   "id": "1dd93ecf",
   "metadata": {},
   "outputs": [
    {
     "data": {
      "text/plain": [
       "(np.float64(3804319.7095173798), np.float64(488121692.74696994))"
      ]
     },
     "execution_count": 112,
     "metadata": {},
     "output_type": "execute_result"
    }
   ],
   "source": [
    "# Calculate lower bounds on width according to theoretical results\n",
    "lower_bound_m(n=50, delta=0.05, epsilon=gap_knn), lower_bound_m(n=50, delta=0.05, epsilon=gap_r_neigh)"
   ]
  },
  {
   "cell_type": "code",
   "execution_count": null,
   "id": "8cf227fe",
   "metadata": {},
   "outputs": [
    {
     "name": "stdout",
     "output_type": "stream",
     "text": [
      "50\n"
     ]
    },
    {
     "data": {
      "application/vnd.jupyter.widget-view+json": {
       "model_id": "a2dfa329796340b09b88d87b938db701",
       "version_major": 2,
       "version_minor": 0
      },
      "text/plain": [
       "  0%|          | 0/100 [00:00<?, ?it/s]"
      ]
     },
     "metadata": {},
     "output_type": "display_data"
    },
    {
     "name": "stdout",
     "output_type": "stream",
     "text": [
      "0.02 0.01\n",
      "100\n"
     ]
    },
    {
     "data": {
      "application/vnd.jupyter.widget-view+json": {
       "model_id": "ac4098ff68204e47964a5fdac9dc59be",
       "version_major": 2,
       "version_minor": 0
      },
      "text/plain": [
       "  0%|          | 0/100 [00:00<?, ?it/s]"
      ]
     },
     "metadata": {},
     "output_type": "display_data"
    },
    {
     "name": "stdout",
     "output_type": "stream",
     "text": [
      "0.07 0.3\n",
      "150\n"
     ]
    },
    {
     "data": {
      "application/vnd.jupyter.widget-view+json": {
       "model_id": "cbb358a8d6f64f67a0073ac59bc85529",
       "version_major": 2,
       "version_minor": 0
      },
      "text/plain": [
       "  0%|          | 0/100 [00:00<?, ?it/s]"
      ]
     },
     "metadata": {},
     "output_type": "display_data"
    },
    {
     "name": "stdout",
     "output_type": "stream",
     "text": [
      "0.27 0.53\n",
      "200\n"
     ]
    },
    {
     "data": {
      "application/vnd.jupyter.widget-view+json": {
       "model_id": "12f144ad0c234069aa6c3b93bc30cb0e",
       "version_major": 2,
       "version_minor": 0
      },
      "text/plain": [
       "  0%|          | 0/100 [00:00<?, ?it/s]"
      ]
     },
     "metadata": {},
     "output_type": "display_data"
    },
    {
     "name": "stdout",
     "output_type": "stream",
     "text": [
      "0.41 0.78\n",
      "250\n"
     ]
    },
    {
     "data": {
      "application/vnd.jupyter.widget-view+json": {
       "model_id": "c851b9043c334460a58792334fdf9fbb",
       "version_major": 2,
       "version_minor": 0
      },
      "text/plain": [
       "  0%|          | 0/100 [00:00<?, ?it/s]"
      ]
     },
     "metadata": {},
     "output_type": "display_data"
    },
    {
     "name": "stdout",
     "output_type": "stream",
     "text": [
      "0.62 0.93\n",
      "300\n"
     ]
    },
    {
     "data": {
      "application/vnd.jupyter.widget-view+json": {
       "model_id": "701d9a876a004b5887e77524d56786bd",
       "version_major": 2,
       "version_minor": 0
      },
      "text/plain": [
       "  0%|          | 0/100 [00:00<?, ?it/s]"
      ]
     },
     "metadata": {},
     "output_type": "display_data"
    },
    {
     "name": "stdout",
     "output_type": "stream",
     "text": [
      "0.75 0.98\n",
      "350\n"
     ]
    },
    {
     "data": {
      "application/vnd.jupyter.widget-view+json": {
       "model_id": "d6cf08f6c598427dbd1f173e3cb267b7",
       "version_major": 2,
       "version_minor": 0
      },
      "text/plain": [
       "  0%|          | 0/100 [00:00<?, ?it/s]"
      ]
     },
     "metadata": {},
     "output_type": "display_data"
    },
    {
     "name": "stdout",
     "output_type": "stream",
     "text": [
      "0.76 0.98\n",
      "400\n"
     ]
    },
    {
     "data": {
      "application/vnd.jupyter.widget-view+json": {
       "model_id": "f5f791a31dc34896b5801be304006a23",
       "version_major": 2,
       "version_minor": 0
      },
      "text/plain": [
       "  0%|          | 0/100 [00:00<?, ?it/s]"
      ]
     },
     "metadata": {},
     "output_type": "display_data"
    },
    {
     "name": "stdout",
     "output_type": "stream",
     "text": [
      "0.83 1.0\n",
      "450\n"
     ]
    },
    {
     "data": {
      "application/vnd.jupyter.widget-view+json": {
       "model_id": "634f18d03b83448fbc56b2b7df69f7b8",
       "version_major": 2,
       "version_minor": 0
      },
      "text/plain": [
       "  0%|          | 0/100 [00:00<?, ?it/s]"
      ]
     },
     "metadata": {},
     "output_type": "display_data"
    },
    {
     "name": "stdout",
     "output_type": "stream",
     "text": [
      "0.87 1.0\n",
      "500\n"
     ]
    },
    {
     "data": {
      "application/vnd.jupyter.widget-view+json": {
       "model_id": "8d301c4059074938bfdaed39f2c22558",
       "version_major": 2,
       "version_minor": 0
      },
      "text/plain": [
       "  0%|          | 0/100 [00:00<?, ?it/s]"
      ]
     },
     "metadata": {},
     "output_type": "display_data"
    },
    {
     "name": "stdout",
     "output_type": "stream",
     "text": [
      "0.95 1.0\n",
      "550\n"
     ]
    },
    {
     "data": {
      "application/vnd.jupyter.widget-view+json": {
       "model_id": "1b8b0a4ca2ba4592a036a72b5b27e474",
       "version_major": 2,
       "version_minor": 0
      },
      "text/plain": [
       "  0%|          | 0/100 [00:00<?, ?it/s]"
      ]
     },
     "metadata": {},
     "output_type": "display_data"
    },
    {
     "name": "stdout",
     "output_type": "stream",
     "text": [
      "0.97 1.0\n",
      "600\n"
     ]
    },
    {
     "data": {
      "application/vnd.jupyter.widget-view+json": {
       "model_id": "ecb41cdfb18b4390894c9d1418838eeb",
       "version_major": 2,
       "version_minor": 0
      },
      "text/plain": [
       "  0%|          | 0/100 [00:00<?, ?it/s]"
      ]
     },
     "metadata": {},
     "output_type": "display_data"
    },
    {
     "name": "stdout",
     "output_type": "stream",
     "text": [
      "0.99 1.0\n",
      "650\n"
     ]
    },
    {
     "data": {
      "application/vnd.jupyter.widget-view+json": {
       "model_id": "5d264bcd086b457a8a0687c646b01d39",
       "version_major": 2,
       "version_minor": 0
      },
      "text/plain": [
       "  0%|          | 0/100 [00:00<?, ?it/s]"
      ]
     },
     "metadata": {},
     "output_type": "display_data"
    },
    {
     "name": "stdout",
     "output_type": "stream",
     "text": [
      "0.95 1.0\n",
      "700\n"
     ]
    },
    {
     "data": {
      "application/vnd.jupyter.widget-view+json": {
       "model_id": "b65655fe075648b98379a974720d99e1",
       "version_major": 2,
       "version_minor": 0
      },
      "text/plain": [
       "  0%|          | 0/100 [00:00<?, ?it/s]"
      ]
     },
     "metadata": {},
     "output_type": "display_data"
    },
    {
     "name": "stdout",
     "output_type": "stream",
     "text": [
      "0.99 1.0\n",
      "750\n"
     ]
    },
    {
     "data": {
      "application/vnd.jupyter.widget-view+json": {
       "model_id": "33ff57fc5a2142fca6ba928dff48a48a",
       "version_major": 2,
       "version_minor": 0
      },
      "text/plain": [
       "  0%|          | 0/100 [00:00<?, ?it/s]"
      ]
     },
     "metadata": {},
     "output_type": "display_data"
    },
    {
     "name": "stdout",
     "output_type": "stream",
     "text": [
      "0.98 1.0\n",
      "800\n"
     ]
    },
    {
     "data": {
      "application/vnd.jupyter.widget-view+json": {
       "model_id": "59e42354dda0430aa3b4d17f920ae7bd",
       "version_major": 2,
       "version_minor": 0
      },
      "text/plain": [
       "  0%|          | 0/100 [00:00<?, ?it/s]"
      ]
     },
     "metadata": {},
     "output_type": "display_data"
    },
    {
     "name": "stdout",
     "output_type": "stream",
     "text": [
      "1.0 1.0\n",
      "850\n"
     ]
    },
    {
     "data": {
      "application/vnd.jupyter.widget-view+json": {
       "model_id": "c416dbcc0370495583f09a80867a64d4",
       "version_major": 2,
       "version_minor": 0
      },
      "text/plain": [
       "  0%|          | 0/100 [00:00<?, ?it/s]"
      ]
     },
     "metadata": {},
     "output_type": "display_data"
    },
    {
     "name": "stdout",
     "output_type": "stream",
     "text": [
      "0.99 1.0\n",
      "900\n"
     ]
    },
    {
     "data": {
      "application/vnd.jupyter.widget-view+json": {
       "model_id": "2e0e5ca59b8343378b8b8c7de6a2c6b1",
       "version_major": 2,
       "version_minor": 0
      },
      "text/plain": [
       "  0%|          | 0/100 [00:00<?, ?it/s]"
      ]
     },
     "metadata": {},
     "output_type": "display_data"
    },
    {
     "name": "stdout",
     "output_type": "stream",
     "text": [
      "1.0 1.0\n",
      "950\n"
     ]
    },
    {
     "data": {
      "application/vnd.jupyter.widget-view+json": {
       "model_id": "d88e28cc79a74ce1a70ac8dcba6ee5f1",
       "version_major": 2,
       "version_minor": 0
      },
      "text/plain": [
       "  0%|          | 0/100 [00:00<?, ?it/s]"
      ]
     },
     "metadata": {},
     "output_type": "display_data"
    },
    {
     "name": "stdout",
     "output_type": "stream",
     "text": [
      "1.0 1.0\n"
     ]
    }
   ],
   "source": [
    "# Experimentally varify theoretical results\n",
    "success_rate_kNN = []\n",
    "success_rate_r_neigh = []\n",
    "num_iterations = 100\n",
    "\n",
    "for i in range(1,20):\n",
    "    sqrt_m = 50 * i\n",
    "    print(sqrt_m)\n",
    "    avg_kNN = 0\n",
    "    avg_r_neigh = 0\n",
    "    for _ in tqdm(range(num_iterations)):\n",
    "        # Initialize random matrix\n",
    "        A = np.random.normal(0, 1/sqrt_m, size=(sqrt_m**2,5))\n",
    "\n",
    "        # Compare kNN graphs\n",
    "        if compare_kNN_graphs(X=X, A=A, k=5):\n",
    "            avg_kNN +=1\n",
    "        # Compare r-neighborhood graphs\n",
    "        if compare_r_neighborhood_graphs(X=X, A=A,r=0.8):\n",
    "            avg_r_neigh+=1\n",
    "\n",
    "    print(avg_kNN/num_iterations, avg_r_neigh/num_iterations)\n",
    "    success_rate_kNN.append(avg_kNN/num_iterations)\n",
    "    success_rate_r_neigh.append(avg_r_neigh/num_iterations)"
   ]
  },
  {
   "cell_type": "code",
   "execution_count": null,
   "id": "6d3076ad",
   "metadata": {},
   "outputs": [
    {
     "data": {
      "text/plain": [
       "<matplotlib.legend.Legend at 0x11b622990>"
      ]
     },
     "execution_count": 92,
     "metadata": {},
     "output_type": "execute_result"
    },
    {
     "data": {
      "image/png": "[encoded data removed]",
      "text/plain": [
       "<Figure size 640x480 with 1 Axes>"
      ]
     },
     "metadata": {},
     "output_type": "display_data"
    }
   ],
   "source": [
    "# Plot results\n",
    "plt.plot(np.square(np.arange(1,20)* 50), success_rate_kNN, label='kNN Graph')\n",
    "plt.plot(np.square(np.arange(1,20)* 50), success_rate_r_neigh, label='Random Geometric Graph')\n",
    "plt.xscale('log')\n",
    "plt.xlabel('Network width')\n",
    "plt.legend()"
   ]
  }
 ],
 "metadata": {
  "kernelspec": {
   "display_name": ".venv",
   "language": "python",
   "name": "python3"
  },
  "language_info": {
   "codemirror_mode": {
    "name": "ipython",
    "version": 3
   },
   "file_extension": ".py",
   "mimetype": "text/x-python",
   "name": "python",
   "nbconvert_exporter": "python",
   "pygments_lexer": "ipython3",
   "version": "3.11.0"
  }
 },
 "nbformat": 4,
 "nbformat_minor": 5
}
